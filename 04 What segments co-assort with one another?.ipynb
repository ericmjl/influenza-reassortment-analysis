{
 "cells": [
  {
   "cell_type": "code",
   "execution_count": 1,
   "metadata": {
    "collapsed": false
   },
   "outputs": [],
   "source": [
    "import pandas as pd\n",
    "import numpy as np\n",
    "import matplotlib.pyplot as plt\n",
    "import networkx as nx\n",
    "import brewer2mpl\n",
    "import colorsys\n",
    "import math\n",
    "import dendropy as dp\n",
    "import json\n",
    "import pickle as pkl\n",
    "\n",
    "from datetime import datetime\n",
    "from Bio import AlignIO, SeqIO\n",
    "from Bio.SeqRecord import SeqRecord\n",
    "from Bio.Seq import Seq\n",
    "from Levenshtein import distance\n",
    "from itertools import combinations, product, permutations\n",
    "from time import time\n",
    "from __future__ import division\n",
    "from collections import Counter, defaultdict\n",
    "from copy import deepcopy\n",
    "from random import shuffle, choice, sample\n",
    "from scipy.stats.mstats import mquantiles\n",
    "from scipy.stats import norm, expon, poisson, binom\n",
    "from scipy.misc import comb\n",
    "from IPython.display import Math\n",
    "from networkx.readwrite import json_graph \n",
    "\n",
    "%matplotlib inline"
   ]
  },
  {
   "cell_type": "code",
   "execution_count": 2,
   "metadata": {
    "collapsed": false
   },
   "outputs": [],
   "source": [
    "G = nx.read_gpickle('20141103 All IRD Final Graph.pkl')"
   ]
  },
  {
   "cell_type": "code",
   "execution_count": 3,
   "metadata": {
    "collapsed": false
   },
   "outputs": [
    {
     "data": {
      "text/plain": [
       "{1: {2: 0, 3: 0, 4: 0, 5: 0, 6: 0, 7: 0, 8: 0},\n",
       " 2: {3: 0, 4: 0, 5: 0, 6: 0, 7: 0, 8: 0},\n",
       " 3: {4: 0, 5: 0, 6: 0, 7: 0, 8: 0},\n",
       " 4: {5: 0, 6: 0, 7: 0, 8: 0},\n",
       " 5: {6: 0, 7: 0, 8: 0},\n",
       " 6: {7: 0, 8: 0},\n",
       " 7: {8: 0}}"
      ]
     },
     "execution_count": 3,
     "metadata": {},
     "output_type": "execute_result"
    }
   ],
   "source": [
    "segments = range(1,9)\n",
    "coassort_counts = dict()\n",
    "for s1, s2 in combinations(segments, 2):\n",
    "#     print(s1)\n",
    "    if s1 not in coassort_counts.keys():\n",
    "        coassort_counts[s1] = dict()\n",
    "        \n",
    "    coassort_counts[s1][s2] = 0\n",
    "coassort_counts        "
   ]
  },
  {
   "cell_type": "code",
   "execution_count": 4,
   "metadata": {
    "collapsed": false
   },
   "outputs": [],
   "source": [
    "# Code to encode nodes according to reassortant status type\n",
    "for sc, sk, d in G.edges(data=True):\n",
    "    if d['edge_type'] == 'reassortant':\n",
    "        G.node[sk]['node_type'] = 'reassortant'\n",
    "    if d['edge_type'] == 'full_complement':\n",
    "        G.node[sk]['node_type'] = 'full_complement'\n",
    "\n",
    "for n, d in G.nodes(data=True):\n",
    "    if 'node_type' not in d.keys():\n",
    "        G.node[n]['node_type'] = 'source'"
   ]
  },
  {
   "cell_type": "code",
   "execution_count": 5,
   "metadata": {
    "collapsed": false
   },
   "outputs": [],
   "source": [
    "for n, nd in G.nodes(data=True):\n",
    "    coassortment_sets = []\n",
    "    if nd['node_type'] == 'reassortant':\n",
    "        in_edges = G.in_edges(n, data=True)\n",
    "        for _, _, ed in in_edges:\n",
    "            segment_combinations = combinations(ed['segments'].keys(), 2)\n",
    "            for segcomb in segment_combinations:\n",
    "                if set(segcomb) not in coassortment_sets:\n",
    "                    coassortment_sets.append(set(segcomb))\n",
    "    for cs in coassortment_sets:\n",
    "        seg1 = min(cs)\n",
    "        seg2 = max(cs)\n",
    "        coassort_counts[seg1][seg2] += 1"
   ]
  },
  {
   "cell_type": "code",
   "execution_count": 6,
   "metadata": {
    "collapsed": false
   },
   "outputs": [
    {
     "data": {
      "text/plain": [
       "{1: {2: 1112, 3: 1112, 4: 780, 5: 1142, 6: 859, 7: 1126, 8: 1086},\n",
       " 2: {3: 1166, 4: 857, 5: 1167, 6: 869, 7: 1119, 8: 1060},\n",
       " 3: {4: 768, 5: 1211, 6: 718, 7: 1085, 8: 1093},\n",
       " 4: {5: 793, 6: 997, 7: 952, 8: 835},\n",
       " 5: {6: 770, 7: 1146, 8: 1128},\n",
       " 6: {7: 927, 8: 883},\n",
       " 7: {8: 1109}}"
      ]
     },
     "execution_count": 6,
     "metadata": {},
     "output_type": "execute_result"
    }
   ],
   "source": [
    "coassort_counts"
   ]
  },
  {
   "cell_type": "code",
   "execution_count": 7,
   "metadata": {
    "collapsed": false
   },
   "outputs": [],
   "source": [
    "segG = nx.Graph()\n",
    "\n",
    "for seg1 in coassort_counts.keys():\n",
    "    for seg2 in coassort_counts[seg1].keys():\n",
    "        segG.add_edge(seg1, seg2, count=coassort_counts[seg1][seg2])"
   ]
  },
  {
   "cell_type": "code",
   "execution_count": 8,
   "metadata": {
    "collapsed": false
   },
   "outputs": [
    {
     "data": {
      "text/plain": [
       "[(1, 2, {'count': 1112}),\n",
       " (1, 3, {'count': 1112}),\n",
       " (1, 4, {'count': 780}),\n",
       " (1, 5, {'count': 1142}),\n",
       " (1, 6, {'count': 859}),\n",
       " (1, 7, {'count': 1126}),\n",
       " (1, 8, {'count': 1086}),\n",
       " (2, 3, {'count': 1166}),\n",
       " (2, 4, {'count': 857}),\n",
       " (2, 5, {'count': 1167}),\n",
       " (2, 6, {'count': 869}),\n",
       " (2, 7, {'count': 1119}),\n",
       " (2, 8, {'count': 1060}),\n",
       " (3, 4, {'count': 768}),\n",
       " (3, 5, {'count': 1211}),\n",
       " (3, 6, {'count': 718}),\n",
       " (3, 7, {'count': 1085}),\n",
       " (3, 8, {'count': 1093}),\n",
       " (4, 5, {'count': 793}),\n",
       " (4, 6, {'count': 997}),\n",
       " (4, 7, {'count': 952}),\n",
       " (4, 8, {'count': 835}),\n",
       " (5, 6, {'count': 770}),\n",
       " (5, 7, {'count': 1146}),\n",
       " (5, 8, {'count': 1128}),\n",
       " (6, 7, {'count': 927}),\n",
       " (6, 8, {'count': 883}),\n",
       " (7, 8, {'count': 1109})]"
      ]
     },
     "execution_count": 8,
     "metadata": {},
     "output_type": "execute_result"
    }
   ],
   "source": [
    "segG.edges(data=True)"
   ]
  },
  {
   "cell_type": "code",
   "execution_count": 26,
   "metadata": {
    "collapsed": false
   },
   "outputs": [
    {
     "data": {
      "image/png": "[encoded data removed]",
      "text/plain": [
       "<matplotlib.figure.Figure at 0x119bdd310>"
      ]
     },
     "metadata": {},
     "output_type": "display_data"
    }
   ],
   "source": [
    "A = nx.to_numpy_matrix(segG, weight='count')\n",
    "A = pd.DataFrame(A)\n",
    "# A\n",
    "fig = plt.figure(figsize=(2.5, 2))\n",
    "ax = fig.add_subplot(111)\n",
    "heatmap = plt.pcolor(np.triu(A), cmap='YlGnBu')\n",
    "heatmap.set_clim(vmin=min(d['count'] for _, _, d in segG.edges(data=True)), vmax=max(d['count'] for _, _, d in segG.edges(data=True)))\n",
    "plt.colorbar(shrink=0.8)\n",
    "ax.set_xlabel('Segment A')\n",
    "ax.set_ylabel('Segment B')\n",
    "plt.xticks(np.arange(1,9)-0.5, np.arange(1,9))\n",
    "plt.yticks(np.arange(1,9)-0.5, np.arange(1,9))\n",
    "plt.subplots_adjust(bottom=0.18, left=0.05, right=0.9, top=0.9)\n",
    "ax.set_aspect('equal')\n",
    "plt.savefig('Coassortment Frequencies.pdf')\n",
    "\n",
    "A.to_csv('Coassortment Frequencies.csv')\n"
   ]
  },
  {
   "cell_type": "code",
   "execution_count": 9,
   "metadata": {
    "collapsed": false
   },
   "outputs": [],
   "source": []
  },
  {
   "cell_type": "code",
   "execution_count": 9,
   "metadata": {
    "collapsed": false
   },
   "outputs": [],
   "source": []
  }
 ],
 "metadata": {
  "kernelspec": {
   "display_name": "Python 2",
   "language": "python",
   "name": "python2"
  },
  "language_info": {
   "codemirror_mode": {
    "name": "ipython",
    "version": 2
   },
   "file_extension": ".py",
   "mimetype": "text/x-python",
   "name": "python",
   "nbconvert_exporter": "python",
   "pygments_lexer": "ipython2",
   "version": "2.7.9"
  }
 },
 "nbformat": 4,
 "nbformat_minor": 0
}
