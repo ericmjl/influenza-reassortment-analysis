{
 "cells": [
  {
   "cell_type": "code",
   "execution_count": 1,
   "metadata": {
    "collapsed": false
   },
   "outputs": [],
   "source": [
    "import pandas as pd\n",
    "import numpy as np\n",
    "import matplotlib.pyplot as plt\n",
    "import networkx as nx\n",
    "import brewer2mpl\n",
    "import colorsys\n",
    "import math\n",
    "import dendropy as dp\n",
    "import json\n",
    "\n",
    "from datetime import datetime\n",
    "from Bio import AlignIO, SeqIO\n",
    "from Bio.SeqRecord import SeqRecord\n",
    "from Bio.Seq import Seq\n",
    "from Levenshtein import distance\n",
    "from itertools import combinations, product, permutations\n",
    "from time import time\n",
    "from __future__ import division\n",
    "from collections import Counter, defaultdict\n",
    "from copy import deepcopy\n",
    "from random import shuffle, choice, sample\n",
    "from scipy.stats.mstats import mquantiles\n",
    "from scipy.stats import norm, expon, poisson, binom\n",
    "from scipy.misc import comb\n",
    "from IPython.display import Math\n",
    "from networkx.readwrite import json_graph \n",
    "\n",
    "%matplotlib inline"
   ]
  },
  {
   "cell_type": "code",
   "execution_count": 2,
   "metadata": {
    "collapsed": false
   },
   "outputs": [
    {
     "data": {
      "text/plain": [
       "('A/mallard/Interior Alaska/6MP0160AR1/2006',\n",
       " 'A/green-winged teal/Interior Alaska/6MP1077/2006',\n",
       " {'edge_type': 'full_complement',\n",
       "  'pwi': 7.7231860000000001,\n",
       "  'segments': {1: 0.99085800000000002,\n",
       "   2: 0.88994799999999996,\n",
       "   3: 0.90987300000000004,\n",
       "   4: 0.99942500000000001,\n",
       "   5: 0.93408000000000002,\n",
       "   6: 1.0,\n",
       "   7: 0.99900199999999995,\n",
       "   8: 1.0}})"
      ]
     },
     "execution_count": 2,
     "metadata": {},
     "output_type": "execute_result"
    }
   ],
   "source": [
    "G = nx.read_gpickle('20141103 All IRD Final Graph.pkl')\n",
    "G.edges(data=True)[0]"
   ]
  },
  {
   "cell_type": "code",
   "execution_count": 3,
   "metadata": {
    "collapsed": false
   },
   "outputs": [
    {
     "name": "stdout",
     "output_type": "stream",
     "text": [
      "2163\n"
     ]
    }
   ],
   "source": [
    "# Identify the reassortants.\n",
    "reassortant_viruses = []\n",
    "for source, sink, data in G.edges(data=True):\n",
    "    if data['edge_type'] == 'reassortant' and sink not in reassortant_viruses:\n",
    "        reassortant_viruses.append(sink)\n",
    "        \n",
    "print(len(reassortant_viruses))"
   ]
  },
  {
   "cell_type": "code",
   "execution_count": 4,
   "metadata": {
    "collapsed": false
   },
   "outputs": [
    {
     "data": {
      "text/plain": [
       "<matplotlib.text.Text at 0x11775f7d0>"
      ]
     },
     "execution_count": 4,
     "metadata": {},
     "output_type": "execute_result"
    },
    {
     "data": {
      "image/png": "[encoded data removed]",
      "text/plain": [
       "<matplotlib.figure.Figure at 0x100734d50>"
      ]
     },
     "metadata": {},
     "output_type": "display_data"
    }
   ],
   "source": [
    "# Distribution of # of descendents of reassortant viruses.\n",
    "reassortant_successor_counts = []\n",
    "for virus in reassortant_viruses:\n",
    "#     print len(G.successors(virus))\n",
    "    reassortant_successor_counts.append(len(G.successors(virus)))\n",
    "\n",
    "plt.bar(Counter(reassortant_successor_counts).keys(), Counter(reassortant_successor_counts).values())\n",
    "plt.xlabel('Number of Successors')\n",
    "plt.ylabel('Number of Reassortant Isolates')\n",
    "plt.title('Distribution of Number of Successors\\n for Reassortant Viruses')"
   ]
  },
  {
   "cell_type": "code",
   "execution_count": 5,
   "metadata": {
    "collapsed": false
   },
   "outputs": [
    {
     "data": {
      "text/plain": [
       "Counter({0: 919, 1: 429, 2: 288, 3: 146, 4: 118, 5: 60, 6: 50, 7: 30, 11: 21, 8: 20, 10: 17, 9: 13, 12: 11, 13: 10, 16: 6, 15: 5, 14: 3, 17: 2, 19: 2, 20: 2, 22: 2, 18: 1, 24: 1, 25: 1, 26: 1, 30: 1, 45: 1, 187: 1, 73: 1, 74: 1})"
      ]
     },
     "execution_count": 5,
     "metadata": {},
     "output_type": "execute_result"
    }
   ],
   "source": [
    "Counter(reassortant_successor_counts)"
   ]
  },
  {
   "cell_type": "code",
   "execution_count": 12,
   "metadata": {
    "collapsed": false
   },
   "outputs": [
    {
     "data": {
      "text/plain": [
       "['A/New York/3257/2009']"
      ]
     },
     "execution_count": 12,
     "metadata": {},
     "output_type": "execute_result"
    }
   ],
   "source": [
    "# The large outliers are the interesting ones.\n",
    "vois = [v for v in reassortant_viruses if len(G.successors(v)) == 73]\n",
    "vois"
   ]
  },
  {
   "cell_type": "code",
   "execution_count": 13,
   "metadata": {
    "collapsed": false
   },
   "outputs": [
    {
     "name": "stdout",
     "output_type": "stream",
     "text": [
      "['A/Nanchang/8011/2009', 'A/swine/Hong Kong/3065/2010', 'A/Northern Ireland/94940020/2009', 'A/Argentina/9384/2009', 'A/Gunma/262/2009', 'A/swine/Heilongjiang/105/2009', 'A/New York/3611/2009', 'A/New York/3571/2009', 'A/swine/Guangdong/NS2801/2010', 'A/swine/Shandong/361/2010', 'A/Bethesda/SP506/2009', 'A/Argentina/9180/2009', 'A/swine/Shandong/327/2010', 'A/New York/3235/2009', 'A/New York/06/2009', 'A/Argentina/7967/2009', 'A/swine/Jangsu/504/2010', 'A/swine/Jangsu/49/2010', 'A/New York/3167/2009', 'A/Argentina/8994/2009', 'A/New York/3194/2009', 'A/New York/3568/2009', 'A/Argentina/9333/2009', 'A/Argentina/8989/2009', 'A/Lima/WRAIR1696P/2009', 'A/swine/Jangsu/46/2010', 'A/swine/Shandong/94/2010', 'A/Reunion/2378-1-M1E/2009', 'A/Argentina/7980/2009', 'A/Northern Ireland/94940023/2009', 'A/New York/3265/2009', 'A/Argentina/8019/2009', 'A/Argentina/8574/2009', 'A/swine/Jangsu/285/2010', 'A/Shanghai/P1/2009', 'A/Piura/WRAIR1694P/2009', 'A/Nanchang/8002/2009', 'A/swine/Jangsu/434/2010', 'A/England/67/2010', 'A/swine/Nanjing/50/2011', 'A/Nanjing/3/2009', 'A/swine/Jangsu/48/2010', 'A/New York/10/2009', 'A/Argentina/8673/2009', 'A/England/1072/2009', 'A/New York/3625/2009', 'A/Virginia/WRAIR1511P/2009', 'A/Jena/5258/2009', 'A/Guangzhou/GIRD74/2010', 'A/Moscow/WRAIR1627T/2009', 'A/Argentina/7649/2009', 'A/New York/3345/2009', 'A/New York/3260/2009', 'A/Nanchang/8008/2009', 'A/swine/Yunnan/74/2009', 'A/New Jersey/WRAIR1504P/2009', 'A/swine/Jangsu/295/2010', 'A/New York/3529/2009', 'A/Quito/WRAIR0617N/2009', 'A/California/14/2009', 'A/swine/Jangsu/38/2010', 'A/England/92880002/2009', 'A/New York/3214/2009', 'A/Trujillo/WRAIR9309F/2009', 'A/England/93760756/2009', 'A/New York/3364/2009', 'A/Lima/WRAIR8511F/2009', 'A/Shanghai/71T/2009', 'A/New York/3232/2009', 'A/Scotland/Glasgow_412313/2009', 'A/Guangdong/03/2009', 'A/Hungary/40/2009', 'A/New York/3206/2009']\n"
     ]
    }
   ],
   "source": [
    "for v in vois:\n",
    "    print(G.successors(v))"
   ]
  },
  {
   "cell_type": "code",
   "execution_count": 14,
   "metadata": {
    "collapsed": false
   },
   "outputs": [],
   "source": [
    "def get_subtypes(graph):\n",
    "    subtypes = set()\n",
    "    for node, data in graph.nodes(data=True):\n",
    "        subtypes.add(data['subtype'])\n",
    "        \n",
    "    return subtypes"
   ]
  },
  {
   "cell_type": "code",
   "execution_count": 15,
   "metadata": {
    "collapsed": false
   },
   "outputs": [
    {
     "name": "stdout",
     "output_type": "stream",
     "text": [
      "set(['H7N6', 'H10N8', 'H10N9', 'H10N1', 'H10N2', 'H10N3', 'H10N4', 'H10N5', 'H10N6', 'H10N7', 'H2N4', 'H2N5', 'H2N6', 'H2N7', 'H2N1', 'H2N2', 'H2N3', 'H2N8', 'H2N9', 'H8N8', 'H6N4', 'H8N4', 'H8N2', 'H8N1', 'H6N6', 'Mixed', 'H9N8', 'H5N7', 'H4N3', 'mixed', 'H5N4', 'H4N6', 'H11N7', 'H5N2', 'H3N9', 'H3N8', 'H12N9', 'H4N4', 'H3N1', 'H3N3', 'H3N2', 'H3N5', 'H3N7', 'H3N6', 'H4N8', 'H4N9', 'H5N9', 'H5N8', 'H4N2', 'H5N6', 'H5N5', 'H4N1', 'H5N3', 'H4N7', 'H5N1', 'H4N5', 'H6N8', 'H6N9', 'H7N9', 'H7N8', 'H7N5', 'H6N1', 'H6N2', 'H6N3', 'H7N1', 'H6N5', 'H7N3', 'H7N2', 'H12N6', 'H12N7', 'H7N4', 'H7N7', 'H1N9', 'H1N8', 'H1N3', 'H1N2', 'H1N1', 'H1N7', 'H1N6', 'H1N5', 'H1N4', 'H9N3', 'H9N2', 'H9N1', 'H9N7', 'H9N6', 'H9N5', 'H9N9', 'H6N7', 'H12N8', 'H11N6', 'H11N1', 'H11N3', 'H11N2', 'H12N2', 'H12N3', 'H12N1', 'H11N9', 'H11N8', 'H12N4', 'H12N5', 'H16N3', 'H15N9', 'H14N6', 'H15N4', 'H14N2', 'H13N6', 'H13N2', 'H13N9', 'H13N8'])\n",
      "16508\n",
      "set(['H3N8'])\n",
      "56\n",
      "set(['H6N1'])\n",
      "1\n",
      "set(['H10N2'])\n",
      "1\n",
      "set(['H3N8'])\n",
      "1\n",
      "set(['H13N6'])\n",
      "1\n",
      "set(['H10N7'])\n",
      "1\n",
      "set(['H7N5'])\n",
      "1\n",
      "set(['H2N1'])\n",
      "1\n",
      "set(['H3N2'])\n",
      "1\n",
      "set(['H10N7'])\n",
      "1\n",
      "set(['H3N8'])\n",
      "2\n",
      "set(['H11N7'])\n",
      "1\n",
      "set(['H3N2'])\n",
      "1\n",
      "set(['H3N8'])\n",
      "1\n",
      "set(['H6N1'])\n",
      "1\n",
      "set(['H3N2'])\n",
      "1\n",
      "set(['H3N8'])\n",
      "1\n",
      "set(['H4N8'])\n",
      "1\n",
      "set(['H10N2'])\n",
      "1\n",
      "set(['H1N1'])\n",
      "1\n",
      "set(['H4N3'])\n",
      "1\n",
      "set(['H11N7'])\n",
      "1\n"
     ]
    }
   ],
   "source": [
    "subgraphs = [g for g in nx.connected_component_subgraphs(G.to_undirected())]\n",
    "for g in subgraphs:\n",
    "    print(get_subtypes(g))\n",
    "    print(len(g.nodes()))"
   ]
  },
  {
   "cell_type": "code",
   "execution_count": 26,
   "metadata": {
    "collapsed": false
   },
   "outputs": [],
   "source": [
    "# When did do the reassortant viruses show up in each of the subgraphs?\n",
    "unlinkedG = nx.read_gpickle('20141103 All IRD Parallel Transmission Graph Non-Same Subtypes Removed.pkl')\n",
    "\n",
    "def get_subgraph_with_node(subgraph_list, node):\n",
    "    for g in subgraph_list:\n",
    "        if node in g.nodes():\n",
    "            return g\n",
    "\n",
    "        \n",
    "def get_node_time_range(graph):\n",
    "    times = [d['collection_date'] for n, d in graph.nodes(data=True)]\n",
    "    \n",
    "    times = sorted(times)\n",
    "    \n",
    "    return times\n",
    "\n",
    "def get_graph_subtypes(graph):\n",
    "    subtypes_represented = set()\n",
    "    \n",
    "    for node, data in graph.nodes(data=True):\n",
    "        subtypes_represented.add(data['subtype'])\n",
    "        \n",
    "    return subtypes_represented\n",
    "    \n",
    "num_nodes_data = list()\n",
    "time_span_data = list()\n",
    "    \n",
    "for i, g in enumerate(nx.connected_component_subgraphs(unlinkedG.to_undirected())):\n",
    "    times = get_node_time_range(g)\n",
    "    earliest_time = min(times)\n",
    "    latest_time = max(times)\n",
    "    time_span = (latest_time - earliest_time).days\n",
    "    subtypes_represented = get_graph_subtypes(g)\n",
    "    num_nodes = len(g.nodes())\n",
    "    \n",
    "    num_nodes_data.append(num_nodes)\n",
    "    time_span_data.append(time_span)"
   ]
  },
  {
   "cell_type": "code",
   "execution_count": 28,
   "metadata": {
    "collapsed": false
   },
   "outputs": [
    {
     "data": {
      "text/plain": [
       "<matplotlib.text.Text at 0x11aeaf690>"
      ]
     },
     "execution_count": 28,
     "metadata": {},
     "output_type": "execute_result"
    },
    {
     "data": {
      "image/png": "[encoded data removed]",
      "text/plain": [
       "<matplotlib.figure.Figure at 0x11e5b3b50>"
      ]
     },
     "metadata": {},
     "output_type": "display_data"
    }
   ],
   "source": [
    "plt.scatter(num_nodes_data, time_span_data)\n",
    "plt.xlabel('Number of Nodes')\n",
    "plt.ylabel('Time Span (Days)')\n",
    "plt.title('Number of Nodes & Time Span of Subgraphs')"
   ]
  },
  {
   "cell_type": "code",
   "execution_count": null,
   "metadata": {
    "collapsed": false
   },
   "outputs": [],
   "source": []
  }
 ],
 "metadata": {
  "kernelspec": {
   "display_name": "Python 2",
   "language": "python",
   "name": "python2"
  }
 },
 "nbformat": 4,
 "nbformat_minor": 0
}
