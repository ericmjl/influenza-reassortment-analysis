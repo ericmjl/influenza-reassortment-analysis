{
 "cells": [
  {
   "cell_type": "code",
   "execution_count": 1,
   "metadata": {
    "collapsed": false
   },
   "outputs": [],
   "source": [
    "import networkx as nx\n",
    "import pandas as pd\n",
    "import numpy as np\n",
    "\n",
    "import matplotlib.pyplot as plt\n",
    "\n",
    "%matplotlib inline"
   ]
  },
  {
   "cell_type": "code",
   "execution_count": 2,
   "metadata": {
    "collapsed": false
   },
   "outputs": [],
   "source": [
    "def golden_figsize(height):\n",
    "    \"\"\"\n",
    "    Assuming height dimension is the shorter one, the width should be:\n",
    "    (1 + 5**0.5)/2\n",
    "    \n",
    "    This function thus returns the (width, height) tuple which is\n",
    "    computed to be in a golden ratio.\n",
    "    \"\"\"\n",
    "    width = height * (1 + 5**0.5) / 2\n",
    "    return (width, height)"
   ]
  },
  {
   "cell_type": "code",
   "execution_count": 3,
   "metadata": {
    "collapsed": false
   },
   "outputs": [],
   "source": [
    "G = nx.read_gpickle('20141103 All IRD Final Graph.pkl')"
   ]
  },
  {
   "cell_type": "code",
   "execution_count": 5,
   "metadata": {
    "collapsed": false
   },
   "outputs": [],
   "source": [
    "# Add in ecotype information\n",
    "\n",
    "# Load the data\n",
    "df = pd.read_csv('Country-Species_coded.csv', index_col=0)\n",
    "df['Habitat/setting'] = df['Habitat/setting'].replace('Domestic ', 'Domestic')\n",
    "# Make it into a dicitonary where each entry is (country, species):habitat/setting\n",
    "ecotype_map = dict()\n",
    "\n",
    "for row, data in df.iterrows():\n",
    "    country = data['Country']\n",
    "    species = data['Species']\n",
    "    ecotype = data['Habitat/setting']\n",
    "\n",
    "    ecotype_map[(country, species)] = ecotype\n",
    "\n",
    "# Add the ecotype into each node.\n",
    "for n, d in G.nodes(data=True):\n",
    "    country = d['country']\n",
    "    species = d['host_species']\n",
    "    if '/' in species:\n",
    "        species = species.split('/')[0]\n",
    "    if 'null' in species:\n",
    "        species = 'Unknown'\n",
    "\n",
    "\n",
    "    \n",
    "    G.node[n]['ecotype'] = ecotype_map[(country, species)]"
   ]
  },
  {
   "cell_type": "code",
   "execution_count": 6,
   "metadata": {
    "collapsed": false
   },
   "outputs": [],
   "source": [
    "def correct_metadata(G, node):\n",
    "    \"\"\"\n",
    "    Helper function for providing the correct subtype graph metadata.    \n",
    "    \"\"\"\n",
    "    d = G.node[node]\n",
    "    subtype = d['subtype']\n",
    "    ecotype = d['ecotype']\n",
    "    host = d['host_species']\n",
    "    if ecotype == 'Unknown':\n",
    "        ecotype = 'W'\n",
    "    if host == 'Human':\n",
    "        ecotype = 'H'\n",
    "    if ecotype == 'Domestic':\n",
    "        ecotype = 'D'\n",
    "    if ecotype == 'Wild':\n",
    "        ecotype = 'W'\n",
    "    subtype = subtype + '_' + ecotype\n",
    "    \n",
    "    return ecotype, subtype, host\n",
    "    "
   ]
  },
  {
   "cell_type": "code",
   "execution_count": 7,
   "metadata": {
    "collapsed": false
   },
   "outputs": [],
   "source": [
    "from collections import Counter\n",
    "tcounter = Counter()\n",
    "# Plot the number of ecotype jumps detected.\n",
    "for sc, sk, d in G.edges(data=True):\n",
    "    if d['edge_type'] == 'reassortant':\n",
    "        sc_ecotype, sc_subtype, sc_host = correct_metadata(G, sc)\n",
    "        sk_ecotype, sk_subtype, sk_host = correct_metadata(G, sk)\n",
    "\n",
    "        transition = sc_ecotype + '::' + sk_ecotype\n",
    "        tcounter[transition] += 1"
   ]
  },
  {
   "cell_type": "code",
   "execution_count": 8,
   "metadata": {
    "collapsed": false
   },
   "outputs": [
    {
     "data": {
      "text/plain": [
       "Counter({'W::W': 3581, 'D::D': 906, 'W::D': 486, 'D::H': 399, 'D::W': 220, 'H::H': 123, 'H::D': 122, 'W::H': 70, 'H::W': 2})"
      ]
     },
     "execution_count": 8,
     "metadata": {},
     "output_type": "execute_result"
    }
   ],
   "source": [
    "tcounter"
   ]
  },
  {
   "cell_type": "code",
   "execution_count": 9,
   "metadata": {
    "collapsed": false
   },
   "outputs": [
    {
     "data": {
      "image/png": "[encoded data removed]",
      "text/plain": [
       "<matplotlib.figure.Figure at 0x118841190>"
      ]
     },
     "metadata": {},
     "output_type": "display_data"
    }
   ],
   "source": [
    "# Plot the data as a bar graph, using the same order as in the Intersubtype Interactions at Ecotype Interfaces\n",
    "\"\"\"\n",
    "Order desired:\n",
    "1. Wild->Wild\n",
    "2. Wild->Domestic\n",
    "3. Domestic->Domestic\n",
    "4. Domestic->Wild\n",
    "5. Human->Domestic\n",
    "6. Human->Human\n",
    "7. Wild->Human\n",
    "8. Domestic->Human\n",
    "9. Human->Wild\n",
    "\"\"\"\n",
    "data_order = ['W::W',\n",
    "              'W::D',\n",
    "              'D::D',\n",
    "              'D::W',\n",
    "              'H::D',\n",
    "              'H::H',\n",
    "              'W::H',\n",
    "              'D::H',\n",
    "              'H::W']\n",
    "\n",
    "bar_heights = [tcounter[i] for i in data_order]\n",
    "xs = [i for i, n in enumerate(bar_heights)]\n",
    "\n",
    "fig = plt.figure(figsize=(3, 1.5))\n",
    "ax1 = fig.add_subplot(1,1,1) #background ax\n",
    "ax2 = fig.add_subplot(2,1,1) #top ax\n",
    "ax3 = fig.add_subplot(2,1,2) #bottom ax\n",
    "\n",
    "# Set unnecessary things to be invisible.\n",
    "ax1.xaxis.set_visible(False)\n",
    "ax1.yaxis.set_ticks([])\n",
    "ax2.xaxis.set_visible(False)\n",
    "ax1.spines['left'].set_visible(False)\n",
    "ax1.spines['right'].set_visible(False)\n",
    "ax2.spines['bottom'].set_visible(False)\n",
    "ax3.spines['top'].set_visible(False)\n",
    "\n",
    "# Set plotting parameters\n",
    "ax3.set_xticks(np.arange(0, len(xs)))\n",
    "ax2.set_xticks(np.arange(0, len(xs)))\n",
    "ax3.xaxis.set_ticklabels(data_order, rotation=30, ha='right')\n",
    "ax2.xaxis.tick_top()\n",
    "ax3.xaxis.tick_bottom()\n",
    "\n",
    "# Set the y-limits on top and bottom plots\n",
    "ax2.set_ylim(300, 3601)\n",
    "ax2.set_yticks(np.arange(300, 3601, 900))\n",
    "ax3.set_ylim(0, 250)\n",
    "ax3.set_yticks(np.arange(0, 251, 75))\n",
    "\n",
    "# Plot the bar charts\n",
    "import matplotlib.colors as colors\n",
    "ax2.bar(xs, bar_heights, align='center', color=colors.hex2color('#AA4639'))\n",
    "ax3.bar(xs, bar_heights, align='center', color=colors.hex2color('#AA4639'))\n",
    "\n",
    "# Add in diagonal lines\n",
    "d = .015 # how big to make the diagonal lines in axes coordinates\n",
    "# arguments to pass plot, just so we don't keep repeating them\n",
    "kwargs = dict(transform=ax2.transAxes, color='k', clip_on=False)\n",
    "ax2.plot((-d,+d),(-d,+d), **kwargs)      # bottom-left diagonal\n",
    "ax2.plot((1-d,1+d),(-d,+d), **kwargs)    # bottom-right diagonal\n",
    "\n",
    "kwargs.update(transform=ax3.transAxes)  # switch to the bottom axes\n",
    "ax3.plot((-d,+d),(1-d,1+d), **kwargs)   # top-left diagonal\n",
    "ax3.plot((1-d,1+d),(1-d,1+d), **kwargs) # top-right diagonal\n",
    "ax1.set_ylabel('Num. Interactions\\n\\n\\n')\n",
    "# ax2.set_title('Ecotype Interaction Counts')\n",
    "\n",
    "ax1.annotate('g.', xy=(0,1), xycoords='figure fraction', va='top', ha='left')\n",
    "plt.subplots_adjust(left=0.22, right=0.95, bottom=0.18, top=0.95)\n",
    "plt.savefig('Ecotype Interaction Counts.pdf')"
   ]
  },
  {
   "cell_type": "code",
   "execution_count": 10,
   "metadata": {
    "collapsed": false
   },
   "outputs": [],
   "source": [
    "# Of interest are the reverse zoonosis events, where human ecotype jumps back into wild or domestic animal ecotype.\n",
    "# What's the list of such ecotype jumps?\n",
    "\n",
    "rz_events = [] # reverse zoonosis events\n",
    "rz_subtypes = [] # subtypes involved in reverse_zoonosis\n",
    "rz_hosts = [] # hosts involved in reverse zoonosis\n",
    "rz_dates = [] # time stamps involved in reverse zoonosis\n",
    "rz_timedeltas = [] # time deltas in reverse zoonosis\n",
    "\n",
    "for sc, sk, d in G.edges(data=True):\n",
    "    sc_ecotype, sc_subtype, sc_host = correct_metadata(G, sc)\n",
    "    sk_ecotype, sk_subtype, sk_host = correct_metadata(G, sk)\n",
    "    \n",
    "    sc_date = G.node[sc]['collection_date']\n",
    "    sk_date = G.node[sk]['collection_date']\n",
    "    \n",
    "    if sc_ecotype == 'H' and sk_ecotype != 'H':\n",
    "        rz_events.append((sc, sk))\n",
    "        rz_subtypes.append((sc_subtype, sk_subtype))\n",
    "        rz_hosts.append((sc_host, sk_host))\n",
    "        rz_dates.append((sc_date, sk_date))\n",
    "        rz_timedeltas.append(sk_date - sc_date)"
   ]
  },
  {
   "cell_type": "code",
   "execution_count": 11,
   "metadata": {
    "collapsed": false
   },
   "outputs": [
    {
     "data": {
      "text/plain": [
       "Counter({('Human', 'Swine'): 640, ('Human', 'Chicken/Avian'): 33, ('Human', 'Duck/Avian'): 10, ('Human', 'Dog'): 8, ('Human', 'Environment'): 7, ('Human', 'Pigeon/Avian'): 4, ('Human', 'Muscovy Duck/Avian'): 3, ('Human', 'Green-Winged Teal/Avian'): 3, ('Human', 'Turkey/Avian'): 2, ('Human', 'null'): 2, ('Human', 'Mallard/Avian'): 2, ('Human', 'Ferret'): 1, ('Human', 'Panda'): 1, ('Human', 'Goose/Avian'): 1, ('Human', 'Little Egret/Avian'): 1, ('Human', 'Grey Heron/Avian'): 1})"
      ]
     },
     "execution_count": 11,
     "metadata": {},
     "output_type": "execute_result"
    }
   ],
   "source": [
    "Counter(rz_hosts)"
   ]
  },
  {
   "cell_type": "code",
   "execution_count": 12,
   "metadata": {
    "collapsed": false
   },
   "outputs": [
    {
     "data": {
      "text/plain": [
       "(array([ 584.,   93.,   25.,    2.,    5.,    2.,    2.,    1.,    1.,    4.]),\n",
       " array([  1.00000000e+00,   6.60300000e+02,   1.31960000e+03,\n",
       "          1.97890000e+03,   2.63820000e+03,   3.29750000e+03,\n",
       "          3.95680000e+03,   4.61610000e+03,   5.27540000e+03,\n",
       "          5.93470000e+03,   6.59400000e+03]),\n",
       " <a list of 10 Patch objects>)"
      ]
     },
     "execution_count": 12,
     "metadata": {},
     "output_type": "execute_result"
    },
    {
     "data": {
      "image/png": "[encoded data removed]",
      "text/plain": [
       "<matplotlib.figure.Figure at 0x1188410d0>"
      ]
     },
     "metadata": {},
     "output_type": "display_data"
    }
   ],
   "source": [
    "plt.hist([i.days for i in rz_timedeltas])"
   ]
  },
  {
   "cell_type": "code",
   "execution_count": 13,
   "metadata": {
    "collapsed": false
   },
   "outputs": [
    {
     "data": {
      "text/plain": [
       "Counter({('H1N1_H', 'H1N1_D'): 555, ('H3N2_H', 'H3N2_D'): 38, ('H5N1_H', 'H5N1_D'): 24, ('H1N1_H', 'H1N2_D'): 22, ('H7N9_H', 'H7N9_D'): 19, ('H1N1_H', 'H3N2_D'): 19, ('H7N9_H', 'H7N9_W'): 9, ('H1N1_H', 'H3N1_D'): 8, ('H5N1_H', 'H5N1_W'): 7, ('H1N2_H', 'H1N2_D'): 3, ('H7N9_H', 'H9N9_D'): 3, ('H3N2_H', 'H1N2_D'): 3, ('H1N1_H', 'H1N1_W'): 3, ('H1N2_H', 'H1N1_D'): 2, ('H7N3_H', 'H3N8_W'): 2, ('H1N1_H', 'H9N2_D'): 1, ('H9N2_H', 'H9N2_D'): 1})"
      ]
     },
     "execution_count": 13,
     "metadata": {},
     "output_type": "execute_result"
    }
   ],
   "source": [
    "Counter(rz_subtypes)"
   ]
  },
  {
   "cell_type": "code",
   "execution_count": 14,
   "metadata": {
    "collapsed": false
   },
   "outputs": [],
   "source": [
    "def correct_ecotype(G, node):\n",
    "    ecotype = G.node[node]['ecotype']\n",
    "    host = G.node[node]['host_species']\n",
    "    \n",
    "    if ecotype in ['Unknown', 'unknown']:\n",
    "        ecotype = 'Wild'\n",
    "    if host == 'Human':\n",
    "        ecotype = 'Human'\n",
    "    return ecotype"
   ]
  },
  {
   "cell_type": "code",
   "execution_count": 15,
   "metadata": {
    "collapsed": false
   },
   "outputs": [
    {
     "name": "stdout",
     "output_type": "stream",
     "text": [
      "208\n"
     ]
    },
    {
     "data": {
      "image/png": "[encoded data removed]",
      "text/plain": [
       "<matplotlib.figure.Figure at 0x11b79d2d0>"
      ]
     },
     "metadata": {},
     "output_type": "display_data"
    }
   ],
   "source": [
    "# Let's create a figure for this. The figure will be a 2\" x 3\" panel, highlighting only the reverse zoonosis events.\n",
    "# The nodes on the left will be wild animal isolates, and the nodes on the right will be domestic animal isolates.\n",
    "# Human nodes will take the center portion.\n",
    "\n",
    "# The nodes will be colored in the same way as on the hive plots: red for human, green for domestic animals, and blue for \n",
    "# wild animal.\n",
    "\n",
    "# The edges will be colored in the same way as on the hive plots: blue for different subtype interactions, and green for #\n",
    "# same subtype interactions.\n",
    "\n",
    "fig = plt.figure(figsize=(2,3))\n",
    "ax = fig.add_subplot(111)\n",
    "\n",
    "nodes = dict()\n",
    "nodes['Wild'] = []\n",
    "nodes['Human'] = []\n",
    "nodes['Domestic'] = []\n",
    "\n",
    "edges = dict()\n",
    "edges['Human-Wild'] = []\n",
    "edges['Human-Domestic'] = []\n",
    "\n",
    "for sc, sk, d in G.edges(data=True):\n",
    "    \n",
    "    sc_ecotype = correct_ecotype(G, sc)\n",
    "    sk_ecotype = correct_ecotype(G, sk)\n",
    "    \n",
    "    if sc_ecotype == 'Human' and sk_ecotype != 'Human':\n",
    "    \n",
    "        if sc not in nodes[sc_ecotype]:\n",
    "            nodes[sc_ecotype].append(sc)\n",
    "        if sk not in nodes[sk_ecotype]:\n",
    "            nodes[sk_ecotype].append(sk)\n",
    "    \n",
    "        ecotype_transition = '{0}-{1}'.format(sc_ecotype, sk_ecotype)\n",
    "        \n",
    "        edges[ecotype_transition].append((sc, sk))\n",
    "\n",
    "# Sort the items by subtype\n",
    "for k, v in nodes.items():\n",
    "    nodes[k] = sorted(v, key=lambda x:G.node[x]['subtype'])\n",
    "    \n",
    "# Scale factor\n",
    "scale = 2\n",
    "maxnum = max([len(v) for k, v in nodes.items()])\n",
    "node_radius = 1\n",
    "print(maxnum)\n",
    "\n",
    "# Wild goes on top\n",
    "ax.set_xlim(-12*node_radius, maxnum + node_radius + 10)\n",
    "ax.set_ylim(-12*node_radius, maxnum + node_radius + 10)\n",
    "for i, node in enumerate(nodes['Wild']):\n",
    "    xpos = float(i + 1)\n",
    "    ypos = maxnum - node_radius\n",
    "    c = plt.Circle(xy=(xpos, ypos), radius=node_radius, color='blue')\n",
    "    ax.add_patch(c)\n",
    "    \n",
    "# Next comes Humans\n",
    "for i, node in enumerate(nodes['Human']):\n",
    "    xpos = float(i + 1)\n",
    "    ypos = maxnum * 0.5\n",
    "    c = plt.Circle(xy=(xpos, ypos), radius=node_radius, color='red')\n",
    "    ax.add_patch(c)\n",
    "    \n",
    "# Finally comes Domestic animals\n",
    "for i, node in enumerate(nodes['Domestic']):\n",
    "    xpos = float(i + 1)\n",
    "    ypos = node_radius\n",
    "    c = plt.Circle(xy=(xpos, ypos), radius=node_radius, color='green')\n",
    "    ax.add_patch(c)\n",
    "\n",
    "# Plot each edge as a straight line.\n",
    "for tset, edgelist in edges.items():\n",
    "    if tset == 'Human-Wild':\n",
    "        ys = [maxnum*0.5, maxnum-node_radius]\n",
    "    if tset == 'Human-Domestic':\n",
    "        ys = [maxnum*0.5, node_radius]\n",
    "        \n",
    "    for edge in edgelist:\n",
    "        sc, sk = edge\n",
    "        if tset == 'Human-Wild':\n",
    "            xs = [nodes['Human'].index(sc), nodes['Wild'].index(sk)]\n",
    "        if tset == 'Human-Domestic':\n",
    "            xs = [nodes['Human'].index(sc), nodes['Domestic'].index(sk)]\n",
    "        sc_subtype = G.node[sc]['subtype']\n",
    "        sk_subtype = G.node[sk]['subtype']\n",
    "\n",
    "        if sc_subtype == sk_subtype:\n",
    "            color='green'\n",
    "        else:\n",
    "            color='blue'\n",
    "\n",
    "        plt.plot(xs, ys, color=color, alpha=0.1, zorder=0)\n",
    "\n",
    "# Annotate in the W, H or D labels to the left of each axis.\n",
    "ax.annotate('W', xy=(-10*node_radius, maxnum-node_radius), xycoords='data', ha='right', va='center')\n",
    "ax.annotate('H', xy=(-10*node_radius, maxnum*0.5), xycoords='data', ha='right', va='center')\n",
    "ax.annotate('D', xy=(-10*node_radius, node_radius), xycoords='data', ha='right', va='center')\n",
    "\n",
    "# Add in two arrows to indicate the flow of sequences.\n",
    "ax.arrow(-10,maxnum*0.5+10, 0,maxnum*1/10, fc='k', ec='k', head_width=node_radius*2, head_length=node_radius*3, lw=node_radius/float(2))\n",
    "ax.arrow(-10,maxnum*0.5-10, 0,-maxnum*1/10, fc='k', ec='k', head_width=node_radius*2, head_length=node_radius*3, lw=node_radius/float(2))\n",
    "\n",
    "# Annotate the sub-figure letter.\n",
    "ax.annotate('b.', xy=(0,1), xycoords='figure fraction', ha='left', va='top')\n",
    "\n",
    "# Remove all spines from the axes object, and set x/y-ticks to be absent.\n",
    "for spine in ax.spines.keys():\n",
    "    ax.spines[spine].set_visible(False)\n",
    "ax.set_xticks([])\n",
    "ax.set_yticks([])\n",
    "    \n",
    "plt.savefig('Reverse Zoonosis.pdf')"
   ]
  },
  {
   "cell_type": "code",
   "execution_count": 14,
   "metadata": {
    "collapsed": false
   },
   "outputs": [],
   "source": []
  }
 ],
 "metadata": {
  "kernelspec": {
   "display_name": "Python 2",
   "language": "python",
   "name": "python2"
  },
  "language_info": {
   "codemirror_mode": {
    "name": "ipython",
    "version": 2
   },
   "file_extension": ".py",
   "mimetype": "text/x-python",
   "name": "python",
   "nbconvert_exporter": "python",
   "pygments_lexer": "ipython2",
   "version": "2.7.9"
  }
 },
 "nbformat": 4,
 "nbformat_minor": 0
}
