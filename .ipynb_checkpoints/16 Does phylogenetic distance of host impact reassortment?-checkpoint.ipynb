{
 "cells": [
  {
   "cell_type": "code",
   "execution_count": 1,
   "metadata": {
    "collapsed": false
   },
   "outputs": [],
   "source": [
    "import pandas as pd\n",
    "from Bio.Seq import Seq\n",
    "from Bio.SeqRecord import SeqRecord\n",
    "from Bio.Align.Applications import ClustalOmegaCommandline\n",
    "from Bio import AlignIO, SeqIO\n",
    "from collections import Counter\n",
    "from Bio.Align import MultipleSeqAlignment\n",
    "from random import shuffle\n",
    "from copy import copy"
   ]
  },
  {
   "cell_type": "code",
   "execution_count": 2,
   "metadata": {
    "collapsed": false
   },
   "outputs": [],
   "source": [
    "hosts_18s = pd.read_csv('hosts_with_classification-NH_EM_mods.csv', index_col='Species')\n",
    "hosts_18s.fillna(0, inplace=True)"
   ]
  },
  {
   "cell_type": "code",
   "execution_count": 3,
   "metadata": {
    "collapsed": false
   },
   "outputs": [],
   "source": [
    "# # I have manually curated the scientific name with Barcode of Life COI5P sequence data.\n",
    "# from Bio.SeqRecord import SeqRecord\n",
    "# from Bio.Seq import Seq\n",
    "# from Bio.Alphabet import NucleotideAlphabet\n",
    "# host_sequence = dict()\n",
    "# for row, data in hosts_18s.iterrows():\n",
    "#     host = row\n",
    "#     if data['Sequence'] != 0:\n",
    "#         sequence = Seq(str(data['Sequence']), alphabet=NucleotideAlphabet)\n",
    "#         sequence = sequence.ungap('\\n')\n",
    "#         sequence = sequence.ungap(' ')\n",
    "#         sequence = sequence.ungap('-')\n",
    "#         sequence = sequence.ungap('\\r')\n",
    "#         id = '{0}'.format(row.replace(' ', '_'))\n",
    "#         host_sequence[host] = SeqRecord(sequence, id=id, name=id, description=id)"
   ]
  },
  {
   "cell_type": "code",
   "execution_count": 4,
   "metadata": {
    "collapsed": false
   },
   "outputs": [],
   "source": [
    "# from Bio import SeqIO\n",
    "# # Write the sequences to disk.\n",
    "# SeqIO.write(host_sequence.values(), 'host_COI5P.fasta', 'fasta')\n",
    "# # host_sequence"
   ]
  },
  {
   "cell_type": "code",
   "execution_count": 5,
   "metadata": {
    "collapsed": false
   },
   "outputs": [
    {
     "name": "stdout",
     "output_type": "stream",
     "text": [
      "clustalo -i host_COI_unaligned.fasta -o host_COI_aligned.fasta -v --force\n"
     ]
    }
   ],
   "source": [
    "infile = 'host_COI_unaligned.fasta'\n",
    "outfile = 'host_COI_aligned.fasta'\n",
    "\n",
    "cline = ClustalOmegaCommandline(infile=infile, outfile=outfile, verbose=True, force=True)\n",
    "print(cline)\n",
    "# Run this from a separate terminal window. Should be fast <2 min on a modern computer."
   ]
  },
  {
   "cell_type": "code",
   "execution_count": 6,
   "metadata": {
    "collapsed": false
   },
   "outputs": [
    {
     "data": {
      "text/plain": [
       "<<class 'Bio.Align.MultipleSeqAlignment'> instance (105 records of length 1554, SingleLetterAlphabet()) at 10fa09b10>"
      ]
     },
     "execution_count": 6,
     "metadata": {},
     "output_type": "execute_result"
    }
   ],
   "source": [
    "coi5p_aln = AlignIO.read('host_COI_aligned.fasta', 'fasta')\n",
    "coi5p_aln"
   ]
  },
  {
   "cell_type": "code",
   "execution_count": 7,
   "metadata": {
    "collapsed": false
   },
   "outputs": [
    {
     "data": {
      "text/plain": [
       "[<matplotlib.lines.Line2D at 0x1125ae850>]"
      ]
     },
     "execution_count": 7,
     "metadata": {},
     "output_type": "execute_result"
    },
    {
     "data": {
      "image/png": "[encoded data removed]",
      "text/plain": [
       "<matplotlib.figure.Figure at 0x1108a4110>"
      ]
     },
     "metadata": {},
     "output_type": "display_data"
    }
   ],
   "source": [
    "\n",
    "# Plot the number of gaps by position\n",
    "# I will concatenate all positions that have zero gaps in them. This should span > 500 n.t.\n",
    "\n",
    "num_gaps_threshold = 3\n",
    "\n",
    "num_gaps = []\n",
    "good_positions = []\n",
    "for pos in range(coi5p_aln.get_alignment_length()):\n",
    "    ntcounts = Counter(coi5p_aln[:,pos])\n",
    "    if ntcounts['-'] < num_gaps_threshold:\n",
    "        good_positions.append(pos)\n",
    "    if '-' in ntcounts.keys():\n",
    "        num_gaps.append(ntcounts['-'])\n",
    "    else:\n",
    "        num_gaps.append(0)\n",
    "        \n",
    "import matplotlib.pyplot as plt\n",
    "%matplotlib inline\n",
    "fig = plt.figure()\n",
    "plt.scatter(range(len(num_gaps)), num_gaps)\n",
    "plt.plot(num_gaps)"
   ]
  },
  {
   "cell_type": "code",
   "execution_count": 8,
   "metadata": {
    "collapsed": false
   },
   "outputs": [
    {
     "data": {
      "text/plain": [
       "615"
      ]
     },
     "execution_count": 8,
     "metadata": {},
     "output_type": "execute_result"
    }
   ],
   "source": [
    "len(good_positions)"
   ]
  },
  {
   "cell_type": "code",
   "execution_count": 9,
   "metadata": {
    "collapsed": false
   },
   "outputs": [
    {
     "data": {
      "text/plain": [
       "105"
      ]
     },
     "execution_count": 9,
     "metadata": {},
     "output_type": "execute_result"
    }
   ],
   "source": [
    "# Hacked code: iterate over every sequence, grab out only the letters in the good positions, and create new seqrecord.\n",
    "trimmed_alignment_list = []\n",
    "for s in coi5p_aln:\n",
    "    trimmed_seq = ''\n",
    "    for pos in good_positions:\n",
    "        trimmed_seq += s[pos]\n",
    "    trimmed_seq = Seq(trimmed_seq)\n",
    "    trimmed_seqrecord = SeqRecord(trimmed_seq, id=s.id, description='')\n",
    "    trimmed_alignment_list.append(trimmed_seqrecord)\n",
    "    \n",
    "trimmed_alignment = MultipleSeqAlignment(trimmed_alignment_list)\n",
    "\n",
    "SeqIO.write(trimmed_alignment, 'host_COI5P_trimmed_alignment.fasta', 'fasta')\n",
    "SeqIO.write(trimmed_alignment, 'host_COI5P_trimmed_alignment.phylip', 'phylip')"
   ]
  },
  {
   "cell_type": "code",
   "execution_count": 10,
   "metadata": {
    "collapsed": false
   },
   "outputs": [
    {
     "data": {
      "text/plain": [
       "105"
      ]
     },
     "execution_count": 10,
     "metadata": {},
     "output_type": "execute_result"
    }
   ],
   "source": [
    "# Hacked code: for RaxML's purposes, iterate over every sequence in trimmed_alignment, replace apostrophy with \n",
    "raxml_seqs = []\n",
    "for s in trimmed_alignment:\n",
    "    new_s = copy(s)\n",
    "    new_s.id = new_s.id.replace(' ', '_').replace(\"'\",'|')\n",
    "    raxml_seqs.append(new_s)\n",
    "SeqIO.write(raxml_seqs, 'host_COI5P_trimmed_alignment_trees.fasta', 'fasta')"
   ]
  },
  {
   "cell_type": "code",
   "execution_count": 11,
   "metadata": {
    "collapsed": false
   },
   "outputs": [
    {
     "data": {
      "text/plain": [
       "{'American Black Duck': SeqRecord(seq=Seq('GCCTCTGATCCGGGCAGAACTAGGCCAGCCAGGGACCCTCCTGGGCGACGACCA...CGG', SingleLetterAlphabet()), id='American_Black_Duck', name='American_Black_Duck', description='American_Black_Duck', dbxrefs=[]),\n",
       " 'American Green-Winged Teal': SeqRecord(seq=Seq('GCCTCTGATCCGGGCAGAACTAGGCCAGCCAGGGACCCTCCTGGGCGACGACCA...CGG', SingleLetterAlphabet()), id='American_Green-Winged_Teal', name='American_Green-Winged_Teal', description='American_Green-Winged_Teal', dbxrefs=[]),\n",
       " 'American Wigeon': SeqRecord(seq=Seq('GCCTCTGATCCGGGCAGAACTAGGCCAGCCAGGGACCCTCCTGGGCGACGACCA...CGG', SingleLetterAlphabet()), id='American_Wigeon', name='American_Wigeon', description='American_Wigeon', dbxrefs=[]),\n",
       " 'Baikal Teal': SeqRecord(seq=Seq('GCCTCTGATCCGGGCAGAACTAGGCCAGCCAGGGACCCTCCTGGGCGACGACCA...CGG', SingleLetterAlphabet()), id='Baikal_Teal', name='Baikal_Teal', description='Baikal_Teal', dbxrefs=[]),\n",
       " 'Bar-Headed Goose': SeqRecord(seq=Seq('GCCTTTAATCCGCGCAGAACTAGGACAGCCAGGAACTCTCCTAGGCGACGACCA...CGG', SingleLetterAlphabet()), id='Bar-Headed_Goose', name='Bar-Headed_Goose', description='Bar-Headed_Goose', dbxrefs=[]),\n",
       " 'Barn Swallow': SeqRecord(seq=Seq('GCCTCTAATCCGAGCAGAATTAGGCCAACCTGGTGCCCTACTTGGAGACGACCA...CGG', SingleLetterAlphabet()), id='Barn_Swallow', name='Barn_Swallow', description='Barn_Swallow', dbxrefs=[]),\n",
       " 'Barnacle Goose': SeqRecord(seq=Seq('GCCTTTAATCCGCGCAGAACTAGGACAACCAGGGACTCTCCTAGGCGACGACCA...CGG', SingleLetterAlphabet()), id='Barnacle_Goose', name='Barnacle_Goose', description='Barnacle_Goose', dbxrefs=[]),\n",
       " \"Bewick's Swan\": SeqRecord(seq=Seq('GCCTTTAATCCGCGCAGAACTGGGACAACCGGGAACTCTCCTTGGTGACGACCA...CGG', SingleLetterAlphabet()), id=\"Bewick's_Swan\", name=\"Bewick's_Swan\", description=\"Bewick's_Swan\", dbxrefs=[]),\n",
       " 'Black Duck': SeqRecord(seq=Seq('GCCTCTGATCCGGGCAGAACTAGGCCAGCCAGGGACCCTCCTGGGCGACGACCA...CGG', SingleLetterAlphabet()), id='Black_Duck', name='Black_Duck', description='Black_Duck', dbxrefs=[]),\n",
       " 'Black Scoter': SeqRecord(seq=Seq('GCCTGTAATCCGCGCAGAACTCGGCCAACCAGGAACCCTCCTAGGCGATGACCA...CGG', SingleLetterAlphabet()), id='Black_Scoter', name='Black_Scoter', description='Black_Scoter', dbxrefs=[]),\n",
       " 'Black-Headed Gull': SeqRecord(seq=Seq('GCCTCTTATCCGTGCAGAACTTGGCCAACCCGGGACCCTCCTAGGAGACGACCA...CGG', SingleLetterAlphabet()), id='Black-Headed_Gull', name='Black-Headed_Gull', description='Black-Headed_Gull', dbxrefs=[]),\n",
       " 'Blue-Winged Teal': SeqRecord(seq=Seq('GCCTCTGATCCGGGCAGAACTAGGCCAGCCAGGGACCCTCCTGGGCGACGACCA...CGG', SingleLetterAlphabet()), id='Blue-Winged_Teal', name='Blue-Winged_Teal', description='Blue-Winged_Teal', dbxrefs=[]),\n",
       " 'Brown-Headed Gull': SeqRecord(seq=Seq('GCCTCTTATCCGTGCAGAACTTGGCCAACCCGGGACCCTCCTAGGAGACGACCA...CGG', SingleLetterAlphabet()), id='Brown-Headed_Gull', name='Brown-Headed_Gull', description='Brown-Headed_Gull', dbxrefs=[]),\n",
       " 'Bufflehead': SeqRecord(seq=Seq('GCCTCTAATCCGCGCAGAACTCGGCCAGCCAGGGACCCTCCTGGGCGATGACCA...CGG', SingleLetterAlphabet()), id='Bufflehead', name='Bufflehead', description='Bufflehead', dbxrefs=[]),\n",
       " 'Camel': SeqRecord(seq=Seq('GCTTTTAATTCGCGCTGAATTGGGACAGCCCGGGACGTTGCTTGGAGACGACCA...CGG', SingleLetterAlphabet()), id='Camel', name='Camel', description='Camel', dbxrefs=[]),\n",
       " 'Canada Goose': SeqRecord(seq=Seq('GCCTTTAATCCGCGCAGAACTAGGACAACCAGGGACTCTCCTAGGCGACGACCA...CGG', SingleLetterAlphabet()), id='Canada_Goose', name='Canada_Goose', description='Canada_Goose', dbxrefs=[]),\n",
       " 'Canvasback': SeqRecord(seq=Seq('GCCTCTAATCCGCGCAGAACTAGGCCAACCAGGAACCCTCCTGGGTGATGACCA...CGG', SingleLetterAlphabet()), id='Canvasback', name='Canvasback', description='Canvasback', dbxrefs=[]),\n",
       " 'Chicken': SeqRecord(seq=Seq('GCCTCTAATTCGCGCAGAACTAGGACAGCCCGGAACTCTCTTAGGAGACGATCA...CGG', SingleLetterAlphabet()), id='Chicken', name='Chicken', description='Chicken', dbxrefs=[]),\n",
       " 'Chukar': SeqRecord(seq=Seq('GCCTCTTATTCGCGCAGAACTAGGACAACCGGGCACCCTCTTAGGAGATGACCA...CGG', SingleLetterAlphabet()), id='Chukar', name='Chukar', description='Chukar', dbxrefs=[]),\n",
       " 'Cinnamon Teal': SeqRecord(seq=Seq('GCCTCTGATCCGGGCAGAACTAGGCCAGCCAGGGACCCTCCTGGGCGACGACCA...CGG', SingleLetterAlphabet()), id='Cinnamon_Teal', name='Cinnamon_Teal', description='Cinnamon_Teal', dbxrefs=[]),\n",
       " 'Common Coot': SeqRecord(seq=Seq('GCCTCTTATCCGAGCAGAATTAGGACAACCCGGCACCCTCCTAGGAGATGACCA...CGG', SingleLetterAlphabet()), id='Common_Coot', name='Common_Coot', description='Common_Coot', dbxrefs=[]),\n",
       " 'Common Eider': SeqRecord(seq=Seq('GCCTCTAATTCGCGCAGAACTAGGACAACCCGGAACCCTCCTAGGTGATGACCA...CGG', SingleLetterAlphabet()), id='Common_Eider', name='Common_Eider', description='Common_Eider', dbxrefs=[]),\n",
       " 'Common Murre': SeqRecord(seq=Seq('GCCTCTCATCCGTGCAGAACTAGGCCAACCAGGGACCCTCCTAGGAGATGACCA...TGG', SingleLetterAlphabet()), id='Common_Murre', name='Common_Murre', description='Common_Murre', dbxrefs=[]),\n",
       " 'Common Scoter': SeqRecord(seq=Seq('GCCTGTAATCCGCGCAGAACTCGGCCAACCAGGAACCCTCCTAGGCGATGACCA...CGG', SingleLetterAlphabet()), id='Common_Scoter', name='Common_Scoter', description='Common_Scoter', dbxrefs=[]),\n",
       " 'Condor': SeqRecord(seq=Seq('-----------------------------------CTCTCTTAGGAGACGACCA...---', SingleLetterAlphabet()), id='Condor', name='Condor', description='Condor', dbxrefs=[]),\n",
       " 'Coot': SeqRecord(seq=Seq('GCCTCTTATCCGAGCAGAATTAGGACAACCCGGCACCCTCCTAGGAGATGACCA...CGG', SingleLetterAlphabet()), id='Coot', name='Coot', description='Coot', dbxrefs=[]),\n",
       " 'Crane': SeqRecord(seq=Seq('GCCTTTAATCCGTGCAGAACTCGGCCAACCAGGAAGCCTATTAGGGGATGACCA...CGG', SingleLetterAlphabet()), id='Crane', name='Crane', description='Crane', dbxrefs=[]),\n",
       " 'Crow': SeqRecord(seq=Seq('GTCTCTTATTCGAGCAGAACTGGGCCAACCAGGTGCTCTACTAGGAGATGACCA...CGG', SingleLetterAlphabet()), id='Crow', name='Crow', description='Crow', dbxrefs=[]),\n",
       " 'Dog': SeqRecord(seq=Seq('GCCTCTCATCCGAGCCGAACTAGGTCAGCCCGGTACTTTACTAGGTGACGATCA...CGG', SingleLetterAlphabet()), id='Dog', name='Dog', description='Dog', dbxrefs=[]),\n",
       " 'Domestic Cat': SeqRecord(seq=Seq('GTCTCTAATCCGGGCCGAACTGGGCCAACCTGGTACACTACTAGGAGATGATCA...TGG', SingleLetterAlphabet()), id='Domestic_Cat', name='Domestic_Cat', description='Domestic_Cat', dbxrefs=[]),\n",
       " 'Duck': SeqRecord(seq=Seq('GCCTCTGATCCGGGCAGAACTAGGCCAGCCAGGGACCCTCCTGGGCGACGACCA...CGG', SingleLetterAlphabet()), id='Duck', name='Duck', description='Duck', dbxrefs=[]),\n",
       " 'Dunlin': SeqRecord(seq=Seq('GCCTCTTATTCGCGCAGAACTAGGTCAACCCGGAACCCTTTTAGGAGATGACCA...TGG', SingleLetterAlphabet()), id='Dunlin', name='Dunlin', description='Dunlin', dbxrefs=[]),\n",
       " 'Eurasian Eagle-Owl': SeqRecord(seq=Seq('GCCTCTCATCCGAGCCGAGCTCGGGCAACCCGGGACCCTTCTTGGCGATGACCA...GGG', SingleLetterAlphabet()), id='Eurasian_Eagle-Owl', name='Eurasian_Eagle-Owl', description='Eurasian_Eagle-Owl', dbxrefs=[]),\n",
       " 'Eurasian Wigeon': SeqRecord(seq=Seq('GCCTCTGATCCGGGCAGAACTAGGCCAGCCAGGGACCCTCCTGGGCGACGACCA...CGG', SingleLetterAlphabet()), id='Eurasian_Wigeon', name='Eurasian_Wigeon', description='Eurasian_Wigeon', dbxrefs=[]),\n",
       " 'Finch': SeqRecord(seq=Seq('GCCTCTCATCCGAGCAGAACTGGGCCAACCCGGAGCTCTTCTAGGAGACGACCA...TGG', SingleLetterAlphabet()), id='Finch', name='Finch', description='Finch', dbxrefs=[]),\n",
       " 'Gadwall': SeqRecord(seq=Seq('GCCTCTGATCCGGGCAGAACTAGGCCAGCCAGGGACCCTCCTGGGCGACGACCA...CGG', SingleLetterAlphabet()), id='Gadwall', name='Gadwall', description='Gadwall', dbxrefs=[]),\n",
       " 'Garganey': SeqRecord(seq=Seq('GCCTCTGATCCGGGCAGAACTAGGCCAGCCAGGGACCCTCCTGGGCGACGACCA...CGG', SingleLetterAlphabet()), id='Garganey', name='Garganey', description='Garganey', dbxrefs=[]),\n",
       " 'Glaucous Gull': SeqRecord(seq=Seq('GCCTCTTATCCGTGCAGAACTTGGCCAACCCGGGACCCTCCTAGGAGACGACCA...CGG', SingleLetterAlphabet()), id='Glaucous_Gull', name='Glaucous_Gull', description='Glaucous_Gull', dbxrefs=[]),\n",
       " 'Goose': SeqRecord(seq=Seq('GCCTTTAATCCGCGCAGAACTAGGACAGCCAGGAACTCTCCTAGGCGACGACCA...CGG', SingleLetterAlphabet()), id='Goose', name='Goose', description='Goose', dbxrefs=[]),\n",
       " 'Great Crested Grebe': SeqRecord(seq=Seq('GCTTCTCATCCGCGCAGAACTGGGCCAGCCAGGAACCCTCCTAGGAGACGACCA...TGG', SingleLetterAlphabet()), id='Great_Crested_Grebe', name='Great_Crested_Grebe', description='Great_Crested_Grebe', dbxrefs=[]),\n",
       " 'Greater Scaup': SeqRecord(seq=Seq('GCCTCTAATCCGCGCAGAACTAGGCCAACCAGGAACCCTCCTGGGTGATGACCA...CGG', SingleLetterAlphabet()), id='Greater_Scaup', name='Greater_Scaup', description='Greater_Scaup', dbxrefs=[]),\n",
       " 'Greater White-Fronted Goose': SeqRecord(seq=Seq('GCCTTTAATCCGCGCAGAACTAGGACAGCCAGGAACTCTCCTAGGCGACGACCA...CGG', SingleLetterAlphabet()), id='Greater_White-Fronted_Goose', name='Greater_White-Fronted_Goose', description='Greater_White-Fronted_Goose', dbxrefs=[]),\n",
       " 'Green-Winged Teal': SeqRecord(seq=Seq('GCCTCTGATCCGGGCAGAACTAGGCCAGCCAGGGACCCTCCTGGGCGACGACCA...CGG', SingleLetterAlphabet()), id='Green-Winged_Teal', name='Green-Winged_Teal', description='Green-Winged_Teal', dbxrefs=[]),\n",
       " 'Grey Heron': SeqRecord(seq=Seq('GCCTCTCATCCGAGCTGAACTTGGACAACCAGGGACGCTCCTAGGAGACGACCA...TGG', SingleLetterAlphabet()), id='Grey_Heron', name='Grey_Heron', description='Grey_Heron', dbxrefs=[]),\n",
       " 'Heron': SeqRecord(seq=Seq('GCCTCTCATCCGAGCTGAACTTGGACAACCAGGGACGCTCCTAGGAGACGACCA...TGG', SingleLetterAlphabet()), id='Heron', name='Heron', description='Heron', dbxrefs=[]),\n",
       " 'Herring Gull': SeqRecord(seq=Seq('GCCTCTTATCCGTGCAGAACTTGGCCAACCCGGGACCCTCCTAGGAGACGACCA...CGG', SingleLetterAlphabet()), id='Herring_Gull', name='Herring_Gull', description='Herring_Gull', dbxrefs=[]),\n",
       " 'Hooded Merganser': SeqRecord(seq=Seq('GCCTCTAATCCGCGCAGAACTCGGCCAACCAGGGACCCTCCTAGGCGATGACCA...CGG', SingleLetterAlphabet()), id='Hooded_Merganser', name='Hooded_Merganser', description='Hooded_Merganser', dbxrefs=[]),\n",
       " 'Horse': SeqRecord(seq=Seq('GCCTCTAATCCGTGCTGAATTAGGCCAACCTGGGACCCTACTAGGAGATGATCA...CGG', SingleLetterAlphabet()), id='Horse', name='Horse', description='Horse', dbxrefs=[]),\n",
       " 'Human': SeqRecord(seq=Seq('GCCTCTTATTCGAGCCGAGCTGGGCCAGCCAGGCAACCTTCTAGGTAACGACCA...CGG', SingleLetterAlphabet()), id='Human', name='Human', description='Human', dbxrefs=[]),\n",
       " 'Iceland Gull': SeqRecord(seq=Seq('GCCTCTTATCCGTGCAGAACTTGGCCAACCCGGGACCCTCCTAGGAGACGACCA...CGG', SingleLetterAlphabet()), id='Iceland_Gull', name='Iceland_Gull', description='Iceland_Gull', dbxrefs=[]),\n",
       " 'Japanese Quail': SeqRecord(seq=Seq('GCTTTTAATCCGCGCAGAACTAGGACAACCAGGCACCCTCCTAGGAGATGACCA...TGG', SingleLetterAlphabet()), id='Japanese_Quail', name='Japanese_Quail', description='Japanese_Quail', dbxrefs=[]),\n",
       " 'Knot': SeqRecord(seq=Seq('GCCTCTTATTCGCGCAGAACTAGGTCAACCCGGAACCCTTTTAGGAGATGACCA...TGG', SingleLetterAlphabet()), id='Knot', name='Knot', description='Knot', dbxrefs=[]),\n",
       " 'Laughing Gull': SeqRecord(seq=Seq('GCCTCTTATCCGTGCAGAACTTGGCCAACCCGGGACCCTCCTAGGAGACGACCA...CGG', SingleLetterAlphabet()), id='Laughing_Gull', name='Laughing_Gull', description='Laughing_Gull', dbxrefs=[]),\n",
       " 'Least Sandpiper': SeqRecord(seq=Seq('GCCTCTTATTCGCGCAGAACTAGGTCAACCCGGAACCCTTTTAGGAGATGACCA...TGG', SingleLetterAlphabet()), id='Least_Sandpiper', name='Least_Sandpiper', description='Least_Sandpiper', dbxrefs=[]),\n",
       " 'Lesser Scaup': SeqRecord(seq=Seq('GCCTCTAATCCGCGCAGAACTAGGCCAACCAGGAACCCTCCTGGGTGATGACCA...CGG', SingleLetterAlphabet()), id='Lesser_Scaup', name='Lesser_Scaup', description='Lesser_Scaup', dbxrefs=[]),\n",
       " 'Long-Tailed Duck': SeqRecord(seq=Seq('GCCTCTAATCCGCGCAGAACTGGGCCAACCAGGAACCCTCCTGGGTGATGACCA...CGG', SingleLetterAlphabet()), id='Long-Tailed_Duck', name='Long-Tailed_Duck', description='Long-Tailed_Duck', dbxrefs=[]),\n",
       " 'Magpie Robin': SeqRecord(seq=Seq('GCCTCTCATCCGAGCAGAACTAGGCCAACCAGGCGCCTTACTGGGAGACGACCA...---', SingleLetterAlphabet()), id='Magpie_Robin', name='Magpie_Robin', description='Magpie_Robin', dbxrefs=[]),\n",
       " 'Mallard': SeqRecord(seq=Seq('GCCTCTGATCCGGGCAGAACTAGGCCAGCCAGGGACCCTCCTGGGCGACGACCA...CGG', SingleLetterAlphabet()), id='Mallard', name='Mallard', description='Mallard', dbxrefs=[]),\n",
       " 'Murre': SeqRecord(seq=Seq('GCCTCTCATCCGTGCAGAACTAGGCCAACCAGGGACCCTCCTAGGAGATGACCA...TGG', SingleLetterAlphabet()), id='Murre', name='Murre', description='Murre', dbxrefs=[]),\n",
       " 'Muscovy Duck': SeqRecord(seq=Seq('GCCTCTAATTCGCGCAGAACTAGGCCAACCAGGGACTCTCCTGGGAGATGACCA...TGG', SingleLetterAlphabet()), id='Muscovy_Duck', name='Muscovy_Duck', description='Muscovy_Duck', dbxrefs=[]),\n",
       " 'Mute Swan': SeqRecord(seq=Seq('GCCTTTAATCCGCGCAGAACTGGGACAACCGGGAACTCTCCTTGGTGACGACCA...CGG', SingleLetterAlphabet()), id='Mute_Swan', name='Mute_Swan', description='Mute_Swan', dbxrefs=[]),\n",
       " 'Northern Pintail': SeqRecord(seq=Seq('GCCTCTGATCCGGGCAGAACTAGGCCAGCCAGGGACCCTCCTGGGCGACGACCA...CGG', SingleLetterAlphabet()), id='Northern_Pintail', name='Northern_Pintail', description='Northern_Pintail', dbxrefs=[]),\n",
       " 'Northern Shoveler': SeqRecord(seq=Seq('GCCTCTGATCCGGGCAGAACTAGGCCAGCCAGGGACCCTCCTGGGCGACGACCA...CGG', SingleLetterAlphabet()), id='Northern_Shoveler', name='Northern_Shoveler', description='Northern_Shoveler', dbxrefs=[]),\n",
       " 'Ostrich': SeqRecord(seq=Seq('GCCTCTCATTCGTGCAGAATTAGGACAACCAGGGACACTACTTGGAGACGATCA...CGG', SingleLetterAlphabet()), id='Ostrich', name='Ostrich', description='Ostrich', dbxrefs=[]),\n",
       " 'Panda': SeqRecord(seq=Seq('GCCTCTAATCCGTGCTGAATTAGGTCAGCCTGGAGCTCTGTTAGGAGATGACCA...TGG', SingleLetterAlphabet()), id='Panda', name='Panda', description='Panda', dbxrefs=[]),\n",
       " 'Pelican': SeqRecord(seq=Seq('GCCTCTCATTCGGGCCGAACTAGGCCAGCCCGGAACCCTCTTGGGAGATGACCA...TGG', SingleLetterAlphabet()), id='Pelican', name='Pelican', description='Pelican', dbxrefs=[]),\n",
       " 'Peregrine Falcon': SeqRecord(seq=Seq('GCCTCTTATCCGAGCAGAACTTGGCCAACCAGGAACTCTCCTAGGAGACGACCA...CGG', SingleLetterAlphabet()), id='Peregrine_Falcon', name='Peregrine_Falcon', description='Peregrine_Falcon', dbxrefs=[]),\n",
       " 'Pheasant': SeqRecord(seq=Seq('GCCTCTAATTCGCGCAGAACTAGGACAACCAGGAACACTTTTGGGAGATGACCA...CGG', SingleLetterAlphabet()), id='Pheasant', name='Pheasant', description='Pheasant', dbxrefs=[]),\n",
       " 'Pigeon': SeqRecord(seq=Seq('GTCTCTCATTCGCGCAGAACTAGGACAACCAGGCACTCTCCTGGGAGACGACCA...TGG', SingleLetterAlphabet()), id='Pigeon', name='Pigeon', description='Pigeon', dbxrefs=[]),\n",
       " 'Pink-Footed Goose': SeqRecord(seq=Seq('GCCTTTAATCCGCGCAGAACTAGGACAGCCAGGAACTCTCCTAGGCGACGACCA...CGG', SingleLetterAlphabet()), id='Pink-Footed_Goose', name='Pink-Footed_Goose', description='Pink-Footed_Goose', dbxrefs=[]),\n",
       " 'Pintail': SeqRecord(seq=Seq('GCCTCTGATCCGGGCAGAACTAGGCCAGCCAGGGACCCTCCTGGGCGACGACCA...CGG', SingleLetterAlphabet()), id='Pintail', name='Pintail', description='Pintail', dbxrefs=[]),\n",
       " 'Poultry': SeqRecord(seq=Seq('GCCTCTAATTCGCGCAGAACTAGGACAGCCCGGAACTCTCTTAGGAGACGATCA...CGG', SingleLetterAlphabet()), id='Poultry', name='Poultry', description='Poultry', dbxrefs=[]),\n",
       " 'Quail': SeqRecord(seq=Seq('GCTTTTAATCCGCGCAGAACTAGGACAACCAGGCACCCTCCTAGGAGATGACCA...TGG', SingleLetterAlphabet()), id='Quail', name='Quail', description='Quail', dbxrefs=[]),\n",
       " 'Red Knot': SeqRecord(seq=Seq('GCCTCTTATTCGCGCAGAACTAGGTCAACCCGGAACCCTTTTAGGAGATGACCA...TGG', SingleLetterAlphabet()), id='Red_Knot', name='Red_Knot', description='Red_Knot', dbxrefs=[]),\n",
       " 'Red-Crested Pochard': SeqRecord(seq=Seq('GCCTCTAATCCGCGCAGAACTAGGCCAACCAGGAACCCTCCTAGGTGATGACCA...TGG', SingleLetterAlphabet()), id='Red-Crested_Pochard', name='Red-Crested_Pochard', description='Red-Crested_Pochard', dbxrefs=[]),\n",
       " 'Red-Necked Stint': SeqRecord(seq=Seq('GCCTCTTATTCGCGCAGAACTAGGTCAACCCGGAACCCTTTTAGGAGATGACCA...TGG', SingleLetterAlphabet()), id='Red-Necked_Stint', name='Red-Necked_Stint', description='Red-Necked_Stint', dbxrefs=[]),\n",
       " 'Redhead': SeqRecord(seq=Seq('GCCTCTAATCCGCGCAGAACTAGGCCAACCAGGAACCCTCCTGGGTGATGACCA...CGG', SingleLetterAlphabet()), id='Redhead', name='Redhead', description='Redhead', dbxrefs=[]),\n",
       " 'Redhead Duck': SeqRecord(seq=Seq('GCCTCTAATCCGCGCAGAACTAGGCCAACCAGGAACCCTCCTGGGTGATGACCA...CGG', SingleLetterAlphabet()), id='Redhead_Duck', name='Redhead_Duck', description='Redhead_Duck', dbxrefs=[]),\n",
       " 'Rhea': SeqRecord(seq=Seq('GCCTCTCATCCGTGCAGAACTCGGCCAACCAGGAACCCTCCTAGGAGACGACCA...TGG', SingleLetterAlphabet()), id='Rhea', name='Rhea', description='Rhea', dbxrefs=[]),\n",
       " 'Ring-Necked Duck': SeqRecord(seq=Seq('GCCTCTAATCCGCGCAGAACTAGGCCAACCAGGAACCCTCCTGGGTGATGACCA...CGG', SingleLetterAlphabet()), id='Ring-Necked_Duck', name='Ring-Necked_Duck', description='Ring-Necked_Duck', dbxrefs=[]),\n",
       " 'Rook': SeqRecord(seq=Seq('GTCTCTTATTCGAGCAGAACTGGGCCAACCAGGTGCTCTACTAGGAGATGACCA...CGG', SingleLetterAlphabet()), id='Rook', name='Rook', description='Rook', dbxrefs=[]),\n",
       " 'Rosy-Billed Pochard': SeqRecord(seq=Seq('GCCTCTAATCCGCGCAGAACTAGGCCAACCAGGAACCCTCCTAGGTGATGACCA...TGG', SingleLetterAlphabet()), id='Rosy-Billed_Pochard', name='Rosy-Billed_Pochard', description='Rosy-Billed_Pochard', dbxrefs=[]),\n",
       " 'Ruddy Turnstone': SeqRecord(seq=Seq('GCCTCTCATTCGCGCAGAACTAGGTCAACCGGGGACCCTCTTAGGAGACGATCA...CGG', SingleLetterAlphabet()), id='Ruddy_Turnstone', name='Ruddy_Turnstone', description='Ruddy_Turnstone', dbxrefs=[]),\n",
       " 'Saker Falcon': SeqRecord(seq=Seq('GCCTCTTATCCGAGCAGAACTTGGCCAACCAGGAACTCTCCTAGGAGACGACCA...CGG', SingleLetterAlphabet()), id='Saker_Falcon', name='Saker_Falcon', description='Saker_Falcon', dbxrefs=[]),\n",
       " 'Sanderling': SeqRecord(seq=Seq('GCCTCTTATTCGCGCAGAACTAGGTCAACCCGGAACCCTTTTAGGAGATGACCA...TGG', SingleLetterAlphabet()), id='Sanderling', name='Sanderling', description='Sanderling', dbxrefs=[]),\n",
       " 'Scaup': SeqRecord(seq=Seq('GCCTCTAATCCGCGCAGAACTAGGCCAACCAGGAACCCTCCTGGGTGATGACCA...CGG', SingleLetterAlphabet()), id='Scaup', name='Scaup', description='Scaup', dbxrefs=[]),\n",
       " 'Semipalmated Sandpiper': SeqRecord(seq=Seq('GCCTCTTATTCGCGCAGAACTAGGTCAACCCGGAACCCTTTTAGGAGATGACCA...TGG', SingleLetterAlphabet()), id='Semipalmated_Sandpiper', name='Semipalmated_Sandpiper', description='Semipalmated_Sandpiper', dbxrefs=[]),\n",
       " 'Sharp-Tailed Sandpiper': SeqRecord(seq=Seq('GCCTCTTATTCGCGCAGAACTAGGTCAACCCGGAACCCTTTTAGGAGATGACCA...TGG', SingleLetterAlphabet()), id='Sharp-Tailed_Sandpiper', name='Sharp-Tailed_Sandpiper', description='Sharp-Tailed_Sandpiper', dbxrefs=[]),\n",
       " 'Shoveler': SeqRecord(seq=Seq('GCCTCTGATCCGGGCAGAACTAGGCCAGCCAGGGACCCTCCTGGGCGACGACCA...CGG', SingleLetterAlphabet()), id='Shoveler', name='Shoveler', description='Shoveler', dbxrefs=[]),\n",
       " 'Silky Chicken': SeqRecord(seq=Seq('GCCTCTAATTCGCGCAGAACTAGGACAGCCCGGAACTCTCTTAGGAGACGATCA...CGG', SingleLetterAlphabet()), id='Silky_Chicken', name='Silky_Chicken', description='Silky_Chicken', dbxrefs=[]),\n",
       " 'Snow Goose': SeqRecord(seq=Seq('GCCTTTAATCCGCGCAGAACTAGGACAACCAGGAACTCTCCTAGGCGACGACCA...CGG', SingleLetterAlphabet()), id='Snow_Goose', name='Snow_Goose', description='Snow_Goose', dbxrefs=[]),\n",
       " 'Sooty Tern': SeqRecord(seq=Seq('GCCTCTCATTCGCGCAGAACTAGGCCAACCAGGAACCCTCCTAGGAGATGACCA...TGG', SingleLetterAlphabet()), id='Sooty_Tern', name='Sooty_Tern', description='Sooty_Tern', dbxrefs=[]),\n",
       " 'Sparrow': SeqRecord(seq=Seq('GCCTCTTATCCGAGCAGAACTTGGACAACCAGGGGCTCTCCTAGGAGATGACCA...TGG', SingleLetterAlphabet()), id='Sparrow', name='Sparrow', description='Sparrow', dbxrefs=[]),\n",
       " 'Spot-Billed Duck': SeqRecord(seq=Seq('GCCTCTGATCCGGGCAGAACTAGGCCAGCCAGGGACCCTCCTGGGCGACGACCA...CGG', SingleLetterAlphabet()), id='Spot-Billed_Duck', name='Spot-Billed_Duck', description='Spot-Billed_Duck', dbxrefs=[]),\n",
       " 'Swan': SeqRecord(seq=Seq('GCCTTTAATCCGCGCAGAACTGGGACAACCGGGAACTCTCCTTGGTGACGACCA...CGG', SingleLetterAlphabet()), id='Swan', name='Swan', description='Swan', dbxrefs=[]),\n",
       " 'Swine': SeqRecord(seq=Seq('GCCTCTAATTCGCGCTGAACTAGGTCAGCCCGGAACCCTACTTGGCGATGATCA...CGG', SingleLetterAlphabet()), id='Swine', name='Swine', description='Swine', dbxrefs=[]),\n",
       " 'Teal': SeqRecord(seq=Seq('GCCTCTGATCCGGGCAGAACTAGGCCAGCCAGGGACCCTCCTGGGCGACGACCA...CGG', SingleLetterAlphabet()), id='Teal', name='Teal', description='Teal', dbxrefs=[]),\n",
       " 'Tree Sparrow': SeqRecord(seq=Seq('GCCTCTTATCCGAGCAGAACTTGGACAACCAGGGGCTCTCCTAGGAGATGACCA...TGG', SingleLetterAlphabet()), id='Tree_Sparrow', name='Tree_Sparrow', description='Tree_Sparrow', dbxrefs=[]),\n",
       " 'Tufted Duck': SeqRecord(seq=Seq('GCCTCTAATCCGCGCAGAACTAGGCCAACCAGGAACCCTCCTGGGTGATGACCA...CGG', SingleLetterAlphabet()), id='Tufted_Duck', name='Tufted_Duck', description='Tufted_Duck', dbxrefs=[]),\n",
       " 'Tundra Swan': SeqRecord(seq=Seq('GCCTTTAATCCGCGCAGAACTGGGACAACCGGGAACTCTCCTTGGTGACGACCA...CGG', SingleLetterAlphabet()), id='Tundra_Swan', name='Tundra_Swan', description='Tundra_Swan', dbxrefs=[]),\n",
       " 'Waterfowl': SeqRecord(seq=Seq('GCCTCTGATCCGGGCAGAACTAGGCCAGCCAGGGACCCTCCTGGGCGACGACCA...CGG', SingleLetterAlphabet()), id='Waterfowl', name='Waterfowl', description='Waterfowl', dbxrefs=[]),\n",
       " 'Whiskered Tern': SeqRecord(seq=Seq('GCCTCTCATTCGTGCAGAACTAGGCCAACCAGGAACCCTCCTAGGAGATGATCA...TGG', SingleLetterAlphabet()), id='Whiskered_Tern', name='Whiskered_Tern', description='Whiskered_Tern', dbxrefs=[]),\n",
       " 'White-Rumped Sandpiper': SeqRecord(seq=Seq('GCCTCTTATTCGCGCAGAACTAGGTCAACCCGGAACCCTTTTAGGAGATGACCA...TGG', SingleLetterAlphabet()), id='White-Rumped_Sandpiper', name='White-Rumped_Sandpiper', description='White-Rumped_Sandpiper', dbxrefs=[]),\n",
       " 'Whooper Swan': SeqRecord(seq=Seq('GCCTTTAATCCGCGCAGAACTGGGACAACCGGGAACTCTCCTTGGTGACGACCA...CGG', SingleLetterAlphabet()), id='Whooper_Swan', name='Whooper_Swan', description='Whooper_Swan', dbxrefs=[]),\n",
       " 'Wild Chicken': SeqRecord(seq=Seq('GCCTCTAATTCGCGCAGAACTAGGACAGCCCGGAACTCTCTTAGGAGACGATCA...CGG', SingleLetterAlphabet()), id='Wild_Chicken', name='Wild_Chicken', description='Wild_Chicken', dbxrefs=[])}"
      ]
     },
     "execution_count": 11,
     "metadata": {},
     "output_type": "execute_result"
    }
   ],
   "source": [
    "# Because the sequence data alignments are:\n",
    "# 1. non-overlapping\n",
    "# 2. highly variable in length,\n",
    "# I think the best way to define distance is as such:\n",
    "# - Compare every position in the alignment.\n",
    "# - Increment distance by 1 if and only if both positions are not gaps and are different.\n",
    "# - Normalize distance by taking distance/len(smaller_18S)\n",
    "\n",
    "# Read in the alignment using AlignIO.\n",
    "COI5P_sequences = AlignIO.read('host_COI5P_trimmed_alignment.fasta', 'fasta')\n",
    "\n",
    "# Clean up the names in the dictionary keys so that they are \n",
    "# easily searchable.\n",
    "host_sequence = dict()\n",
    "for s in COI5P_sequences:\n",
    "    host = s.id.replace('_', ' ')\n",
    "    host_sequence[host] = s\n",
    "\n",
    "host_sequence"
   ]
  },
  {
   "cell_type": "code",
   "execution_count": 12,
   "metadata": {
    "collapsed": false,
    "scrolled": true
   },
   "outputs": [],
   "source": [
    "# for j in range(len(host_sequence.keys())):\n",
    "#     s1 = host_sequence[host_sequence.keys()[12]]\n",
    "#     s2 = host_sequence[host_sequence.keys()[j]]\n",
    "\n",
    "#     s1_ug = s1.seq.ungap('-')\n",
    "#     s2_ug = s2.seq.ungap('-')\n",
    "\n",
    "#     dist = 0\n",
    "#     for i in range(len(s1)):\n",
    "#         l1 = s1[i]\n",
    "#         l2=  s2[i]\n",
    "\n",
    "#         if l1 != '-' and l2 != '-' and l1 != l2:\n",
    "#             dist += 1\n",
    "\n",
    "#     print(dist / float(min([len(s1_ug), len(s2_ug)])))"
   ]
  },
  {
   "cell_type": "code",
   "execution_count": 13,
   "metadata": {
    "collapsed": false
   },
   "outputs": [],
   "source": [
    "# hosts_18s[hosts_18s['Genbank ID'] == host_sequence.keys()[19]]"
   ]
  },
  {
   "cell_type": "code",
   "execution_count": 14,
   "metadata": {
    "collapsed": false
   },
   "outputs": [],
   "source": [
    "import networkx as nx\n",
    "\n",
    "G = nx.read_gpickle('20141103 All IRD Final Graph.pkl')\n",
    "\n",
    "def clean_host_species(host_species):\n",
    "    if '/' in host_species:\n",
    "        host_species = host_species.split('/')[0]\n",
    "        \n",
    "    return host_species\n",
    "\n",
    "def generate_random_polynucleotide(length):\n",
    "    from random import choice\n",
    "    from Bio.SeqRecord import SeqRecord\n",
    "    from Bio.Seq import Seq\n",
    "    polynt = ''\n",
    "    for i in range(length):\n",
    "        polynt = polynt + '-'\n",
    "    seqrec = SeqRecord(Seq(polynt))\n",
    "    return seqrec\n",
    "\n",
    "# Add in the 18S rRNA sequence to each node, if available.\n",
    "for n, d in G.nodes(data=True):\n",
    "    host_species = clean_host_species(d['host_species'])\n",
    "    \n",
    "    if host_species in host_sequence.keys():\n",
    "        G.node[n]['18s_rRNA_sequence'] = host_sequence[host_species]\n",
    "    else:\n",
    "        G.node[n]['18s_rRNA_sequence'] = generate_random_polynucleotide(COI5P_sequences.get_alignment_length())"
   ]
  },
  {
   "cell_type": "code",
   "execution_count": 15,
   "metadata": {
    "collapsed": false
   },
   "outputs": [
    {
     "data": {
      "text/plain": [
       "{'18s_rRNA_sequence': SeqRecord(seq=Seq('GCCTCTTATTCGAGCCGAGCTGGGCCAGCCAGGCAACCTTCTAGGTAACGACCA...CGG', SingleLetterAlphabet()), id='Human', name='Human', description='Human', dbxrefs=[]),\n",
       " 'collection_date': Timestamp('2009-11-20 00:00:00'),\n",
       " 'country': 'Germany',\n",
       " 'host_species': 'Human',\n",
       " 'state': 'Bonn',\n",
       " 'subtype': 'H1N1'}"
      ]
     },
     "execution_count": 15,
     "metadata": {},
     "output_type": "execute_result"
    }
   ],
   "source": [
    "G.node[n]"
   ]
  },
  {
   "cell_type": "code",
   "execution_count": 16,
   "metadata": {
    "collapsed": false
   },
   "outputs": [],
   "source": [
    "def compute_distance(seqrecord1, seqrecord2):\n",
    "    smaller_length = min([len(seqrecord1.seq.ungap('-')), len(seqrecord2.seq.ungap('-'))])\n",
    "    \n",
    "    distance = 0\n",
    "    for i in range(len(seqrecord1.seq)):\n",
    "        l1 = seqrecord1.seq[i]\n",
    "        l2 = seqrecord2.seq[i]\n",
    "        \n",
    "        if l1 != '-' and l2 != '-' and l1 != l2:\n",
    "            distance += 1\n",
    "            \n",
    "    if smaller_length == 0:\n",
    "        return 1\n",
    "    else:\n",
    "        return float(distance) / smaller_length\n",
    "    \n",
    "def compute_hamming_distance(seqrecord1, seqrecord2):\n",
    "    \"\"\"\n",
    "    Computes the hamming distance between two seqrecords' sequences.\n",
    "    \"\"\"\n",
    "    from Levenshtein import distance\n",
    "    \n",
    "    s1 = str(seqrecord1.seq)\n",
    "    s2 = str(seqrecord2.seq)\n",
    "    \n",
    "    return distance(s1, s2) / float(len(seqrecord1.seq))\n",
    "\n",
    "def host_phylogenetic_distance(G, n1, n2):\n",
    "    \"\"\"\n",
    "    Compare two nodes' phylogenetic distance.\n",
    "    \"\"\"\n",
    "    from Bio.SeqRecord import SeqRecord\n",
    "    rrna_1 = G.node[n1]['18s_rRNA_sequence']\n",
    "    rrna_2 = G.node[n2]['18s_rRNA_sequence']\n",
    "    \n",
    "    assert isinstance(rrna_1, SeqRecord), '{0} does not have a valid rRNA sequence.'.format(n1)\n",
    "    assert isinstance(rrna_2, SeqRecord), '{0} does not have a valid rRNA sequence.'.format(n2)\n",
    "    \n",
    "    return compute_distance(rrna_1, rrna_2)\n",
    "\n",
    "def host_hamming_distance(G, n1, n2):\n",
    "    \"\"\"\n",
    "    Returns the hamming distnace between two seqrecords.\n",
    "    \"\"\"\n",
    "    from Bio.SeqRecord import SeqRecord\n",
    "    rrna_1 = G.node[n1]['18s_rRNA_sequence']\n",
    "    rrna_2 = G.node[n2]['18s_rRNA_sequence']\n",
    "    \n",
    "    assert isinstance(rrna_1, SeqRecord), '{0} does not have a valid rRNA sequence.'.format(n1)\n",
    "    assert isinstance(rrna_2, SeqRecord), '{0} does not have a valid rRNA sequence.'.format(n2)\n",
    "\n",
    "    return compute_hamming_distance(rrna_1, rrna_2)"
   ]
  },
  {
   "cell_type": "code",
   "execution_count": 17,
   "metadata": {
    "collapsed": false,
    "scrolled": false
   },
   "outputs": [
    {
     "name": "stdout",
     "output_type": "stream",
     "text": [
      "(0.2032520325203252, 'Swine', 'Human')\n"
     ]
    },
    {
     "data": {
      "image/png": "[encoded data removed]",
      "text/plain": [
       "<matplotlib.figure.Figure at 0x10fa69410>"
      ]
     },
     "metadata": {},
     "output_type": "display_data"
    }
   ],
   "source": [
    "from itertools import combinations\n",
    "\n",
    "distances = []\n",
    "for (h1, s1), (h2, s2) in combinations(host_sequence.items(), 2):\n",
    "    if ('Human' in s1.description or 'Human' in s2.description) and ('Swine' in s1.description or 'Swine' in s2.description):\n",
    "        print(compute_distance(s1, s2),  s1.description, s2.description)\n",
    "    \n",
    "    # distances.append(compute_distance(s1,s2))\n",
    "    distances.append(compute_hamming_distance(s1, s2))\n",
    "    \n",
    "plt.hist(distances, bins=100)\n",
    "plt.show()"
   ]
  },
  {
   "cell_type": "code",
   "execution_count": 18,
   "metadata": {
    "collapsed": false
   },
   "outputs": [
    {
     "data": {
      "text/plain": [
       "('A/mallard/Interior Alaska/6MP0160AR1/2006',\n",
       " 'A/green-winged teal/Interior Alaska/6MP1077/2006',\n",
       " {'edge_type': 'full_complement',\n",
       "  'pwi': 7.7231860000000001,\n",
       "  'segments': {1: 0.99085800000000002,\n",
       "   2: 0.88994799999999996,\n",
       "   3: 0.90987300000000004,\n",
       "   4: 0.99942500000000001,\n",
       "   5: 0.93408000000000002,\n",
       "   6: 1.0,\n",
       "   7: 0.99900199999999995,\n",
       "   8: 1.0}})"
      ]
     },
     "execution_count": 18,
     "metadata": {},
     "output_type": "execute_result"
    }
   ],
   "source": [
    "G.edges(data=True)[0]"
   ]
  },
  {
   "cell_type": "code",
   "execution_count": 19,
   "metadata": {
    "collapsed": false
   },
   "outputs": [],
   "source": [
    "# Compute distribution of phylo distances across reassortant vs. whole genome edges.\n",
    "# Perform 2-sample KS test to see if they are different.\n",
    "# Ignore the following:\n",
    "\n",
    "def count_delta_phyloD(G):\n",
    "    \"\"\"\n",
    "    Computes the distribution of phylogenetic distances across every edge\n",
    "    in a graph.\n",
    "    \"\"\"\n",
    "    reassortant_phyloD = []\n",
    "    full_complement_phyloD = []\n",
    "\n",
    "    for sc, sk, d in G.edges(data=True):\n",
    "        sc_18s = G.node[sc]['18s_rRNA_sequence'].seq.ungap('-')\n",
    "        sk_18s = G.node[sk]['18s_rRNA_sequence'].seq.ungap('-')\n",
    "\n",
    "        if len(sc_18s) != 0 and len(sk_18s) != 0:\n",
    "            dist = host_hamming_distance(G, sc, sk)\n",
    "            if d['edge_type'] == 'reassortant':\n",
    "                reassortant_phyloD.append(dist)\n",
    "\n",
    "            elif d['edge_type'] == 'full_complement':\n",
    "                full_complement_phyloD.append(dist)\n",
    "                \n",
    "    return reassortant_phyloD, full_complement_phyloD"
   ]
  },
  {
   "cell_type": "code",
   "execution_count": 20,
   "metadata": {
    "collapsed": false
   },
   "outputs": [],
   "source": [
    "reassortant_phyloD, full_complement_phyloD = count_delta_phyloD(G)"
   ]
  },
  {
   "cell_type": "code",
   "execution_count": 21,
   "metadata": {
    "collapsed": false
   },
   "outputs": [
    {
     "data": {
      "text/plain": [
       "[0.0,\n",
       " 0.0,\n",
       " 0.0,\n",
       " 0.0,\n",
       " 0.09268292682926829,\n",
       " 0.2048780487804878,\n",
       " 0.2048780487804878,\n",
       " 0.2048780487804878,\n",
       " 0.2048780487804878,\n",
       " 0.2048780487804878,\n",
       " 0.17560975609756097,\n",
       " 0.2048780487804878,\n",
       " 0.2048780487804878,\n",
       " 0.2048780487804878,\n",
       " 0.2048780487804878,\n",
       " 0.2048780487804878,\n",
       " 0.16260162601626016,\n",
       " 0.2016260162601626,\n",
       " 0.0,\n",
       " 0.0,\n",
       " 0.0,\n",
       " 0.0,\n",
       " 0.0,\n",
       " 0.17560975609756097,\n",
       " 0.0,\n",
       " 0.0,\n",
       " 0.17560975609756097,\n",
       " 0.09268292682926829,\n",
       " 0.0,\n",
       " 0.0,\n",
       " 0.0,\n",
       " 0.0,\n",
       " 0.0,\n",
       " 0.1024390243902439,\n",
       " 0.0,\n",
       " 0.0,\n",
       " 0.0,\n",
       " 0.0,\n",
       " 0.0,\n",
       " 0.0,\n",
       " 0.0,\n",
       " 0.0,\n",
       " 0.0,\n",
       " 0.0,\n",
       " 0.16747967479674797,\n",
       " 0.0,\n",
       " 0.0,\n",
       " 0.0,\n",
       " 0.0,\n",
       " 0.0,\n",
       " 0.0,\n",
       " 0.0,\n",
       " 0.0,\n",
       " 0.0,\n",
       " 0.0,\n",
       " 0.0,\n",
       " 0.0,\n",
       " 0.0,\n",
       " 0.0,\n",
       " 0.0,\n",
       " 0.0,\n",
       " 0.0,\n",
       " 0.0,\n",
       " 0.0,\n",
       " 0.0,\n",
       " 0.0,\n",
       " 0.0,\n",
       " 0.0,\n",
       " 0.09268292682926829,\n",
       " 0.15934959349593497,\n",
       " 0.13333333333333333,\n",
       " 0.0,\n",
       " 0.0,\n",
       " 0.0,\n",
       " 0.0,\n",
       " 0.0,\n",
       " 0.2016260162601626,\n",
       " 0.0,\n",
       " 0.0,\n",
       " 0.0,\n",
       " 0.0,\n",
       " 0.2048780487804878,\n",
       " 0.2016260162601626,\n",
       " 0.2016260162601626,\n",
       " 0.2016260162601626,\n",
       " 0.2016260162601626,\n",
       " 0.2016260162601626,\n",
       " 0.2016260162601626,\n",
       " 0.2016260162601626,\n",
       " 0.2016260162601626,\n",
       " 0.2016260162601626,\n",
       " 0.2016260162601626,\n",
       " 0.0,\n",
       " 0.0,\n",
       " 0.0,\n",
       " 0.0991869918699187,\n",
       " 0.0,\n",
       " 0.0,\n",
       " 0.0,\n",
       " 0.17886178861788618,\n",
       " 0.08455284552845528,\n",
       " 0.09268292682926829,\n",
       " 0.09268292682926829,\n",
       " 0.0,\n",
       " 0.1024390243902439,\n",
       " 0.0,\n",
       " 0.0,\n",
       " 0.0,\n",
       " 0.0,\n",
       " 0.0,\n",
       " 0.0,\n",
       " 0.0,\n",
       " 0.0,\n",
       " 0.17560975609756097,\n",
       " 0.17560975609756097,\n",
       " 0.17560975609756097,\n",
       " 0.2016260162601626,\n",
       " 0.0,\n",
       " 0.17560975609756097,\n",
       " 0.17560975609756097,\n",
       " 0.17560975609756097,\n",
       " 0.0,\n",
       " 0.10894308943089431,\n",
       " 0.0,\n",
       " 0.183739837398374,\n",
       " 0.0,\n",
       " 0.0,\n",
       " 0.0,\n",
       " 0.0,\n",
       " 0.0,\n",
       " 0.0,\n",
       " 0.0,\n",
       " 0.0,\n",
       " 0.0,\n",
       " 0.0,\n",
       " 0.0,\n",
       " 0.0,\n",
       " 0.0,\n",
       " 0.0,\n",
       " 0.0,\n",
       " 0.0,\n",
       " 0.0,\n",
       " 0.0,\n",
       " 0.17560975609756097,\n",
       " 0.0,\n",
       " 0.0,\n",
       " 0.16260162601626016,\n",
       " 0.16260162601626016,\n",
       " 0.16260162601626016,\n",
       " 0.16260162601626016,\n",
       " 0.0,\n",
       " 0.0,\n",
       " 0.0,\n",
       " 0.0,\n",
       " 0.0,\n",
       " 0.0,\n",
       " 0.09268292682926829,\n",
       " 0.09268292682926829,\n",
       " 0.0,\n",
       " 0.0,\n",
       " 0.0,\n",
       " 0.0,\n",
       " 0.0,\n",
       " 0.0,\n",
       " 0.0,\n",
       " 0.0,\n",
       " 0.09268292682926829,\n",
       " 0.0,\n",
       " 0.0,\n",
       " 0.0,\n",
       " 0.0,\n",
       " 0.0,\n",
       " 0.0,\n",
       " 0.0,\n",
       " 0.0,\n",
       " 0.216260162601626,\n",
       " 0.0,\n",
       " 0.17560975609756097,\n",
       " 0.0,\n",
       " 0.16260162601626016,\n",
       " 0.0,\n",
       " 0.0,\n",
       " 0.0,\n",
       " 0.0,\n",
       " 0.0,\n",
       " 0.0,\n",
       " 0.0,\n",
       " 0.0,\n",
       " 0.0,\n",
       " 0.0,\n",
       " 0.0,\n",
       " 0.0,\n",
       " 0.0,\n",
       " 0.0,\n",
       " 0.0,\n",
       " 0.0,\n",
       " 0.0,\n",
       " 0.0,\n",
       " 0.2016260162601626,\n",
       " 0.1024390243902439,\n",
       " 0.0,\n",
       " 0.0,\n",
       " 0.21138211382113822,\n",
       " 0.21138211382113822,\n",
       " 0.0,\n",
       " 0.0,\n",
       " 0.0,\n",
       " 0.0,\n",
       " 0.0,\n",
       " 0.0,\n",
       " 0.0,\n",
       " 0.0,\n",
       " 0.0,\n",
       " 0.0,\n",
       " 0.0,\n",
       " 0.0,\n",
       " 0.0,\n",
       " 0.0,\n",
       " 0.0,\n",
       " 0.216260162601626,\n",
       " 0.0,\n",
       " 0.0,\n",
       " 0.0,\n",
       " 0.0,\n",
       " 0.0,\n",
       " 0.0,\n",
       " 0.0,\n",
       " 0.0,\n",
       " 0.0,\n",
       " 0.0,\n",
       " 0.16260162601626016,\n",
       " 0.0991869918699187,\n",
       " 0.0,\n",
       " 0.0,\n",
       " 0.0,\n",
       " 0.0,\n",
       " 0.0,\n",
       " 0.0,\n",
       " 0.0,\n",
       " 0.0,\n",
       " 0.0,\n",
       " 0.0,\n",
       " 0.0,\n",
       " 0.0,\n",
       " 0.0,\n",
       " 0.0,\n",
       " 0.0,\n",
       " 0.0,\n",
       " 0.0,\n",
       " 0.0,\n",
       " 0.0,\n",
       " 0.0,\n",
       " 0.0,\n",
       " 0.0,\n",
       " 0.0,\n",
       " 0.0,\n",
       " 0.17560975609756097,\n",
       " 0.0,\n",
       " 0.0,\n",
       " 0.0,\n",
       " 0.0,\n",
       " 0.0,\n",
       " 0.0,\n",
       " 0.0,\n",
       " 0.0,\n",
       " 0.0,\n",
       " 0.0,\n",
       " 0.0,\n",
       " 0.2048780487804878,\n",
       " 0.2048780487804878,\n",
       " 0.2048780487804878,\n",
       " 0.2048780487804878,\n",
       " 0.2048780487804878,\n",
       " 0.17560975609756097,\n",
       " 0.2048780487804878,\n",
       " 0.2048780487804878,\n",
       " 0.2048780487804878,\n",
       " 0.2048780487804878,\n",
       " 0.2048780487804878,\n",
       " 0.2048780487804878,\n",
       " 0.0,\n",
       " 0.0,\n",
       " 0.0,\n",
       " 0.1040650406504065,\n",
       " 0.0,\n",
       " 0.0,\n",
       " 0.0,\n",
       " 0.0,\n",
       " 0.16747967479674797,\n",
       " 0.0910569105691057,\n",
       " 0.0,\n",
       " 0.0,\n",
       " 0.0,\n",
       " 0.0,\n",
       " 0.0,\n",
       " 0.0,\n",
       " 0.0,\n",
       " 0.0,\n",
       " 0.0,\n",
       " 0.0,\n",
       " 0.0,\n",
       " 0.0,\n",
       " 0.0,\n",
       " 0.0,\n",
       " 0.0,\n",
       " 0.0,\n",
       " 0.0,\n",
       " 0.0,\n",
       " 0.0,\n",
       " 0.0,\n",
       " 0.0,\n",
       " 0.0,\n",
       " 0.0,\n",
       " 0.09268292682926829,\n",
       " 0.0,\n",
       " 0.2016260162601626,\n",
       " 0.2016260162601626,\n",
       " 0.2016260162601626,\n",
       " 0.2016260162601626,\n",
       " 0.2016260162601626,\n",
       " 0.0,\n",
       " 0.2016260162601626,\n",
       " 0.2016260162601626,\n",
       " 0.2016260162601626,\n",
       " 0.2016260162601626,\n",
       " 0.2016260162601626,\n",
       " 0.0,\n",
       " 0.16747967479674797,\n",
       " 0.0,\n",
       " 0.0,\n",
       " 0.0,\n",
       " 0.0,\n",
       " 0.0,\n",
       " 0.16910569105691056,\n",
       " 0.0,\n",
       " 0.0,\n",
       " 0.0,\n",
       " 0.0,\n",
       " 0.0,\n",
       " 0.0,\n",
       " 0.0,\n",
       " 0.0,\n",
       " 0.1821138211382114,\n",
       " 0.0,\n",
       " 0.0,\n",
       " 0.10894308943089431,\n",
       " 0.0,\n",
       " 0.0,\n",
       " 0.0,\n",
       " 0.17560975609756097,\n",
       " 0.0,\n",
       " 0.0,\n",
       " 0.0,\n",
       " 0.0,\n",
       " 0.0,\n",
       " 0.0,\n",
       " 0.0,\n",
       " 0.16260162601626016,\n",
       " 0.16260162601626016,\n",
       " 0.0,\n",
       " 0.13983739837398373,\n",
       " 0.0,\n",
       " 0.0,\n",
       " 0.0,\n",
       " 0.0,\n",
       " 0.0,\n",
       " 0.0,\n",
       " 0.0,\n",
       " 0.0,\n",
       " 0.216260162601626,\n",
       " 0.0,\n",
       " 0.16747967479674797,\n",
       " 0.17560975609756097,\n",
       " 0.0,\n",
       " 0.17560975609756097,\n",
       " 0.16260162601626016,\n",
       " 0.16260162601626016,\n",
       " 0.16260162601626016,\n",
       " 0.16260162601626016,\n",
       " 0.16260162601626016,\n",
       " 0.16260162601626016,\n",
       " 0.16260162601626016,\n",
       " 0.16260162601626016,\n",
       " 0.16260162601626016,\n",
       " 0.16260162601626016,\n",
       " 0.2016260162601626,\n",
       " 0.2016260162601626,\n",
       " 0.2016260162601626,\n",
       " 0.2016260162601626,\n",
       " 0.2016260162601626,\n",
       " 0.2016260162601626,\n",
       " 0.17560975609756097,\n",
       " 0.0,\n",
       " 0.0,\n",
       " 0.0,\n",
       " 0.0,\n",
       " 0.0,\n",
       " 0.0,\n",
       " 0.0,\n",
       " 0.0,\n",
       " 0.0,\n",
       " 0.0,\n",
       " 0.0,\n",
       " 0.0,\n",
       " 0.0,\n",
       " 0.0,\n",
       " 0.0,\n",
       " 0.0,\n",
       " 0.0,\n",
       " 0.0,\n",
       " 0.0,\n",
       " 0.216260162601626,\n",
       " 0.17560975609756097,\n",
       " 0.17560975609756097,\n",
       " 0.1024390243902439,\n",
       " 0.17560975609756097,\n",
       " 0.0,\n",
       " 0.0,\n",
       " 0.0,\n",
       " 0.0,\n",
       " 0.16260162601626016,\n",
       " 0.0,\n",
       " 0.0,\n",
       " 0.0,\n",
       " 0.0,\n",
       " 0.0,\n",
       " 0.0,\n",
       " 0.09268292682926829,\n",
       " 0.0,\n",
       " 0.0,\n",
       " 0.0,\n",
       " 0.0,\n",
       " 0.0,\n",
       " 0.0,\n",
       " 0.0,\n",
       " 0.2048780487804878,\n",
       " 0.0,\n",
       " 0.0,\n",
       " 0.17560975609756097,\n",
       " 0.0,\n",
       " 0.0,\n",
       " 0.0,\n",
       " 0.09268292682926829,\n",
       " 0.16910569105691056,\n",
       " 0.15447154471544716,\n",
       " 0.0,\n",
       " 0.16260162601626016,\n",
       " 0.0,\n",
       " 0.0,\n",
       " 0.0,\n",
       " 0.0,\n",
       " 0.0,\n",
       " 0.0,\n",
       " 0.0,\n",
       " 0.216260162601626,\n",
       " 0.17560975609756097,\n",
       " 0.0,\n",
       " 0.0,\n",
       " 0.0,\n",
       " 0.0,\n",
       " 0.2016260162601626,\n",
       " 0.0,\n",
       " 0.11707317073170732,\n",
       " 0.17560975609756097,\n",
       " 0.216260162601626,\n",
       " 0.0,\n",
       " 0.0,\n",
       " 0.0,\n",
       " 0.0,\n",
       " 0.0,\n",
       " 0.0,\n",
       " 0.0,\n",
       " 0.0,\n",
       " 0.0,\n",
       " 0.0,\n",
       " 0.0,\n",
       " 0.0,\n",
       " 0.0,\n",
       " 0.0,\n",
       " 0.16260162601626016,\n",
       " 0.16260162601626016,\n",
       " 0.0,\n",
       " 0.0,\n",
       " 0.0,\n",
       " 0.0,\n",
       " 0.0,\n",
       " 0.0,\n",
       " 0.17560975609756097,\n",
       " 0.0,\n",
       " 0.0,\n",
       " 0.13983739837398373,\n",
       " 0.0,\n",
       " 0.0,\n",
       " 0.0,\n",
       " 0.0,\n",
       " 0.0,\n",
       " 0.16260162601626016,\n",
       " 0.0,\n",
       " 0.14308943089430895,\n",
       " 0.0,\n",
       " 0.0,\n",
       " 0.0,\n",
       " 0.0,\n",
       " 0.11707317073170732,\n",
       " 0.0,\n",
       " 0.11707317073170732,\n",
       " 0.11707317073170732,\n",
       " 0.0,\n",
       " 0.0,\n",
       " 0.0,\n",
       " 0.0,\n",
       " 0.0,\n",
       " 0.0,\n",
       " 0.0,\n",
       " 0.10894308943089431,\n",
       " 0.0991869918699187,\n",
       " 0.0,\n",
       " 0.0,\n",
       " 0.17560975609756097,\n",
       " 0.0,\n",
       " 0.0,\n",
       " 0.0,\n",
       " 0.0,\n",
       " 0.0,\n",
       " 0.0,\n",
       " 0.0,\n",
       " 0.0,\n",
       " 0.0,\n",
       " 0.16260162601626016,\n",
       " 0.0,\n",
       " 0.0,\n",
       " 0.0,\n",
       " 0.0,\n",
       " 0.0,\n",
       " 0.216260162601626,\n",
       " 0.17560975609756097,\n",
       " 0.0,\n",
       " 0.0,\n",
       " 0.0,\n",
       " 0.0,\n",
       " 0.0,\n",
       " 0.0,\n",
       " 0.0,\n",
       " 0.0,\n",
       " 0.0,\n",
       " 0.0,\n",
       " 0.0,\n",
       " 0.17560975609756097,\n",
       " 0.17560975609756097,\n",
       " 0.1024390243902439,\n",
       " 0.1024390243902439,\n",
       " 0.1024390243902439,\n",
       " 0.1024390243902439,\n",
       " 0.1024390243902439,\n",
       " 0.1024390243902439,\n",
       " 0.1024390243902439,\n",
       " 0.1024390243902439,\n",
       " 0.1024390243902439,\n",
       " 0.17560975609756097,\n",
       " 0.2016260162601626,\n",
       " 0.2016260162601626,\n",
       " 0.2048780487804878,\n",
       " 0.0,\n",
       " 0.14959349593495935,\n",
       " 0.0,\n",
       " 0.0,\n",
       " 0.216260162601626,\n",
       " 0.16260162601626016,\n",
       " 0.16747967479674797,\n",
       " 0.0,\n",
       " 0.17560975609756097,\n",
       " 0.0,\n",
       " 0.0,\n",
       " 0.17560975609756097,\n",
       " 0.17560975609756097,\n",
       " 0.0,\n",
       " 0.2016260162601626,\n",
       " 0.0,\n",
       " 0.16260162601626016,\n",
       " 0.216260162601626,\n",
       " 0.0,\n",
       " 0.16747967479674797,\n",
       " 0.0,\n",
       " 0.0,\n",
       " 0.0,\n",
       " 0.16260162601626016,\n",
       " 0.16260162601626016,\n",
       " 0.16260162601626016,\n",
       " 0.16260162601626016,\n",
       " 0.16260162601626016,\n",
       " 0.0,\n",
       " 0.0,\n",
       " 0.0,\n",
       " 0.0,\n",
       " 0.0,\n",
       " 0.0,\n",
       " 0.0,\n",
       " 0.0,\n",
       " 0.0,\n",
       " 0.0,\n",
       " 0.0,\n",
       " 0.0,\n",
       " 0.0,\n",
       " 0.0,\n",
       " 0.17560975609756097,\n",
       " 0.0,\n",
       " 0.0,\n",
       " 0.0,\n",
       " 0.11707317073170732,\n",
       " 0.0,\n",
       " 0.183739837398374,\n",
       " 0.0,\n",
       " 0.0,\n",
       " 0.17560975609756097,\n",
       " 0.0,\n",
       " 0.0,\n",
       " 0.0,\n",
       " 0.17560975609756097,\n",
       " 0.17560975609756097,\n",
       " 0.17560975609756097,\n",
       " 0.0,\n",
       " 0.0,\n",
       " 0.0,\n",
       " 0.0,\n",
       " 0.0,\n",
       " 0.0,\n",
       " 0.0,\n",
       " 0.0,\n",
       " 0.0,\n",
       " 0.0,\n",
       " 0.0,\n",
       " 0.0,\n",
       " 0.0,\n",
       " 0.2016260162601626,\n",
       " 0.0,\n",
       " 0.0,\n",
       " 0.0,\n",
       " 0.0,\n",
       " 0.0,\n",
       " 0.0,\n",
       " 0.0,\n",
       " 0.0,\n",
       " 0.1024390243902439,\n",
       " 0.0,\n",
       " 0.0,\n",
       " 0.16260162601626016,\n",
       " 0.2048780487804878,\n",
       " 0.17560975609756097,\n",
       " 0.17560975609756097,\n",
       " 0.17560975609756097,\n",
       " 0.0,\n",
       " 0.0,\n",
       " 0.0,\n",
       " 0.0,\n",
       " 0.0,\n",
       " 0.0,\n",
       " 0.0,\n",
       " 0.0,\n",
       " 0.0,\n",
       " 0.0959349593495935,\n",
       " 0.0,\n",
       " 0.0,\n",
       " 0.0,\n",
       " 0.0,\n",
       " 0.0,\n",
       " 0.0,\n",
       " 0.0,\n",
       " 0.0,\n",
       " 0.0,\n",
       " 0.0,\n",
       " 0.0,\n",
       " 0.0,\n",
       " 0.0,\n",
       " 0.11707317073170732,\n",
       " 0.0,\n",
       " 0.16260162601626016,\n",
       " 0.0,\n",
       " 0.0,\n",
       " 0.0,\n",
       " 0.16260162601626016,\n",
       " 0.16260162601626016,\n",
       " 0.16260162601626016,\n",
       " 0.0,\n",
       " 0.2048780487804878,\n",
       " 0.0,\n",
       " 0.09268292682926829,\n",
       " 0.15609756097560976,\n",
       " 0.17560975609756097,\n",
       " 0.0,\n",
       " 0.0,\n",
       " 0.0,\n",
       " 0.0,\n",
       " 0.0,\n",
       " 0.0,\n",
       " 0.0,\n",
       " 0.0,\n",
       " 0.2016260162601626,\n",
       " 0.0,\n",
       " 0.2016260162601626,\n",
       " 0.2016260162601626,\n",
       " 0.0,\n",
       " 0.2016260162601626,\n",
       " 0.2016260162601626,\n",
       " 0.2016260162601626,\n",
       " 0.0,\n",
       " 0.0,\n",
       " 0.2016260162601626,\n",
       " 0.2016260162601626,\n",
       " 0.2016260162601626,\n",
       " 0.2016260162601626,\n",
       " 0.2016260162601626,\n",
       " 0.2016260162601626,\n",
       " 0.0,\n",
       " 0.2016260162601626,\n",
       " 0.2016260162601626,\n",
       " 0.0,\n",
       " 0.2016260162601626,\n",
       " 0.2016260162601626,\n",
       " 0.0,\n",
       " 0.0,\n",
       " 0.0,\n",
       " 0.0,\n",
       " 0.0,\n",
       " 0.0,\n",
       " 0.0,\n",
       " 0.11707317073170732,\n",
       " 0.0,\n",
       " 0.0,\n",
       " 0.0,\n",
       " 0.0,\n",
       " 0.0,\n",
       " 0.0,\n",
       " 0.0,\n",
       " 0.0,\n",
       " 0.0,\n",
       " 0.0,\n",
       " 0.0,\n",
       " 0.0,\n",
       " 0.09268292682926829,\n",
       " 0.15934959349593497,\n",
       " 0.15934959349593497,\n",
       " 0.0,\n",
       " 0.16260162601626016,\n",
       " 0.16260162601626016,\n",
       " 0.16260162601626016,\n",
       " 0.0,\n",
       " 0.0,\n",
       " 0.0,\n",
       " 0.0,\n",
       " 0.18048780487804877,\n",
       " 0.0,\n",
       " 0.0,\n",
       " 0.0,\n",
       " 0.17560975609756097,\n",
       " 0.17560975609756097,\n",
       " 0.1024390243902439,\n",
       " 0.17560975609756097,\n",
       " 0.0,\n",
       " 0.0,\n",
       " 0.17560975609756097,\n",
       " 0.0,\n",
       " 0.1821138211382114,\n",
       " 0.0,\n",
       " 0.16260162601626016,\n",
       " 0.0,\n",
       " 0.0,\n",
       " 0.0,\n",
       " 0.0,\n",
       " 0.0,\n",
       " 0.0,\n",
       " 0.0,\n",
       " 0.0,\n",
       " 0.0,\n",
       " 0.0,\n",
       " 0.0,\n",
       " 0.0,\n",
       " 0.0,\n",
       " 0.0,\n",
       " 0.0,\n",
       " 0.0,\n",
       " 0.0,\n",
       " 0.0,\n",
       " 0.1024390243902439,\n",
       " 0.1024390243902439,\n",
       " 0.1024390243902439,\n",
       " 0.1024390243902439,\n",
       " 0.1024390243902439,\n",
       " 0.1024390243902439,\n",
       " 0.1024390243902439,\n",
       " 0.1024390243902439,\n",
       " 0.1024390243902439,\n",
       " 0.1024390243902439,\n",
       " 0.1024390243902439,\n",
       " 0.14959349593495935,\n",
       " 0.1024390243902439,\n",
       " 0.1024390243902439,\n",
       " 0.1024390243902439,\n",
       " 0.1024390243902439,\n",
       " 0.0,\n",
       " 0.0,\n",
       " 0.0,\n",
       " 0.0,\n",
       " 0.0,\n",
       " 0.0,\n",
       " 0.0,\n",
       " 0.0,\n",
       " 0.0,\n",
       " 0.0,\n",
       " 0.0,\n",
       " 0.0,\n",
       " 0.0,\n",
       " 0.0,\n",
       " 0.0,\n",
       " 0.0,\n",
       " 0.0,\n",
       " 0.0,\n",
       " 0.0,\n",
       " 0.0,\n",
       " 0.0,\n",
       " 0.0,\n",
       " 0.0,\n",
       " 0.0,\n",
       " 0.0,\n",
       " 0.17073170731707318,\n",
       " 0.17073170731707318,\n",
       " 0.0,\n",
       " 0.0,\n",
       " 0.0,\n",
       " 0.0,\n",
       " 0.0,\n",
       " 0.0,\n",
       " 0.0,\n",
       " 0.0,\n",
       " 0.0,\n",
       " 0.0,\n",
       " 0.0,\n",
       " 0.0,\n",
       " 0.0,\n",
       " 0.1772357723577236,\n",
       " 0.17560975609756097,\n",
       " 0.0,\n",
       " 0.0,\n",
       " 0.0,\n",
       " 0.0,\n",
       " 0.0,\n",
       " 0.0,\n",
       " 0.0,\n",
       " 0.0,\n",
       " 0.0,\n",
       " 0.0,\n",
       " 0.0,\n",
       " 0.0,\n",
       " 0.0,\n",
       " 0.0,\n",
       " 0.0,\n",
       " 0.0,\n",
       " 0.0,\n",
       " 0.0,\n",
       " 0.0,\n",
       " 0.0,\n",
       " 0.16260162601626016,\n",
       " 0.16260162601626016,\n",
       " 0.16260162601626016,\n",
       " 0.16260162601626016,\n",
       " 0.16260162601626016,\n",
       " 0.0,\n",
       " 0.16260162601626016,\n",
       " 0.16260162601626016,\n",
       " 0.17560975609756097,\n",
       " 0.0,\n",
       " 0.17560975609756097,\n",
       " 0.17560975609756097,\n",
       " 0.16747967479674797,\n",
       " 0.0,\n",
       " 0.15121951219512195,\n",
       " 0.0,\n",
       " 0.0,\n",
       " 0.0,\n",
       " 0.0,\n",
       " 0.0,\n",
       " 0.0959349593495935,\n",
       " 0.0959349593495935,\n",
       " 0.0959349593495935,\n",
       " 0.0959349593495935,\n",
       " 0.0,\n",
       " 0.0,\n",
       " 0.0,\n",
       " 0.0,\n",
       " 0.0,\n",
       " 0.0,\n",
       " 0.0,\n",
       " 0.18048780487804877,\n",
       " 0.0,\n",
       " 0.0,\n",
       " 0.0959349593495935,\n",
       " 0.0959349593495935,\n",
       " 0.0959349593495935,\n",
       " 0.0959349593495935,\n",
       " 0.0959349593495935,\n",
       " 0.0959349593495935,\n",
       " 0.0959349593495935,\n",
       " 0.18699186991869918,\n",
       " 0.0959349593495935,\n",
       " 0.0959349593495935,\n",
       " 0.0959349593495935,\n",
       " 0.0,\n",
       " 0.0,\n",
       " 0.0,\n",
       " 0.0,\n",
       " 0.0,\n",
       " 0.0,\n",
       " 0.0,\n",
       " 0.0,\n",
       " 0.0,\n",
       " 0.0,\n",
       " 0.0,\n",
       " 0.0,\n",
       " 0.0,\n",
       " 0.0,\n",
       " 0.1772357723577236,\n",
       " 0.0,\n",
       " 0.0,\n",
       " 0.0,\n",
       " 0.0,\n",
       " 0.0,\n",
       " 0.0,\n",
       " 0.0,\n",
       " 0.0,\n",
       " 0.0,\n",
       " 0.0,\n",
       " 0.0,\n",
       " 0.0,\n",
       " 0.0,\n",
       " 0.0,\n",
       " 0.0,\n",
       " 0.0,\n",
       " 0.0,\n",
       " 0.0,\n",
       " 0.0,\n",
       " 0.0,\n",
       " 0.0,\n",
       " 0.0,\n",
       " 0.0,\n",
       " 0.0,\n",
       " 0.0,\n",
       " 0.0,\n",
       " 0.0,\n",
       " 0.0,\n",
       " 0.0,\n",
       " 0.0,\n",
       " 0.0,\n",
       " 0.0,\n",
       " 0.0,\n",
       " 0.0,\n",
       " 0.0,\n",
       " 0.0,\n",
       " 0.0,\n",
       " 0.0,\n",
       " 0.0,\n",
       " 0.0,\n",
       " 0.0,\n",
       " 0.0,\n",
       " 0.0,\n",
       " 0.0,\n",
       " 0.0,\n",
       " 0.0,\n",
       " 0.0,\n",
       " 0.0,\n",
       " 0.0,\n",
       " 0.0,\n",
       " 0.0,\n",
       " 0.0,\n",
       " 0.0,\n",
       " 0.0,\n",
       " 0.17560975609756097,\n",
       " 0.16260162601626016,\n",
       " 0.1024390243902439,\n",
       " 0.0,\n",
       " 0.0,\n",
       " 0.16260162601626016,\n",
       " 0.0,\n",
       " 0.0,\n",
       " 0.0,\n",
       " 0.0,\n",
       " 0.216260162601626,\n",
       " 0.16260162601626016,\n",
       " 0.0,\n",
       " 0.0,\n",
       " 0.0,\n",
       " 0.0,\n",
       " 0.0,\n",
       " 0.0,\n",
       " 0.17560975609756097,\n",
       " 0.0,\n",
       " 0.0,\n",
       " 0.0,\n",
       " 0.0,\n",
       " 0.16260162601626016,\n",
       " 0.0,\n",
       " 0.0910569105691057,\n",
       " ...]"
      ]
     },
     "execution_count": 21,
     "metadata": {},
     "output_type": "execute_result"
    }
   ],
   "source": [
    "reassortant_phyloD"
   ]
  },
  {
   "cell_type": "code",
   "execution_count": 22,
   "metadata": {
    "collapsed": false
   },
   "outputs": [
    {
     "data": {
      "text/plain": [
       "(10,)"
      ]
     },
     "execution_count": 22,
     "metadata": {},
     "output_type": "execute_result"
    }
   ],
   "source": [
    "len(reassortant_phyloD)\n",
    "\n",
    "import numpy as np\n",
    "\n",
    "bins = np.arange(0,0.51,0.05)\n",
    "\n",
    "reassortant_binned = np.histogram(reassortant_phyloD, bins=bins)[0].astype(float)\n",
    "full_complement_binned = np.histogram(full_complement_phyloD, bins=bins)[0].astype(float)\n",
    "\n",
    "full_complement_binned.shape"
   ]
  },
  {
   "cell_type": "code",
   "execution_count": 50,
   "metadata": {
    "collapsed": false
   },
   "outputs": [
    {
     "data": {
      "text/plain": [
       "(10,)"
      ]
     },
     "execution_count": 50,
     "metadata": {},
     "output_type": "execute_result"
    }
   ],
   "source": [
    "xpoints = np.arange(0,0.50,0.05)\n",
    "xpoints.shape"
   ]
  },
  {
   "cell_type": "code",
   "execution_count": 91,
   "metadata": {
    "collapsed": false
   },
   "outputs": [
    {
     "data": {
      "image/png": "[encoded data removed]",
      "text/plain": [
       "<matplotlib.figure.Figure at 0x11e495c50>"
      ]
     },
     "metadata": {},
     "output_type": "display_data"
    }
   ],
   "source": [
    "proportion_reassortant = reassortant_binned / (full_complement_binned + reassortant_binned)\n",
    "\n",
    "fig = plt.figure(figsize=(3,2))\n",
    "\n",
    "ax1 = fig.add_subplot(111)\n",
    "ax1.plot(xpoints[0:5], full_complement_binned[0:5], color='green', label='Whole Genome')\n",
    "ax1.plot(xpoints[0:5], reassortant_binned[0:5], color='blue', label='Reassortant')\n",
    "ax1.set_ylabel('Counts (x1000)\\n\\n')\n",
    "ax1.set_xlabel('Host Dissimilarity')\n",
    "ax1.set_xlim(1, 6)\n",
    "ax1.set_xticks(np.arange(0.5, 6, 1))\n",
    "ax1.set_xticklabels(np.arange(0, 0.30, 0.05))\n",
    "ax1.legend()\n",
    "plt.subplots_adjust(left=0.15, bottom=0.18, right=0.95, top=0.95)\n",
    "plt.savefig('PhyloD Edges Per Bin.pdf')"
   ]
  },
  {
   "cell_type": "code",
   "execution_count": 30,
   "metadata": {
    "collapsed": false
   },
   "outputs": [],
   "source": [
    "# # Chi-squared test. Groups are:\n",
    "# #                  | 18S same | 18S diff|\n",
    "# # ---------------------------------------\n",
    "# # reassortant      |    1     |    2    |\n",
    "# # ---------------------------------------\n",
    "# # non-reassortant  |    3     |    4    |\n",
    "\n",
    "# from scipy.stats import chi2_contingency\n",
    "\n",
    "# data = np.zeros((2,2))\n",
    "# data[0,0] = Counter(reassortant_phyloD)[0]\n",
    "# data[0,1] = sum([v for k, v in Counter(reassortant_phyloD).items() if k != 0])\n",
    "# data[1,0] = Counter(full_complement_phyloD)[0]\n",
    "# data[1,1] = sum([v for k, v in Counter(full_complement_phyloD).items() if k != 0])\n",
    "# from scipy.stats import chi2_contingency\n",
    "# chi2_contingency(data) \n"
   ]
  },
  {
   "cell_type": "code",
   "execution_count": 31,
   "metadata": {
    "collapsed": false
   },
   "outputs": [],
   "source": [
    "# len(full_complement_phyloD)"
   ]
  },
  {
   "cell_type": "code",
   "execution_count": 32,
   "metadata": {
    "collapsed": false
   },
   "outputs": [],
   "source": [
    "# from scipy.stats import ks_2samp\n",
    "\n",
    "# ks_2samp(sorted(reassortant_phyloD), full_complement_phyloD)\n",
    "# ks_2samp(sorted(full_complement_phyloD), reassortant_phyloD)"
   ]
  },
  {
   "cell_type": "code",
   "execution_count": 33,
   "metadata": {
    "collapsed": false
   },
   "outputs": [],
   "source": [
    "# # Define the \"proportion non-identical\" over all reassortant and full_complement edges. \n",
    "\n",
    "# def proportion_nonidentical(list_of_phyloD_values):\n",
    "#     return 1 - float(Counter(list_of_phyloD_values)[0.0]) / sum(Counter(list_of_phyloD_values).values())\n",
    "# proportion_nonidentical(reassortant_phyloD)"
   ]
  },
  {
   "cell_type": "code",
   "execution_count": 34,
   "metadata": {
    "collapsed": false
   },
   "outputs": [],
   "source": [
    "# proportion_nonidentical(full_complement_phyloD)"
   ]
  },
  {
   "cell_type": "code",
   "execution_count": 35,
   "metadata": {
    "collapsed": false
   },
   "outputs": [],
   "source": [
    "# ratio = proportion_nonidentical(reassortant_phyloD)/proportion_nonidentical(full_complement_phyloD)\n",
    "# # pd.DataFrame([ratio]).to_csv('ratio_identical_nonidentical.csv')"
   ]
  },
  {
   "cell_type": "markdown",
   "metadata": {},
   "source": [
    "30 April 2015\n",
    "\n",
    "Reassortment is more highly represented when there is a phylogenetic difference between the host species than when there isn't.\n",
    "\n",
    "Phylogenetic difference is defined by the 18S rRNA. \n",
    "\n",
    "What if we used cytochrome C oxidase?"
   ]
  },
  {
   "cell_type": "code",
   "execution_count": 36,
   "metadata": {
    "collapsed": false
   },
   "outputs": [
    {
     "data": {
      "text/plain": [
       "(11,)"
      ]
     },
     "execution_count": 36,
     "metadata": {},
     "output_type": "execute_result"
    }
   ],
   "source": [
    "np.shape(bins)"
   ]
  },
  {
   "cell_type": "code",
   "execution_count": 37,
   "metadata": {
    "collapsed": false
   },
   "outputs": [],
   "source": [
    "def permute_18s(G):\n",
    "    \"\"\"\n",
    "    Be sure to pass in a copy of G, and not the original!\n",
    "    Takes in a graph G, shuffles the labels, and returns G with shuffled labels.\n",
    "    \"\"\"\n",
    "    from random import shuffle\n",
    "    rrna_labels = [d['18s_rRNA_sequence'] for n, d in G.nodes(data=True)]\n",
    "    shuffle(rrna_labels)\n",
    "    \n",
    "    for i, n in enumerate(G.nodes()):\n",
    "        G.node[n]['18s_rRNA_sequence'] = rrna_labels[i]\n",
    "        \n",
    "    return G\n",
    "\n",
    "shuffledG = G.copy()\n",
    "\n",
    "expected_reassort = []\n",
    "\n",
    "from time import time\n",
    "\n",
    "data = np.zeros(shape=(100, 10))"
   ]
  },
  {
   "cell_type": "code",
   "execution_count": 38,
   "metadata": {
    "collapsed": false,
    "scrolled": true
   },
   "outputs": [],
   "source": [
    "# for i in range(10): # changed to 100 in script format.\n",
    "#     start_time = time()\n",
    "#     shuffledG = permute_18s(shuffledG)\n",
    "#     reassortant_shuffled_phyloD, full_complement_shuffled_phyloD = count_delta_phyloD(shuffledG)\n",
    "    \n",
    "#     reassortant_shuffled_binned = np.histogram(reassortant_shuffled_phyloD, bins=bins)[0].astype(float)\n",
    "#     full_complement_shuffled_binned = np.histogram(full_complement_shuffled_phyloD, bins=bins)[0].astype(float)\n",
    "    \n",
    "#     expected_proportion_reassortant = reassortant_shuffled_binned / (full_complement_shuffled_binned + reassortant_shuffled_binned)\n",
    "    \n",
    "#     end_time = time()\n",
    "    \n",
    "#     data[i] = expected_proportion_reassortant\n",
    "    \n",
    "#     print('Round {0}, time: {1} s'.format(i, end_time - start_time))"
   ]
  },
  {
   "cell_type": "code",
   "execution_count": 77,
   "metadata": {
    "collapsed": false
   },
   "outputs": [
    {
     "data": {
      "image/png": "[encoded data removed]",
      "text/plain": [
       "<matplotlib.figure.Figure at 0x123cf2090>"
      ]
     },
     "metadata": {},
     "output_type": "display_data"
    }
   ],
   "source": [
    "# pd.DataFrame(data).fillna(0).to_csv('phylod_expected_reassortant_fraction.csv')\n",
    "\n",
    "# Read in the data from running the above cells on Rous.\n",
    "expected_shuffled = pd.read_csv('phylod_expected_reassortant_fraction.csv', index_col=0)\n",
    "expected_shuffled = expected_shuffled[['0', '1', '2', '3', '4']]\n",
    "fig = plt.figure(figsize=(3,2))\n",
    "ax = fig.add_subplot(111)\n",
    "\n",
    "bp = ax.boxplot(expected_shuffled.values, showfliers=False)\n",
    "plt.setp(bp['boxes'], color='red')\n",
    "plt.setp(bp['whiskers'], color='red')\n",
    "plt.setp(bp['fliers'], color='red')\n",
    "plt.setp(bp['caps'], color='red')\n",
    "plt.setp(bp['medians'], color='red')\n",
    "\n",
    "xpoints = np.arange(1, 11, 1)\n",
    "ax.scatter(xpoints[0:5], proportion_reassortant[0:5], color='blue')\n",
    "ax.plot(xpoints[0:5], proportion_reassortant[0:5], color='blue')\n",
    "ax.set_ylabel('Proportion Reassortant')\n",
    "ax.set_ylim(0, 1)\n",
    "ax.set_xlabel('Host Dissimilarity')\n",
    "ax.set_xlim(0.5,5)\n",
    "ax.set_xticks(np.arange(0,6,1)+0.5)\n",
    "ax.set_xticklabels(np.arange(0,0.3,0.05))\n",
    "\n",
    "lines, labels = ax.get_legend_handles_labels()\n",
    "# lines2, labels2 = ax2.get_legend_handles_labels()\n",
    "ax.legend() \n",
    "ax.annotate('a.', xy=(0,1), xycoords='figure fraction', ha='left', va='top')\n",
    "\n",
    "plt.subplots_adjust(left=0.15, bottom=0.18, right=0.95, top=0.95)\n",
    "plt.savefig('Phylogenetic Susceptibility and Reassortment.pdf')"
   ]
  },
  {
   "cell_type": "code",
   "execution_count": 76,
   "metadata": {
    "collapsed": false
   },
   "outputs": [
    {
     "data": {
      "image/png": "[encoded data removed]",
      "text/plain": [
       "<matplotlib.figure.Figure at 0x11becb850>"
      ]
     },
     "metadata": {},
     "output_type": "display_data"
    }
   ],
   "source": [
    "# Plot proportion non-identical vs. identical ratio\n",
    "import numpy as np\n",
    "simulated = pd.read_csv('ratio_identical_nonidentical_expected.csv', index_col=0)\n",
    "actual = pd.read_csv('ratio_identical_nonidentical.csv', index_col=0)\n",
    "\n",
    "mean = simulated.mean().values\n",
    "ci99 = simulated.std() * 3\n",
    "ci99 = ci99.values\n",
    "\n",
    "barwidth = 0.3\n",
    "\n",
    "fig = plt.figure(figsize=(1, 1.5))\n",
    "ax = fig.add_subplot(111)\n",
    "ax.bar(1, mean, width=barwidth, yerr=ci99, color='blue', alpha=0.5, label='Shuffled')\n",
    "ax.bar(1-barwidth, actual.values, width=barwidth, color='blue', label='Data')\n",
    "ax.set_ylabel('Fold Representation')\n",
    "ax.set_xticks([])\n",
    "ax.set_yticks(np.arange(0,5,1))\n",
    "ax.annotate('b.', xy=(0,1), xycoords='figure fraction', ha='left', va='top')\n",
    "plt.subplots_adjust(left=0.3, bottom=0.05)\n",
    "plt.savefig('PhyloD Reassortant Fold Over-Representation.pdf')"
   ]
  },
  {
   "cell_type": "code",
   "execution_count": 141,
   "metadata": {
    "collapsed": false
   },
   "outputs": [],
   "source": [
    "# Plot viral PWD against host PWD\n",
    "viral_pwd_reassortant = []\n",
    "viral_pwd_full = []\n",
    "host_pwd_reassortant = []\n",
    "host_pwd_full = []\n",
    "# edge_reassortant_status = []\n",
    "for sc, sk, d in G.edges(data=True):\n",
    "    sc_18s = G.node[sc]['18s_rRNA_sequence'].seq.ungap('-')\n",
    "    sk_18s = G.node[sk]['18s_rRNA_sequence'].seq.ungap('-')\n",
    "\n",
    "    if len(sc_18s) != 0 and len(sk_18s) != 0:\n",
    "        dist = host_phylogenetic_distance(G, sc, sk)\n",
    "        \n",
    "    #viral_pwd.append(d['pwi'])\n",
    "    #host_pwd.append(dist)\n",
    "    if d['edge_type'] == 'full_complement':\n",
    "        viral_pwd_full.append(d['pwi'])\n",
    "        host_pwd_full.append(dist)\n",
    "    if d['edge_type'] == 'reassortant':\n",
    "        viral_pwd_reassortant.append(d['pwi'])\n",
    "        host_pwd_reassortant.append(dist)"
   ]
  },
  {
   "cell_type": "code",
   "execution_count": 142,
   "metadata": {
    "collapsed": false
   },
   "outputs": [
    {
     "name": "stdout",
     "output_type": "stream",
     "text": [
      "0.217789847297\n",
      "0.0464142040183\n"
     ]
    }
   ],
   "source": [
    "print(8 - np.mean(viral_pwd_reassortant))\n",
    "print(8 - np.mean(viral_pwd_full))"
   ]
  },
  {
   "cell_type": "code",
   "execution_count": 143,
   "metadata": {
    "collapsed": false
   },
   "outputs": [
    {
     "name": "stdout",
     "output_type": "stream",
     "text": [
      "0.0472184048455\n",
      "0.0159383560754\n"
     ]
    }
   ],
   "source": [
    "print(np.mean(host_pwd_reassortant))\n",
    "print(np.mean(host_pwd_full))"
   ]
  },
  {
   "cell_type": "code",
   "execution_count": 144,
   "metadata": {
    "collapsed": false
   },
   "outputs": [
    {
     "data": {
      "text/plain": [
       "0.09504974970644584"
      ]
     },
     "execution_count": 144,
     "metadata": {},
     "output_type": "execute_result"
    }
   ],
   "source": [
    "(sum(Counter(host_pwd_full).values()) - Counter(host_pwd_full)[0]) / float(Counter(host_pwd_full)[0])"
   ]
  },
  {
   "cell_type": "code",
   "execution_count": 145,
   "metadata": {
    "collapsed": false
   },
   "outputs": [
    {
     "data": {
      "text/plain": [
       "0.376561254318363"
      ]
     },
     "execution_count": 145,
     "metadata": {},
     "output_type": "execute_result"
    }
   ],
   "source": [
    "(sum(Counter(host_pwd_reassortant).values()) - Counter(host_pwd_reassortant)[0]) / float(Counter(host_pwd_reassortant)[0])"
   ]
  },
  {
   "cell_type": "code",
   "execution_count": 146,
   "metadata": {
    "collapsed": false
   },
   "outputs": [
    {
     "data": {
      "text/plain": [
       "<matplotlib.legend.Legend at 0x11690d350>"
      ]
     },
     "execution_count": 146,
     "metadata": {},
     "output_type": "execute_result"
    },
    {
     "data": {
      "image/png": "[encoded data removed]",
      "text/plain": [
       "<matplotlib.figure.Figure at 0x126ff92d0>"
      ]
     },
     "metadata": {},
     "output_type": "display_data"
    }
   ],
   "source": [
    "# plt.hist2d\n",
    "from matplotlib.colors import LogNorm \n",
    "\n",
    "fig = plt.figure()#figsize=(3,2))\n",
    "ax = fig.add_subplot(111)\n",
    "ax.scatter(host_pwd_reassortant, 8 - np.array(viral_pwd_reassortant), color='blue', label='Reassortant', alpha=0.1)\n",
    "ax.scatter(host_pwd_full, 8 - np.array(viral_pwd_full), color='green', label='Full Complement', alpha=0.1)\n",
    "ax.legend()"
   ]
  },
  {
   "cell_type": "code",
   "execution_count": 100,
   "metadata": {
    "collapsed": false
   },
   "outputs": [],
   "source": [
    "from scipy.stats import linregress\n",
    "\n",
    "slope_r, intercept_r, r_value_r, p_value_r, std_error_r = linregress(8 - np.array(viral_pwd_reassortant), host_pwd_reassortant)\n",
    "slope_f, intercept_f, r_value_f, p_value_f, std_error_f = linregress(8 - np.array(viral_pwd_full), host_pwd_full)"
   ]
  },
  {
   "cell_type": "code",
   "execution_count": 101,
   "metadata": {
    "collapsed": false
   },
   "outputs": [
    {
     "name": "stdout",
     "output_type": "stream",
     "text": [
      "(0.4516300853812476, 0.21962519848674245)\n",
      "(0.057827602607578278, 0.010920556563996132)\n",
      "(4.852440668077006e-69, 3.2493381932733403e-44)\n",
      "(0.025333747411408203, 0.015702914859559627)\n"
     ]
    }
   ],
   "source": [
    "print(slope_r, slope_f)\n",
    "print(r_value_r**2, r_value_f**2)\n",
    "print(p_value_r, p_value_f)\n",
    "print(std_error_r, std_error_f)"
   ]
  },
  {
   "cell_type": "code",
   "execution_count": 102,
   "metadata": {
    "collapsed": false
   },
   "outputs": [
    {
     "data": {
      "text/plain": [
       "(array([ 3011.,   908.,   413.,    78.,     6.,     0.,     0.,    14.,\n",
       "           40.,   710.]),\n",
       " array([ 0.        ,  0.0694362 ,  0.1388724 ,  0.20830861,  0.27774481,\n",
       "         0.34718101,  0.41661721,  0.48605341,  0.55548961,  0.62492582,\n",
       "         0.69436202]),\n",
       " <a list of 10 Patch objects>)"
      ]
     },
     "execution_count": 102,
     "metadata": {},
     "output_type": "execute_result"
    },
    {
     "data": {
      "image/png": "[encoded data removed]",
      "text/plain": [
       "<matplotlib.figure.Figure at 0x11eecc150>"
      ]
     },
     "metadata": {},
     "output_type": "display_data"
    }
   ],
   "source": [
    "# plt.scatter([0] * len(host_pwd_full), host_pwd_full, alpha=0.1, color='green')\n",
    "# plt.scatter([1] * len(host_pwd_reassortant), host_pwd_reassortant, alpha=0.1, color='blue')\n",
    "plt.hist(host_pwd_full)\n",
    "plt.hist(host_pwd_reassortant)"
   ]
  },
  {
   "cell_type": "code",
   "execution_count": 103,
   "metadata": {
    "collapsed": false
   },
   "outputs": [],
   "source": [
    "# Add in ecotype information\n",
    "\n",
    "# Load the data\n",
    "df = pd.read_csv('Country-Species_to_be_Coded_by_Nichola.csv', index_col=0)\n",
    "df['Habitat/setting'] = df['Habitat/setting'].replace('Domestic ', 'Domestic')\n",
    "# Make it into a dicitonary where each entry is (country, species):habitat/setting\n",
    "ecotype_map = dict()\n",
    "\n",
    "for row, data in df.iterrows():\n",
    "    country = data['Country']\n",
    "    species = data['Species']\n",
    "    ecotype = data['Habitat/setting']\n",
    "\n",
    "    ecotype_map[(country, species)] = ecotype\n",
    "\n",
    "# Add the ecotype into each node.\n",
    "for n, d in G.nodes(data=True):\n",
    "    country = d['country']\n",
    "    species = d['host_species']\n",
    "    if '/' in species:\n",
    "        species = species.split('/')[0]\n",
    "    if 'null' in species:\n",
    "        species = 'Unknown'\n",
    "\n",
    "\n",
    "    \n",
    "    G.node[n]['ecotype'] = ecotype_map[(country, species)]"
   ]
  },
  {
   "cell_type": "code",
   "execution_count": 104,
   "metadata": {
    "collapsed": false
   },
   "outputs": [],
   "source": [
    "def correct_metadata(G, node):\n",
    "    \"\"\"\n",
    "    Helper function for providing the correct subtype graph metadata.    \n",
    "    \"\"\"\n",
    "    d = G.node[node]\n",
    "    subtype = d['subtype']\n",
    "    ecotype = d['ecotype']\n",
    "    host = d['host_species']\n",
    "    if ecotype == 'Unknown':\n",
    "        ecotype = 'W'\n",
    "    if host == 'Human':\n",
    "        ecotype = 'H'\n",
    "    if ecotype == 'Domestic':\n",
    "        ecotype = 'D'\n",
    "    if ecotype == 'Wild':\n",
    "        ecotype = 'W'\n",
    "    subtype = subtype + '::' + ecotype\n",
    "    \n",
    "    return ecotype, subtype, host\n",
    "    "
   ]
  },
  {
   "cell_type": "code",
   "execution_count": 105,
   "metadata": {
    "collapsed": false
   },
   "outputs": [],
   "source": [
    "from collections import Counter, defaultdict\n",
    "transition_hostpd_reassortant = defaultdict(list)\n",
    "transition_hostpd_full = defaultdict(list)\n",
    "# Plot the number of ecotype jumps detected.\n",
    "for sc, sk, d in G.edges(data=True):\n",
    "    sc_ecotype, sc_subtype, sc_host = correct_metadata(G, sc)\n",
    "    sk_ecotype, sk_subtype, sk_host = correct_metadata(G, sk)\n",
    "\n",
    "    sc_18s = G.node[sc]['18s_rRNA_sequence'].seq.ungap('-')\n",
    "    sk_18s = G.node[sk]['18s_rRNA_sequence'].seq.ungap('-')\n",
    "\n",
    "\n",
    "    transition = sc_ecotype + '::' + sk_ecotype\n",
    "    if len(sc_18s) != 0 and len(sk_18s) != 0:\n",
    "        dist = host_phylogenetic_distance(G, sc, sk)\n",
    "        if d['edge_type'] == 'reassortant':\n",
    "            transition_hostpd_reassortant[transition].append(dist)\n",
    "        else:\n",
    "            transition_hostpd_full[transition].append(dist)"
   ]
  },
  {
   "cell_type": "code",
   "execution_count": 106,
   "metadata": {
    "collapsed": false
   },
   "outputs": [
    {
     "ename": "NameError",
     "evalue": "name 'transition_hostpd' is not defined",
     "output_type": "error",
     "traceback": [
      "\u001b[0;31m---------------------------------------------------------------------------\u001b[0m",
      "\u001b[0;31mNameError\u001b[0m                                 Traceback (most recent call last)",
      "\u001b[0;32m<ipython-input-106-8a333ac897b9>\u001b[0m in \u001b[0;36m<module>\u001b[0;34m()\u001b[0m\n\u001b[1;32m      1\u001b[0m \u001b[0mtransition_hostpd_means\u001b[0m \u001b[0;34m=\u001b[0m \u001b[0mdefaultdict\u001b[0m\u001b[0;34m(\u001b[0m\u001b[0mlist\u001b[0m\u001b[0;34m)\u001b[0m\u001b[0;34m\u001b[0m\u001b[0m\n\u001b[0;32m----> 2\u001b[0;31m \u001b[0;32mfor\u001b[0m \u001b[0mk\u001b[0m\u001b[0;34m,\u001b[0m \u001b[0mv\u001b[0m \u001b[0;32min\u001b[0m \u001b[0mtransition_hostpd\u001b[0m\u001b[0;34m.\u001b[0m\u001b[0mitems\u001b[0m\u001b[0;34m(\u001b[0m\u001b[0;34m)\u001b[0m\u001b[0;34m:\u001b[0m\u001b[0;34m\u001b[0m\u001b[0m\n\u001b[0m\u001b[1;32m      3\u001b[0m     \u001b[0mtransition_hostpd_means\u001b[0m\u001b[0;34m[\u001b[0m\u001b[0mk\u001b[0m\u001b[0;34m]\u001b[0m \u001b[0;34m=\u001b[0m \u001b[0mnp\u001b[0m\u001b[0;34m.\u001b[0m\u001b[0mmean\u001b[0m\u001b[0;34m(\u001b[0m\u001b[0mv\u001b[0m\u001b[0;34m)\u001b[0m\u001b[0;34m\u001b[0m\u001b[0m\n\u001b[1;32m      4\u001b[0m \u001b[0;34m\u001b[0m\u001b[0m\n\u001b[1;32m      5\u001b[0m \u001b[0mfig\u001b[0m \u001b[0;34m=\u001b[0m \u001b[0mplt\u001b[0m\u001b[0;34m.\u001b[0m\u001b[0mfigure\u001b[0m\u001b[0;34m(\u001b[0m\u001b[0;34m)\u001b[0m\u001b[0;34m\u001b[0m\u001b[0m\n",
      "\u001b[0;31mNameError\u001b[0m: name 'transition_hostpd' is not defined"
     ]
    }
   ],
   "source": [
    "transition_hostpd_means = defaultdict(list)\n",
    "for k, v in transition_hostpd.items():\n",
    "    transition_hostpd_means[k] = np.mean(v)\n",
    "\n",
    "fig = plt.figure()\n",
    "ax = fig.add_subplot(111)\n",
    "# ax.bar(np.arange(len(transition_hostpd_means.keys()))-0.5, transition_hostpd_means.values())\n",
    "# ax.set_xticks(np.arange(len(transition_hostpd_means.keys())))\n",
    "# ax.set_xticklabels(transition_hostpd_means.keys())\n",
    "dataset = sorted(transition_hostpd_reassortant.items(), key=lambda x:x[0])\n",
    "compiled = []\n",
    "for i, (transition, hostpds) in enumerate(dataset):\n",
    "    #np.array(hostpds)\n",
    "    compiled.append(np.array(hostpds))\n",
    "    print(len(np.array(hostpds)))\n",
    "    ax.scatter([i] * len(hostpds), hostpds, alpha=0.1, color='blue')\n",
    "    \n",
    "dataset = sorted(transition_hostpd_full.items(), key=lambda x:x[0])\n",
    "compiled = []\n",
    "for i, (transition, hostpds) in enumerate(dataset):\n",
    "    #np.array(hostpds)\n",
    "    compiled.append(np.array(hostpds))\n",
    "    print(len(np.array(hostpds)))\n",
    "    ax.scatter([i] * len(hostpds), hostpds, alpha=0.1, color='green')\n",
    "    \n",
    "\n"
   ]
  },
  {
   "cell_type": "code",
   "execution_count": 340,
   "metadata": {
    "collapsed": false
   },
   "outputs": [],
   "source": [
    "# Try tree patristic distance rather than hamming distance.\n",
    "import dendropy as dp\n",
    "\n",
    "tree = dp.Tree().get_from_path('RAxML_bestTree.host_COI5P_trimmed_alignment.nexus', 'nexus')\n",
    "\n",
    "pds = dp.treecalc.PatristicDistanceMatrix(tree).distances()"
   ]
  },
  {
   "cell_type": "code",
   "execution_count": 349,
   "metadata": {
    "collapsed": false,
    "scrolled": true
   },
   "outputs": [
    {
     "data": {
      "text/plain": [
       "{'American Black Duck': <Taxon object at 0x115bb9450: American Black Duck>,\n",
       " 'American Green-Winged Teal': <Taxon object at 0x11e2cc290: American Green-Winged Teal>,\n",
       " 'American Wigeon': <Taxon object at 0x1195c7650: American Wigeon>,\n",
       " 'Baikal Teal': <Taxon object at 0x116e203d0: Baikal Teal>,\n",
       " 'Bar-Headed Goose': <Taxon object at 0x11d0b0510: Bar-Headed Goose>,\n",
       " 'Barn Swallow': <Taxon object at 0x11fb22210: Barn Swallow>,\n",
       " 'Barnacle Goose': <Taxon object at 0x123dd3610: Barnacle Goose>,\n",
       " 'Bewick|s_Swan': <Taxon object at 0x123dd39d0: Bewick|s_Swan>,\n",
       " 'Black Duck': <Taxon object at 0x119548c50: Black Duck>,\n",
       " 'Black Scoter': <Taxon object at 0x11f80ded0: Black Scoter>,\n",
       " 'Black-Headed Gull': <Taxon object at 0x123be5a10: Black-Headed Gull>,\n",
       " 'Blue-Winged Teal': <Taxon object at 0x11c1dbd90: Blue-Winged Teal>,\n",
       " 'Brown-Headed Gull': <Taxon object at 0x123b0cb50: Brown-Headed Gull>,\n",
       " 'Bufflehead': <Taxon object at 0x116212e10: Bufflehead>,\n",
       " 'Camel': <Taxon object at 0x123959d90: Camel>,\n",
       " 'Canada Goose': <Taxon object at 0x123dd3790: Canada Goose>,\n",
       " 'Canvasback': <Taxon object at 0x116e3e210: Canvasback>,\n",
       " 'Chicken': <Taxon object at 0x1161e2690: Chicken>,\n",
       " 'Chukar': <Taxon object at 0x1163355d0: Chukar>,\n",
       " 'Cinnamon Teal': <Taxon object at 0x12569eb10: Cinnamon Teal>,\n",
       " 'Common Coot': <Taxon object at 0x115f5d250: Common Coot>,\n",
       " 'Common Eider': <Taxon object at 0x11ee04c90: Common Eider>,\n",
       " 'Common Murre': <Taxon object at 0x123b0c310: Common Murre>,\n",
       " 'Common Scoter': <Taxon object at 0x123bfadd0: Common Scoter>,\n",
       " 'Condor': <Taxon object at 0x1261eed90: Condor>,\n",
       " 'Coot': <Taxon object at 0x115f5dd10: Coot>,\n",
       " 'Crane': <Taxon object at 0x11d449050: Crane>,\n",
       " 'Crow': <Taxon object at 0x117151810: Crow>,\n",
       " 'Dog': <Taxon object at 0x1219453d0: Dog>,\n",
       " 'Domestic Cat': <Taxon object at 0x1219494d0: Domestic Cat>,\n",
       " 'Duck': <Taxon object at 0x123cab310: Duck>,\n",
       " 'Dunlin': <Taxon object at 0x11ab6a410: Dunlin>,\n",
       " 'Eurasian Eagle-Owl': <Taxon object at 0x1171a6510: Eurasian Eagle-Owl>,\n",
       " 'Eurasian Wigeon': <Taxon object at 0x116297b90: Eurasian Wigeon>,\n",
       " 'Finch': <Taxon object at 0x117151ed0: Finch>,\n",
       " 'Gadwall': <Taxon object at 0x116284490: Gadwall>,\n",
       " 'Garganey': <Taxon object at 0x11d44c450: Garganey>,\n",
       " 'Glaucous Gull': <Taxon object at 0x123b0c990: Glaucous Gull>,\n",
       " 'Goose': <Taxon object at 0x11d0b0310: Goose>,\n",
       " 'Great Crested Grebe': <Taxon object at 0x11e64a550: Great Crested Grebe>,\n",
       " 'Greater Scaup': <Taxon object at 0x116e3edd0: Greater Scaup>,\n",
       " 'Greater White-Fronted Goose': <Taxon object at 0x1160fef10: Greater White-Fronted Goose>,\n",
       " 'Green-Winged Teal': <Taxon object at 0x1158cc410: Green-Winged Teal>,\n",
       " 'Grey Heron': <Taxon object at 0x1240028d0: Grey Heron>,\n",
       " 'Heron': <Taxon object at 0x124002650: Heron>,\n",
       " 'Herring Gull': <Taxon object at 0x123be5e50: Herring Gull>,\n",
       " 'Hooded Merganser': <Taxon object at 0x1259265d0: Hooded Merganser>,\n",
       " 'Horse': <Taxon object at 0x123959d10: Horse>,\n",
       " 'Human': <Taxon object at 0x123959ed0: Human>,\n",
       " 'Iceland Gull': <Taxon object at 0x11e13db50: Iceland Gull>,\n",
       " 'Japanese Quail': <Taxon object at 0x1171a6150: Japanese Quail>,\n",
       " 'Knot': <Taxon object at 0x1162f7290: Knot>,\n",
       " 'Laughing Gull': <Taxon object at 0x123be57d0: Laughing Gull>,\n",
       " 'Least Sandpiper': <Taxon object at 0x11e101790: Least Sandpiper>,\n",
       " 'Lesser Scaup': <Taxon object at 0x11ec61750: Lesser Scaup>,\n",
       " 'Long-Tailed Duck': <Taxon object at 0x11f80da50: Long-Tailed Duck>,\n",
       " 'Magpie Robin': <Taxon object at 0x1160837d0: Magpie Robin>,\n",
       " 'Mallard': <Taxon object at 0x11d44c810: Mallard>,\n",
       " 'Murre': <Taxon object at 0x122dfc0d0: Murre>,\n",
       " 'Muscovy Duck': <Taxon object at 0x11de564d0: Muscovy Duck>,\n",
       " 'Mute Swan': <Taxon object at 0x123fd86d0: Mute Swan>,\n",
       " 'Northern Pintail': <Taxon object at 0x11c1db9d0: Northern Pintail>,\n",
       " 'Northern Shoveler': <Taxon object at 0x123cabad0: Northern Shoveler>,\n",
       " 'Ostrich': <Taxon object at 0x11ec41390: Ostrich>,\n",
       " 'Panda': <Taxon object at 0x116e1d310: Panda>,\n",
       " 'Pelican': <Taxon object at 0x11ee0eb90: Pelican>,\n",
       " 'Peregrine Falcon': <Taxon object at 0x115f5d4d0: Peregrine Falcon>,\n",
       " 'Pheasant': <Taxon object at 0x116335c90: Pheasant>,\n",
       " 'Pigeon': <Taxon object at 0x11ee0e490: Pigeon>,\n",
       " 'Pink-Footed Goose': <Taxon object at 0x1160fe450: Pink-Footed Goose>,\n",
       " 'Pintail': <Taxon object at 0x11f0cbd90: Pintail>,\n",
       " 'Poultry': <Taxon object at 0x116335bd0: Poultry>,\n",
       " 'Quail': <Taxon object at 0x1167ff790: Quail>,\n",
       " 'Red Knot': <Taxon object at 0x11ab6aed0: Red Knot>,\n",
       " 'Red-Crested Pochard': <Taxon object at 0x11f80dd90: Red-Crested Pochard>,\n",
       " 'Red-Necked Stint': <Taxon object at 0x11676d650: Red-Necked Stint>,\n",
       " 'Redhead': <Taxon object at 0x116e3e890: Redhead>,\n",
       " 'Redhead Duck': <Taxon object at 0x123bfa510: Redhead Duck>,\n",
       " 'Rhea': <Taxon object at 0x1160831d0: Rhea>,\n",
       " 'Ring-Necked Duck': <Taxon object at 0x1159f8810: Ring-Necked Duck>,\n",
       " 'Rook': <Taxon object at 0x11fb22910: Rook>,\n",
       " 'Rosy-Billed Pochard': <Taxon object at 0x11f80d490: Rosy-Billed Pochard>,\n",
       " 'Ruddy Turnstone': <Taxon object at 0x11728c210: Ruddy Turnstone>,\n",
       " 'Saker Falcon': <Taxon object at 0x123bcac90: Saker Falcon>,\n",
       " 'Sanderling': <Taxon object at 0x1162f7350: Sanderling>,\n",
       " 'Scaup': <Taxon object at 0x11ec61350: Scaup>,\n",
       " 'Semipalmated Sandpiper': <Taxon object at 0x11676db10: Semipalmated Sandpiper>,\n",
       " 'Sharp-Tailed Sandpiper': <Taxon object at 0x11676d290: Sharp-Tailed Sandpiper>,\n",
       " 'Shoveler': <Taxon object at 0x116e20790: Shoveler>,\n",
       " 'Silky Chicken': <Taxon object at 0x1161e28d0: Silky Chicken>,\n",
       " 'Snow Goose': <Taxon object at 0x1160fead0: Snow Goose>,\n",
       " 'Sooty Tern': <Taxon object at 0x122dfcd10: Sooty Tern>,\n",
       " 'Sparrow': <Taxon object at 0x12403ac10: Sparrow>,\n",
       " 'Spot-Billed Duck': <Taxon object at 0x11d44c690: Spot-Billed Duck>,\n",
       " 'Swan': <Taxon object at 0x1256bc810: Swan>,\n",
       " 'Swine': <Taxon object at 0x123959510: Swine>,\n",
       " 'Teal': <Taxon object at 0x116862250: Teal>,\n",
       " 'Tree Sparrow': <Taxon object at 0x117151650: Tree Sparrow>,\n",
       " 'Tufted Duck': <Taxon object at 0x11ec61650: Tufted Duck>,\n",
       " 'Tundra Swan': <Taxon object at 0x123fd8890: Tundra Swan>,\n",
       " 'Waterfowl': <Taxon object at 0x1158a0290: Waterfowl>,\n",
       " 'Whiskered Tern': <Taxon object at 0x121920490: Whiskered Tern>,\n",
       " 'White-Rumped Sandpiper': <Taxon object at 0x1165e14d0: White-Rumped Sandpiper>,\n",
       " 'Whooper Swan': <Taxon object at 0x1160fe050: Whooper Swan>,\n",
       " 'Wild Chicken': <Taxon object at 0x1161e2850: Wild Chicken>}"
      ]
     },
     "execution_count": 349,
     "metadata": {},
     "output_type": "execute_result"
    }
   ],
   "source": [
    "taxon_dict = {str(i).split(': ')[-1]:i for i in tree.taxon_set}\n",
    "taxon_dict"
   ]
  },
  {
   "cell_type": "code",
   "execution_count": 352,
   "metadata": {
    "collapsed": false
   },
   "outputs": [],
   "source": [
    "network_pds = dict()\n",
    "network_pds['reassortant'] = list()\n",
    "network_pds['full_complement'] = list()\n",
    "\n",
    "for sc, sk, d in G.edges(data=True):\n",
    "    sc_host = G.node[sc]['host_species']\n",
    "    sk_host = G.node[sk]['host_species']\n",
    "    if sc_host in taxon_dict.keys() and sk_host in taxon_dict.keys():\n",
    "        patr_dist = dp.treecalc.patristic_distance(tree, taxon_dict[sc_host], taxon_dict[sk_host])\n",
    "        network_pds[d['edge_type']].append(patr_dist)"
   ]
  },
  {
   "cell_type": "code",
   "execution_count": 355,
   "metadata": {
    "collapsed": false
   },
   "outputs": [
    {
     "data": {
      "text/plain": [
       "(array([ 290.,    0.,    0.,    0.,    0.,    0.,    0.,    0.,  215.,    8.]),\n",
       " array([ 0.       ,  0.0660812,  0.1321624,  0.1982436,  0.2643248,\n",
       "         0.330406 ,  0.3964872,  0.4625684,  0.5286496,  0.5947308,\n",
       "         0.660812 ]),\n",
       " <a list of 10 Patch objects>)"
      ]
     },
     "execution_count": 355,
     "metadata": {},
     "output_type": "execute_result"
    },
    {
     "data": {
      "image/png": "[encoded data removed]",
      "text/plain": [
       "<matplotlib.figure.Figure at 0x1168111d0>"
      ]
     },
     "metadata": {},
     "output_type": "display_data"
    }
   ],
   "source": [
    "plt.hist(network_pds['reassortant'])"
   ]
  },
  {
   "cell_type": "code",
   "execution_count": 356,
   "metadata": {
    "collapsed": false
   },
   "outputs": [
    {
     "data": {
      "text/plain": [
       "(array([  1.22730000e+04,   0.00000000e+00,   0.00000000e+00,\n",
       "          0.00000000e+00,   0.00000000e+00,   0.00000000e+00,\n",
       "          0.00000000e+00,   5.53000000e+02,   2.00000000e+00,\n",
       "          4.00000000e+00]),\n",
       " array([ 0.       ,  0.0750683,  0.1501366,  0.2252049,  0.3002732,\n",
       "         0.3753415,  0.4504098,  0.5254781,  0.6005464,  0.6756147,\n",
       "         0.750683 ]),\n",
       " <a list of 10 Patch objects>)"
      ]
     },
     "execution_count": 356,
     "metadata": {},
     "output_type": "execute_result"
    },
    {
     "data": {
      "image/png": "[encoded data removed]",
      "text/plain": [
       "<matplotlib.figure.Figure at 0x11aec82d0>"
      ]
     },
     "metadata": {},
     "output_type": "display_data"
    }
   ],
   "source": [
    "plt.hist(network_pds['full_complement'])"
   ]
  },
  {
   "cell_type": "code",
   "execution_count": null,
   "metadata": {
    "collapsed": true
   },
   "outputs": [],
   "source": []
  }
 ],
 "metadata": {
  "kernelspec": {
   "display_name": "Python 2",
   "language": "python",
   "name": "python2"
  },
  "language_info": {
   "codemirror_mode": {
    "name": "ipython",
    "version": 2
   },
   "file_extension": ".py",
   "mimetype": "text/x-python",
   "name": "python",
   "nbconvert_exporter": "python",
   "pygments_lexer": "ipython2",
   "version": "2.7.9"
  }
 },
 "nbformat": 4,
 "nbformat_minor": 0
}
