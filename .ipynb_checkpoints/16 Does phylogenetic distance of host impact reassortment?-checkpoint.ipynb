{
 "cells": [
  {
   "cell_type": "code",
   "execution_count": 46,
   "metadata": {
    "collapsed": false
   },
   "outputs": [],
   "source": [
    "import pandas as pd\n",
    "from Bio.Seq import Seq\n",
    "from Bio.SeqRecord import SeqRecord\n",
    "from Bio.Align.Applications import ClustalOmegaCommandline\n",
    "from Bio import AlignIO, SeqIO\n",
    "from collections import Counter\n",
    "from Bio.Align import MultipleSeqAlignment\n",
    "from random import shuffle\n",
    "from copy import copy"
   ]
  },
  {
   "cell_type": "code",
   "execution_count": 47,
   "metadata": {
    "collapsed": false
   },
   "outputs": [],
   "source": [
    "hosts_18s = pd.read_csv('hosts_with_classification-NH_EM_mods.csv', index_col='Species')\n",
    "hosts_18s.fillna(0, inplace=True)"
   ]
  },
  {
   "cell_type": "code",
   "execution_count": 48,
   "metadata": {
    "collapsed": false
   },
   "outputs": [],
   "source": [
    "# # I have manually curated the scientific name with Barcode of Life COI5P sequence data.\n",
    "# from Bio.SeqRecord import SeqRecord\n",
    "# from Bio.Seq import Seq\n",
    "# from Bio.Alphabet import NucleotideAlphabet\n",
    "# host_sequence = dict()\n",
    "# for row, data in hosts_18s.iterrows():\n",
    "#     host = row\n",
    "#     if data['Sequence'] != 0:\n",
    "#         sequence = Seq(str(data['Sequence']), alphabet=NucleotideAlphabet)\n",
    "#         sequence = sequence.ungap('\\n')\n",
    "#         sequence = sequence.ungap(' ')\n",
    "#         sequence = sequence.ungap('-')\n",
    "#         sequence = sequence.ungap('\\r')\n",
    "#         id = '{0}'.format(row.replace(' ', '_'))\n",
    "#         host_sequence[host] = SeqRecord(sequence, id=id, name=id, description=id)"
   ]
  },
  {
   "cell_type": "code",
   "execution_count": 49,
   "metadata": {
    "collapsed": false
   },
   "outputs": [],
   "source": [
    "# from Bio import SeqIO\n",
    "# # Write the sequences to disk.\n",
    "# SeqIO.write(host_sequence.values(), 'host_COI5P.fasta', 'fasta')\n",
    "# # host_sequence"
   ]
  },
  {
   "cell_type": "code",
   "execution_count": 50,
   "metadata": {
    "collapsed": false
   },
   "outputs": [
    {
     "name": "stdout",
     "output_type": "stream",
     "text": [
      "clustalo -i host_COI_unaligned.fasta -o host_COI_aligned.fasta -v --force\n"
     ]
    }
   ],
   "source": [
    "infile = 'host_COI_unaligned.fasta'\n",
    "outfile = 'host_COI_aligned.fasta'\n",
    "\n",
    "cline = ClustalOmegaCommandline(infile=infile, outfile=outfile, verbose=True, force=True)\n",
    "print(cline)\n",
    "# Run this from a separate terminal window. Should be fast <2 min on a modern computer."
   ]
  },
  {
   "cell_type": "code",
   "execution_count": 51,
   "metadata": {
    "collapsed": false
   },
   "outputs": [
    {
     "data": {
      "text/plain": [
       "<<class 'Bio.Align.MultipleSeqAlignment'> instance (105 records of length 1554, SingleLetterAlphabet()) at 11d14ae90>"
      ]
     },
     "execution_count": 51,
     "metadata": {},
     "output_type": "execute_result"
    }
   ],
   "source": [
    "coi5p_aln = AlignIO.read('host_COI_aligned.fasta', 'fasta')\n",
    "coi5p_aln"
   ]
  },
  {
   "cell_type": "code",
   "execution_count": 52,
   "metadata": {
    "collapsed": false
   },
   "outputs": [
    {
     "data": {
      "text/plain": [
       "[<matplotlib.lines.Line2D at 0x11cf50310>]"
      ]
     },
     "execution_count": 52,
     "metadata": {},
     "output_type": "execute_result"
    },
    {
     "data": {
      "image/png": "[encoded data removed]",
      "text/plain": [
       "<matplotlib.figure.Figure at 0x11d14a450>"
      ]
     },
     "metadata": {},
     "output_type": "display_data"
    }
   ],
   "source": [
    "\n",
    "# Plot the number of gaps by position\n",
    "# I will concatenate all positions that have zero gaps in them. This should span > 500 n.t.\n",
    "\n",
    "num_gaps_threshold = 3\n",
    "\n",
    "num_gaps = []\n",
    "good_positions = []\n",
    "for pos in range(coi5p_aln.get_alignment_length()):\n",
    "    ntcounts = Counter(coi5p_aln[:,pos])\n",
    "    if ntcounts['-'] < num_gaps_threshold:\n",
    "        good_positions.append(pos)\n",
    "    if '-' in ntcounts.keys():\n",
    "        num_gaps.append(ntcounts['-'])\n",
    "    else:\n",
    "        num_gaps.append(0)\n",
    "        \n",
    "import matplotlib.pyplot as plt\n",
    "%matplotlib inline\n",
    "fig = plt.figure()\n",
    "plt.scatter(range(len(num_gaps)), num_gaps)\n",
    "plt.plot(num_gaps)"
   ]
  },
  {
   "cell_type": "code",
   "execution_count": 53,
   "metadata": {
    "collapsed": false
   },
   "outputs": [
    {
     "data": {
      "text/plain": [
       "615"
      ]
     },
     "execution_count": 53,
     "metadata": {},
     "output_type": "execute_result"
    }
   ],
   "source": [
    "len(good_positions)"
   ]
  },
  {
   "cell_type": "code",
   "execution_count": 54,
   "metadata": {
    "collapsed": false
   },
   "outputs": [
    {
     "data": {
      "text/plain": [
       "105"
      ]
     },
     "execution_count": 54,
     "metadata": {},
     "output_type": "execute_result"
    }
   ],
   "source": [
    "# Hacked code: iterate over every sequence, grab out only the letters in the good positions, and create new seqrecord.\n",
    "trimmed_alignment_list = []\n",
    "for s in coi5p_aln:\n",
    "    trimmed_seq = ''\n",
    "    for pos in good_positions:\n",
    "        trimmed_seq += s[pos]\n",
    "    trimmed_seq = Seq(trimmed_seq)\n",
    "    trimmed_seqrecord = SeqRecord(trimmed_seq, id=s.id, description='')\n",
    "    trimmed_alignment_list.append(trimmed_seqrecord)\n",
    "    \n",
    "trimmed_alignment = MultipleSeqAlignment(trimmed_alignment_list)\n",
    "\n",
    "SeqIO.write(trimmed_alignment, 'host_COI5P_trimmed_alignment.fasta', 'fasta')\n",
    "SeqIO.write(trimmed_alignment, 'host_COI5P_trimmed_alignment.phylip', 'phylip')"
   ]
  },
  {
   "cell_type": "code",
   "execution_count": 55,
   "metadata": {
    "collapsed": false
   },
   "outputs": [
    {
     "data": {
      "text/plain": [
       "105"
      ]
     },
     "execution_count": 55,
     "metadata": {},
     "output_type": "execute_result"
    }
   ],
   "source": [
    "# Hacked code: for RaxML's purposes, iterate over every sequence in trimmed_alignment, replace apostrophy with \n",
    "raxml_seqs = []\n",
    "for s in trimmed_alignment:\n",
    "    new_s = copy(s)\n",
    "    new_s.id = new_s.id.replace(' ', '_').replace(\"'\",'|')\n",
    "    raxml_seqs.append(new_s)\n",
    "SeqIO.write(raxml_seqs, 'host_COI5P_trimmed_alignment_trees.fasta', 'fasta')"
   ]
  },
  {
   "cell_type": "code",
   "execution_count": 56,
   "metadata": {
    "collapsed": false
   },
   "outputs": [
    {
     "data": {
      "text/plain": [
       "{'American Black Duck': SeqRecord(seq=Seq('GCCTCTGATCCGGGCAGAACTAGGCCAGCCAGGGACCCTCCTGGGCGACGACCA...CGG', SingleLetterAlphabet()), id='American_Black_Duck', name='American_Black_Duck', description='American_Black_Duck', dbxrefs=[]),\n",
       " 'American Green-Winged Teal': SeqRecord(seq=Seq('GCCTCTGATCCGGGCAGAACTAGGCCAGCCAGGGACCCTCCTGGGCGACGACCA...CGG', SingleLetterAlphabet()), id='American_Green-Winged_Teal', name='American_Green-Winged_Teal', description='American_Green-Winged_Teal', dbxrefs=[]),\n",
       " 'American Wigeon': SeqRecord(seq=Seq('GCCTCTGATCCGGGCAGAACTAGGCCAGCCAGGGACCCTCCTGGGCGACGACCA...CGG', SingleLetterAlphabet()), id='American_Wigeon', name='American_Wigeon', description='American_Wigeon', dbxrefs=[]),\n",
       " 'Baikal Teal': SeqRecord(seq=Seq('GCCTCTGATCCGGGCAGAACTAGGCCAGCCAGGGACCCTCCTGGGCGACGACCA...CGG', SingleLetterAlphabet()), id='Baikal_Teal', name='Baikal_Teal', description='Baikal_Teal', dbxrefs=[]),\n",
       " 'Bar-Headed Goose': SeqRecord(seq=Seq('GCCTTTAATCCGCGCAGAACTAGGACAGCCAGGAACTCTCCTAGGCGACGACCA...CGG', SingleLetterAlphabet()), id='Bar-Headed_Goose', name='Bar-Headed_Goose', description='Bar-Headed_Goose', dbxrefs=[]),\n",
       " 'Barn Swallow': SeqRecord(seq=Seq('GCCTCTAATCCGAGCAGAATTAGGCCAACCTGGTGCCCTACTTGGAGACGACCA...CGG', SingleLetterAlphabet()), id='Barn_Swallow', name='Barn_Swallow', description='Barn_Swallow', dbxrefs=[]),\n",
       " 'Barnacle Goose': SeqRecord(seq=Seq('GCCTTTAATCCGCGCAGAACTAGGACAACCAGGGACTCTCCTAGGCGACGACCA...CGG', SingleLetterAlphabet()), id='Barnacle_Goose', name='Barnacle_Goose', description='Barnacle_Goose', dbxrefs=[]),\n",
       " \"Bewick's Swan\": SeqRecord(seq=Seq('GCCTTTAATCCGCGCAGAACTGGGACAACCGGGAACTCTCCTTGGTGACGACCA...CGG', SingleLetterAlphabet()), id=\"Bewick's_Swan\", name=\"Bewick's_Swan\", description=\"Bewick's_Swan\", dbxrefs=[]),\n",
       " 'Black Duck': SeqRecord(seq=Seq('GCCTCTGATCCGGGCAGAACTAGGCCAGCCAGGGACCCTCCTGGGCGACGACCA...CGG', SingleLetterAlphabet()), id='Black_Duck', name='Black_Duck', description='Black_Duck', dbxrefs=[]),\n",
       " 'Black Scoter': SeqRecord(seq=Seq('GCCTGTAATCCGCGCAGAACTCGGCCAACCAGGAACCCTCCTAGGCGATGACCA...CGG', SingleLetterAlphabet()), id='Black_Scoter', name='Black_Scoter', description='Black_Scoter', dbxrefs=[]),\n",
       " 'Black-Headed Gull': SeqRecord(seq=Seq('GCCTCTTATCCGTGCAGAACTTGGCCAACCCGGGACCCTCCTAGGAGACGACCA...CGG', SingleLetterAlphabet()), id='Black-Headed_Gull', name='Black-Headed_Gull', description='Black-Headed_Gull', dbxrefs=[]),\n",
       " 'Blue-Winged Teal': SeqRecord(seq=Seq('GCCTCTGATCCGGGCAGAACTAGGCCAGCCAGGGACCCTCCTGGGCGACGACCA...CGG', SingleLetterAlphabet()), id='Blue-Winged_Teal', name='Blue-Winged_Teal', description='Blue-Winged_Teal', dbxrefs=[]),\n",
       " 'Brown-Headed Gull': SeqRecord(seq=Seq('GCCTCTTATCCGTGCAGAACTTGGCCAACCCGGGACCCTCCTAGGAGACGACCA...CGG', SingleLetterAlphabet()), id='Brown-Headed_Gull', name='Brown-Headed_Gull', description='Brown-Headed_Gull', dbxrefs=[]),\n",
       " 'Bufflehead': SeqRecord(seq=Seq('GCCTCTAATCCGCGCAGAACTCGGCCAGCCAGGGACCCTCCTGGGCGATGACCA...CGG', SingleLetterAlphabet()), id='Bufflehead', name='Bufflehead', description='Bufflehead', dbxrefs=[]),\n",
       " 'Camel': SeqRecord(seq=Seq('GCTTTTAATTCGCGCTGAATTGGGACAGCCCGGGACGTTGCTTGGAGACGACCA...CGG', SingleLetterAlphabet()), id='Camel', name='Camel', description='Camel', dbxrefs=[]),\n",
       " 'Canada Goose': SeqRecord(seq=Seq('GCCTTTAATCCGCGCAGAACTAGGACAACCAGGGACTCTCCTAGGCGACGACCA...CGG', SingleLetterAlphabet()), id='Canada_Goose', name='Canada_Goose', description='Canada_Goose', dbxrefs=[]),\n",
       " 'Canvasback': SeqRecord(seq=Seq('GCCTCTAATCCGCGCAGAACTAGGCCAACCAGGAACCCTCCTGGGTGATGACCA...CGG', SingleLetterAlphabet()), id='Canvasback', name='Canvasback', description='Canvasback', dbxrefs=[]),\n",
       " 'Chicken': SeqRecord(seq=Seq('GCCTCTAATTCGCGCAGAACTAGGACAGCCCGGAACTCTCTTAGGAGACGATCA...CGG', SingleLetterAlphabet()), id='Chicken', name='Chicken', description='Chicken', dbxrefs=[]),\n",
       " 'Chukar': SeqRecord(seq=Seq('GCCTCTTATTCGCGCAGAACTAGGACAACCGGGCACCCTCTTAGGAGATGACCA...CGG', SingleLetterAlphabet()), id='Chukar', name='Chukar', description='Chukar', dbxrefs=[]),\n",
       " 'Cinnamon Teal': SeqRecord(seq=Seq('GCCTCTGATCCGGGCAGAACTAGGCCAGCCAGGGACCCTCCTGGGCGACGACCA...CGG', SingleLetterAlphabet()), id='Cinnamon_Teal', name='Cinnamon_Teal', description='Cinnamon_Teal', dbxrefs=[]),\n",
       " 'Common Coot': SeqRecord(seq=Seq('GCCTCTTATCCGAGCAGAATTAGGACAACCCGGCACCCTCCTAGGAGATGACCA...CGG', SingleLetterAlphabet()), id='Common_Coot', name='Common_Coot', description='Common_Coot', dbxrefs=[]),\n",
       " 'Common Eider': SeqRecord(seq=Seq('GCCTCTAATTCGCGCAGAACTAGGACAACCCGGAACCCTCCTAGGTGATGACCA...CGG', SingleLetterAlphabet()), id='Common_Eider', name='Common_Eider', description='Common_Eider', dbxrefs=[]),\n",
       " 'Common Murre': SeqRecord(seq=Seq('GCCTCTCATCCGTGCAGAACTAGGCCAACCAGGGACCCTCCTAGGAGATGACCA...TGG', SingleLetterAlphabet()), id='Common_Murre', name='Common_Murre', description='Common_Murre', dbxrefs=[]),\n",
       " 'Common Scoter': SeqRecord(seq=Seq('GCCTGTAATCCGCGCAGAACTCGGCCAACCAGGAACCCTCCTAGGCGATGACCA...CGG', SingleLetterAlphabet()), id='Common_Scoter', name='Common_Scoter', description='Common_Scoter', dbxrefs=[]),\n",
       " 'Condor': SeqRecord(seq=Seq('-----------------------------------CTCTCTTAGGAGACGACCA...---', SingleLetterAlphabet()), id='Condor', name='Condor', description='Condor', dbxrefs=[]),\n",
       " 'Coot': SeqRecord(seq=Seq('GCCTCTTATCCGAGCAGAATTAGGACAACCCGGCACCCTCCTAGGAGATGACCA...CGG', SingleLetterAlphabet()), id='Coot', name='Coot', description='Coot', dbxrefs=[]),\n",
       " 'Crane': SeqRecord(seq=Seq('GCCTTTAATCCGTGCAGAACTCGGCCAACCAGGAAGCCTATTAGGGGATGACCA...CGG', SingleLetterAlphabet()), id='Crane', name='Crane', description='Crane', dbxrefs=[]),\n",
       " 'Crow': SeqRecord(seq=Seq('GTCTCTTATTCGAGCAGAACTGGGCCAACCAGGTGCTCTACTAGGAGATGACCA...CGG', SingleLetterAlphabet()), id='Crow', name='Crow', description='Crow', dbxrefs=[]),\n",
       " 'Dog': SeqRecord(seq=Seq('GCCTCTCATCCGAGCCGAACTAGGTCAGCCCGGTACTTTACTAGGTGACGATCA...CGG', SingleLetterAlphabet()), id='Dog', name='Dog', description='Dog', dbxrefs=[]),\n",
       " 'Domestic Cat': SeqRecord(seq=Seq('GTCTCTAATCCGGGCCGAACTGGGCCAACCTGGTACACTACTAGGAGATGATCA...TGG', SingleLetterAlphabet()), id='Domestic_Cat', name='Domestic_Cat', description='Domestic_Cat', dbxrefs=[]),\n",
       " 'Duck': SeqRecord(seq=Seq('GCCTCTGATCCGGGCAGAACTAGGCCAGCCAGGGACCCTCCTGGGCGACGACCA...CGG', SingleLetterAlphabet()), id='Duck', name='Duck', description='Duck', dbxrefs=[]),\n",
       " 'Dunlin': SeqRecord(seq=Seq('GCCTCTTATTCGCGCAGAACTAGGTCAACCCGGAACCCTTTTAGGAGATGACCA...TGG', SingleLetterAlphabet()), id='Dunlin', name='Dunlin', description='Dunlin', dbxrefs=[]),\n",
       " 'Eurasian Eagle-Owl': SeqRecord(seq=Seq('GCCTCTCATCCGAGCCGAGCTCGGGCAACCCGGGACCCTTCTTGGCGATGACCA...GGG', SingleLetterAlphabet()), id='Eurasian_Eagle-Owl', name='Eurasian_Eagle-Owl', description='Eurasian_Eagle-Owl', dbxrefs=[]),\n",
       " 'Eurasian Wigeon': SeqRecord(seq=Seq('GCCTCTGATCCGGGCAGAACTAGGCCAGCCAGGGACCCTCCTGGGCGACGACCA...CGG', SingleLetterAlphabet()), id='Eurasian_Wigeon', name='Eurasian_Wigeon', description='Eurasian_Wigeon', dbxrefs=[]),\n",
       " 'Finch': SeqRecord(seq=Seq('GCCTCTCATCCGAGCAGAACTGGGCCAACCCGGAGCTCTTCTAGGAGACGACCA...TGG', SingleLetterAlphabet()), id='Finch', name='Finch', description='Finch', dbxrefs=[]),\n",
       " 'Gadwall': SeqRecord(seq=Seq('GCCTCTGATCCGGGCAGAACTAGGCCAGCCAGGGACCCTCCTGGGCGACGACCA...CGG', SingleLetterAlphabet()), id='Gadwall', name='Gadwall', description='Gadwall', dbxrefs=[]),\n",
       " 'Garganey': SeqRecord(seq=Seq('GCCTCTGATCCGGGCAGAACTAGGCCAGCCAGGGACCCTCCTGGGCGACGACCA...CGG', SingleLetterAlphabet()), id='Garganey', name='Garganey', description='Garganey', dbxrefs=[]),\n",
       " 'Glaucous Gull': SeqRecord(seq=Seq('GCCTCTTATCCGTGCAGAACTTGGCCAACCCGGGACCCTCCTAGGAGACGACCA...CGG', SingleLetterAlphabet()), id='Glaucous_Gull', name='Glaucous_Gull', description='Glaucous_Gull', dbxrefs=[]),\n",
       " 'Goose': SeqRecord(seq=Seq('GCCTTTAATCCGCGCAGAACTAGGACAGCCAGGAACTCTCCTAGGCGACGACCA...CGG', SingleLetterAlphabet()), id='Goose', name='Goose', description='Goose', dbxrefs=[]),\n",
       " 'Great Crested Grebe': SeqRecord(seq=Seq('GCTTCTCATCCGCGCAGAACTGGGCCAGCCAGGAACCCTCCTAGGAGACGACCA...TGG', SingleLetterAlphabet()), id='Great_Crested_Grebe', name='Great_Crested_Grebe', description='Great_Crested_Grebe', dbxrefs=[]),\n",
       " 'Greater Scaup': SeqRecord(seq=Seq('GCCTCTAATCCGCGCAGAACTAGGCCAACCAGGAACCCTCCTGGGTGATGACCA...CGG', SingleLetterAlphabet()), id='Greater_Scaup', name='Greater_Scaup', description='Greater_Scaup', dbxrefs=[]),\n",
       " 'Greater White-Fronted Goose': SeqRecord(seq=Seq('GCCTTTAATCCGCGCAGAACTAGGACAGCCAGGAACTCTCCTAGGCGACGACCA...CGG', SingleLetterAlphabet()), id='Greater_White-Fronted_Goose', name='Greater_White-Fronted_Goose', description='Greater_White-Fronted_Goose', dbxrefs=[]),\n",
       " 'Green-Winged Teal': SeqRecord(seq=Seq('GCCTCTGATCCGGGCAGAACTAGGCCAGCCAGGGACCCTCCTGGGCGACGACCA...CGG', SingleLetterAlphabet()), id='Green-Winged_Teal', name='Green-Winged_Teal', description='Green-Winged_Teal', dbxrefs=[]),\n",
       " 'Grey Heron': SeqRecord(seq=Seq('GCCTCTCATCCGAGCTGAACTTGGACAACCAGGGACGCTCCTAGGAGACGACCA...TGG', SingleLetterAlphabet()), id='Grey_Heron', name='Grey_Heron', description='Grey_Heron', dbxrefs=[]),\n",
       " 'Heron': SeqRecord(seq=Seq('GCCTCTCATCCGAGCTGAACTTGGACAACCAGGGACGCTCCTAGGAGACGACCA...TGG', SingleLetterAlphabet()), id='Heron', name='Heron', description='Heron', dbxrefs=[]),\n",
       " 'Herring Gull': SeqRecord(seq=Seq('GCCTCTTATCCGTGCAGAACTTGGCCAACCCGGGACCCTCCTAGGAGACGACCA...CGG', SingleLetterAlphabet()), id='Herring_Gull', name='Herring_Gull', description='Herring_Gull', dbxrefs=[]),\n",
       " 'Hooded Merganser': SeqRecord(seq=Seq('GCCTCTAATCCGCGCAGAACTCGGCCAACCAGGGACCCTCCTAGGCGATGACCA...CGG', SingleLetterAlphabet()), id='Hooded_Merganser', name='Hooded_Merganser', description='Hooded_Merganser', dbxrefs=[]),\n",
       " 'Horse': SeqRecord(seq=Seq('GCCTCTAATCCGTGCTGAATTAGGCCAACCTGGGACCCTACTAGGAGATGATCA...CGG', SingleLetterAlphabet()), id='Horse', name='Horse', description='Horse', dbxrefs=[]),\n",
       " 'Human': SeqRecord(seq=Seq('GCCTCTTATTCGAGCCGAGCTGGGCCAGCCAGGCAACCTTCTAGGTAACGACCA...CGG', SingleLetterAlphabet()), id='Human', name='Human', description='Human', dbxrefs=[]),\n",
       " 'Iceland Gull': SeqRecord(seq=Seq('GCCTCTTATCCGTGCAGAACTTGGCCAACCCGGGACCCTCCTAGGAGACGACCA...CGG', SingleLetterAlphabet()), id='Iceland_Gull', name='Iceland_Gull', description='Iceland_Gull', dbxrefs=[]),\n",
       " 'Japanese Quail': SeqRecord(seq=Seq('GCTTTTAATCCGCGCAGAACTAGGACAACCAGGCACCCTCCTAGGAGATGACCA...TGG', SingleLetterAlphabet()), id='Japanese_Quail', name='Japanese_Quail', description='Japanese_Quail', dbxrefs=[]),\n",
       " 'Knot': SeqRecord(seq=Seq('GCCTCTTATTCGCGCAGAACTAGGTCAACCCGGAACCCTTTTAGGAGATGACCA...TGG', SingleLetterAlphabet()), id='Knot', name='Knot', description='Knot', dbxrefs=[]),\n",
       " 'Laughing Gull': SeqRecord(seq=Seq('GCCTCTTATCCGTGCAGAACTTGGCCAACCCGGGACCCTCCTAGGAGACGACCA...CGG', SingleLetterAlphabet()), id='Laughing_Gull', name='Laughing_Gull', description='Laughing_Gull', dbxrefs=[]),\n",
       " 'Least Sandpiper': SeqRecord(seq=Seq('GCCTCTTATTCGCGCAGAACTAGGTCAACCCGGAACCCTTTTAGGAGATGACCA...TGG', SingleLetterAlphabet()), id='Least_Sandpiper', name='Least_Sandpiper', description='Least_Sandpiper', dbxrefs=[]),\n",
       " 'Lesser Scaup': SeqRecord(seq=Seq('GCCTCTAATCCGCGCAGAACTAGGCCAACCAGGAACCCTCCTGGGTGATGACCA...CGG', SingleLetterAlphabet()), id='Lesser_Scaup', name='Lesser_Scaup', description='Lesser_Scaup', dbxrefs=[]),\n",
       " 'Long-Tailed Duck': SeqRecord(seq=Seq('GCCTCTAATCCGCGCAGAACTGGGCCAACCAGGAACCCTCCTGGGTGATGACCA...CGG', SingleLetterAlphabet()), id='Long-Tailed_Duck', name='Long-Tailed_Duck', description='Long-Tailed_Duck', dbxrefs=[]),\n",
       " 'Magpie Robin': SeqRecord(seq=Seq('GCCTCTCATCCGAGCAGAACTAGGCCAACCAGGCGCCTTACTGGGAGACGACCA...---', SingleLetterAlphabet()), id='Magpie_Robin', name='Magpie_Robin', description='Magpie_Robin', dbxrefs=[]),\n",
       " 'Mallard': SeqRecord(seq=Seq('GCCTCTGATCCGGGCAGAACTAGGCCAGCCAGGGACCCTCCTGGGCGACGACCA...CGG', SingleLetterAlphabet()), id='Mallard', name='Mallard', description='Mallard', dbxrefs=[]),\n",
       " 'Murre': SeqRecord(seq=Seq('GCCTCTCATCCGTGCAGAACTAGGCCAACCAGGGACCCTCCTAGGAGATGACCA...TGG', SingleLetterAlphabet()), id='Murre', name='Murre', description='Murre', dbxrefs=[]),\n",
       " 'Muscovy Duck': SeqRecord(seq=Seq('GCCTCTAATTCGCGCAGAACTAGGCCAACCAGGGACTCTCCTGGGAGATGACCA...TGG', SingleLetterAlphabet()), id='Muscovy_Duck', name='Muscovy_Duck', description='Muscovy_Duck', dbxrefs=[]),\n",
       " 'Mute Swan': SeqRecord(seq=Seq('GCCTTTAATCCGCGCAGAACTGGGACAACCGGGAACTCTCCTTGGTGACGACCA...CGG', SingleLetterAlphabet()), id='Mute_Swan', name='Mute_Swan', description='Mute_Swan', dbxrefs=[]),\n",
       " 'Northern Pintail': SeqRecord(seq=Seq('GCCTCTGATCCGGGCAGAACTAGGCCAGCCAGGGACCCTCCTGGGCGACGACCA...CGG', SingleLetterAlphabet()), id='Northern_Pintail', name='Northern_Pintail', description='Northern_Pintail', dbxrefs=[]),\n",
       " 'Northern Shoveler': SeqRecord(seq=Seq('GCCTCTGATCCGGGCAGAACTAGGCCAGCCAGGGACCCTCCTGGGCGACGACCA...CGG', SingleLetterAlphabet()), id='Northern_Shoveler', name='Northern_Shoveler', description='Northern_Shoveler', dbxrefs=[]),\n",
       " 'Ostrich': SeqRecord(seq=Seq('GCCTCTCATTCGTGCAGAATTAGGACAACCAGGGACACTACTTGGAGACGATCA...CGG', SingleLetterAlphabet()), id='Ostrich', name='Ostrich', description='Ostrich', dbxrefs=[]),\n",
       " 'Panda': SeqRecord(seq=Seq('GCCTCTAATCCGTGCTGAATTAGGTCAGCCTGGAGCTCTGTTAGGAGATGACCA...TGG', SingleLetterAlphabet()), id='Panda', name='Panda', description='Panda', dbxrefs=[]),\n",
       " 'Pelican': SeqRecord(seq=Seq('GCCTCTCATTCGGGCCGAACTAGGCCAGCCCGGAACCCTCTTGGGAGATGACCA...TGG', SingleLetterAlphabet()), id='Pelican', name='Pelican', description='Pelican', dbxrefs=[]),\n",
       " 'Peregrine Falcon': SeqRecord(seq=Seq('GCCTCTTATCCGAGCAGAACTTGGCCAACCAGGAACTCTCCTAGGAGACGACCA...CGG', SingleLetterAlphabet()), id='Peregrine_Falcon', name='Peregrine_Falcon', description='Peregrine_Falcon', dbxrefs=[]),\n",
       " 'Pheasant': SeqRecord(seq=Seq('GCCTCTAATTCGCGCAGAACTAGGACAACCAGGAACACTTTTGGGAGATGACCA...CGG', SingleLetterAlphabet()), id='Pheasant', name='Pheasant', description='Pheasant', dbxrefs=[]),\n",
       " 'Pigeon': SeqRecord(seq=Seq('GTCTCTCATTCGCGCAGAACTAGGACAACCAGGCACTCTCCTGGGAGACGACCA...TGG', SingleLetterAlphabet()), id='Pigeon', name='Pigeon', description='Pigeon', dbxrefs=[]),\n",
       " 'Pink-Footed Goose': SeqRecord(seq=Seq('GCCTTTAATCCGCGCAGAACTAGGACAGCCAGGAACTCTCCTAGGCGACGACCA...CGG', SingleLetterAlphabet()), id='Pink-Footed_Goose', name='Pink-Footed_Goose', description='Pink-Footed_Goose', dbxrefs=[]),\n",
       " 'Pintail': SeqRecord(seq=Seq('GCCTCTGATCCGGGCAGAACTAGGCCAGCCAGGGACCCTCCTGGGCGACGACCA...CGG', SingleLetterAlphabet()), id='Pintail', name='Pintail', description='Pintail', dbxrefs=[]),\n",
       " 'Poultry': SeqRecord(seq=Seq('GCCTCTAATTCGCGCAGAACTAGGACAGCCCGGAACTCTCTTAGGAGACGATCA...CGG', SingleLetterAlphabet()), id='Poultry', name='Poultry', description='Poultry', dbxrefs=[]),\n",
       " 'Quail': SeqRecord(seq=Seq('GCTTTTAATCCGCGCAGAACTAGGACAACCAGGCACCCTCCTAGGAGATGACCA...TGG', SingleLetterAlphabet()), id='Quail', name='Quail', description='Quail', dbxrefs=[]),\n",
       " 'Red Knot': SeqRecord(seq=Seq('GCCTCTTATTCGCGCAGAACTAGGTCAACCCGGAACCCTTTTAGGAGATGACCA...TGG', SingleLetterAlphabet()), id='Red_Knot', name='Red_Knot', description='Red_Knot', dbxrefs=[]),\n",
       " 'Red-Crested Pochard': SeqRecord(seq=Seq('GCCTCTAATCCGCGCAGAACTAGGCCAACCAGGAACCCTCCTAGGTGATGACCA...TGG', SingleLetterAlphabet()), id='Red-Crested_Pochard', name='Red-Crested_Pochard', description='Red-Crested_Pochard', dbxrefs=[]),\n",
       " 'Red-Necked Stint': SeqRecord(seq=Seq('GCCTCTTATTCGCGCAGAACTAGGTCAACCCGGAACCCTTTTAGGAGATGACCA...TGG', SingleLetterAlphabet()), id='Red-Necked_Stint', name='Red-Necked_Stint', description='Red-Necked_Stint', dbxrefs=[]),\n",
       " 'Redhead': SeqRecord(seq=Seq('GCCTCTAATCCGCGCAGAACTAGGCCAACCAGGAACCCTCCTGGGTGATGACCA...CGG', SingleLetterAlphabet()), id='Redhead', name='Redhead', description='Redhead', dbxrefs=[]),\n",
       " 'Redhead Duck': SeqRecord(seq=Seq('GCCTCTAATCCGCGCAGAACTAGGCCAACCAGGAACCCTCCTGGGTGATGACCA...CGG', SingleLetterAlphabet()), id='Redhead_Duck', name='Redhead_Duck', description='Redhead_Duck', dbxrefs=[]),\n",
       " 'Rhea': SeqRecord(seq=Seq('GCCTCTCATCCGTGCAGAACTCGGCCAACCAGGAACCCTCCTAGGAGACGACCA...TGG', SingleLetterAlphabet()), id='Rhea', name='Rhea', description='Rhea', dbxrefs=[]),\n",
       " 'Ring-Necked Duck': SeqRecord(seq=Seq('GCCTCTAATCCGCGCAGAACTAGGCCAACCAGGAACCCTCCTGGGTGATGACCA...CGG', SingleLetterAlphabet()), id='Ring-Necked_Duck', name='Ring-Necked_Duck', description='Ring-Necked_Duck', dbxrefs=[]),\n",
       " 'Rook': SeqRecord(seq=Seq('GTCTCTTATTCGAGCAGAACTGGGCCAACCAGGTGCTCTACTAGGAGATGACCA...CGG', SingleLetterAlphabet()), id='Rook', name='Rook', description='Rook', dbxrefs=[]),\n",
       " 'Rosy-Billed Pochard': SeqRecord(seq=Seq('GCCTCTAATCCGCGCAGAACTAGGCCAACCAGGAACCCTCCTAGGTGATGACCA...TGG', SingleLetterAlphabet()), id='Rosy-Billed_Pochard', name='Rosy-Billed_Pochard', description='Rosy-Billed_Pochard', dbxrefs=[]),\n",
       " 'Ruddy Turnstone': SeqRecord(seq=Seq('GCCTCTCATTCGCGCAGAACTAGGTCAACCGGGGACCCTCTTAGGAGACGATCA...CGG', SingleLetterAlphabet()), id='Ruddy_Turnstone', name='Ruddy_Turnstone', description='Ruddy_Turnstone', dbxrefs=[]),\n",
       " 'Saker Falcon': SeqRecord(seq=Seq('GCCTCTTATCCGAGCAGAACTTGGCCAACCAGGAACTCTCCTAGGAGACGACCA...CGG', SingleLetterAlphabet()), id='Saker_Falcon', name='Saker_Falcon', description='Saker_Falcon', dbxrefs=[]),\n",
       " 'Sanderling': SeqRecord(seq=Seq('GCCTCTTATTCGCGCAGAACTAGGTCAACCCGGAACCCTTTTAGGAGATGACCA...TGG', SingleLetterAlphabet()), id='Sanderling', name='Sanderling', description='Sanderling', dbxrefs=[]),\n",
       " 'Scaup': SeqRecord(seq=Seq('GCCTCTAATCCGCGCAGAACTAGGCCAACCAGGAACCCTCCTGGGTGATGACCA...CGG', SingleLetterAlphabet()), id='Scaup', name='Scaup', description='Scaup', dbxrefs=[]),\n",
       " 'Semipalmated Sandpiper': SeqRecord(seq=Seq('GCCTCTTATTCGCGCAGAACTAGGTCAACCCGGAACCCTTTTAGGAGATGACCA...TGG', SingleLetterAlphabet()), id='Semipalmated_Sandpiper', name='Semipalmated_Sandpiper', description='Semipalmated_Sandpiper', dbxrefs=[]),\n",
       " 'Sharp-Tailed Sandpiper': SeqRecord(seq=Seq('GCCTCTTATTCGCGCAGAACTAGGTCAACCCGGAACCCTTTTAGGAGATGACCA...TGG', SingleLetterAlphabet()), id='Sharp-Tailed_Sandpiper', name='Sharp-Tailed_Sandpiper', description='Sharp-Tailed_Sandpiper', dbxrefs=[]),\n",
       " 'Shoveler': SeqRecord(seq=Seq('GCCTCTGATCCGGGCAGAACTAGGCCAGCCAGGGACCCTCCTGGGCGACGACCA...CGG', SingleLetterAlphabet()), id='Shoveler', name='Shoveler', description='Shoveler', dbxrefs=[]),\n",
       " 'Silky Chicken': SeqRecord(seq=Seq('GCCTCTAATTCGCGCAGAACTAGGACAGCCCGGAACTCTCTTAGGAGACGATCA...CGG', SingleLetterAlphabet()), id='Silky_Chicken', name='Silky_Chicken', description='Silky_Chicken', dbxrefs=[]),\n",
       " 'Snow Goose': SeqRecord(seq=Seq('GCCTTTAATCCGCGCAGAACTAGGACAACCAGGAACTCTCCTAGGCGACGACCA...CGG', SingleLetterAlphabet()), id='Snow_Goose', name='Snow_Goose', description='Snow_Goose', dbxrefs=[]),\n",
       " 'Sooty Tern': SeqRecord(seq=Seq('GCCTCTCATTCGCGCAGAACTAGGCCAACCAGGAACCCTCCTAGGAGATGACCA...TGG', SingleLetterAlphabet()), id='Sooty_Tern', name='Sooty_Tern', description='Sooty_Tern', dbxrefs=[]),\n",
       " 'Sparrow': SeqRecord(seq=Seq('GCCTCTTATCCGAGCAGAACTTGGACAACCAGGGGCTCTCCTAGGAGATGACCA...TGG', SingleLetterAlphabet()), id='Sparrow', name='Sparrow', description='Sparrow', dbxrefs=[]),\n",
       " 'Spot-Billed Duck': SeqRecord(seq=Seq('GCCTCTGATCCGGGCAGAACTAGGCCAGCCAGGGACCCTCCTGGGCGACGACCA...CGG', SingleLetterAlphabet()), id='Spot-Billed_Duck', name='Spot-Billed_Duck', description='Spot-Billed_Duck', dbxrefs=[]),\n",
       " 'Swan': SeqRecord(seq=Seq('GCCTTTAATCCGCGCAGAACTGGGACAACCGGGAACTCTCCTTGGTGACGACCA...CGG', SingleLetterAlphabet()), id='Swan', name='Swan', description='Swan', dbxrefs=[]),\n",
       " 'Swine': SeqRecord(seq=Seq('GCCTCTAATTCGCGCTGAACTAGGTCAGCCCGGAACCCTACTTGGCGATGATCA...CGG', SingleLetterAlphabet()), id='Swine', name='Swine', description='Swine', dbxrefs=[]),\n",
       " 'Teal': SeqRecord(seq=Seq('GCCTCTGATCCGGGCAGAACTAGGCCAGCCAGGGACCCTCCTGGGCGACGACCA...CGG', SingleLetterAlphabet()), id='Teal', name='Teal', description='Teal', dbxrefs=[]),\n",
       " 'Tree Sparrow': SeqRecord(seq=Seq('GCCTCTTATCCGAGCAGAACTTGGACAACCAGGGGCTCTCCTAGGAGATGACCA...TGG', SingleLetterAlphabet()), id='Tree_Sparrow', name='Tree_Sparrow', description='Tree_Sparrow', dbxrefs=[]),\n",
       " 'Tufted Duck': SeqRecord(seq=Seq('GCCTCTAATCCGCGCAGAACTAGGCCAACCAGGAACCCTCCTGGGTGATGACCA...CGG', SingleLetterAlphabet()), id='Tufted_Duck', name='Tufted_Duck', description='Tufted_Duck', dbxrefs=[]),\n",
       " 'Tundra Swan': SeqRecord(seq=Seq('GCCTTTAATCCGCGCAGAACTGGGACAACCGGGAACTCTCCTTGGTGACGACCA...CGG', SingleLetterAlphabet()), id='Tundra_Swan', name='Tundra_Swan', description='Tundra_Swan', dbxrefs=[]),\n",
       " 'Waterfowl': SeqRecord(seq=Seq('GCCTCTGATCCGGGCAGAACTAGGCCAGCCAGGGACCCTCCTGGGCGACGACCA...CGG', SingleLetterAlphabet()), id='Waterfowl', name='Waterfowl', description='Waterfowl', dbxrefs=[]),\n",
       " 'Whiskered Tern': SeqRecord(seq=Seq('GCCTCTCATTCGTGCAGAACTAGGCCAACCAGGAACCCTCCTAGGAGATGATCA...TGG', SingleLetterAlphabet()), id='Whiskered_Tern', name='Whiskered_Tern', description='Whiskered_Tern', dbxrefs=[]),\n",
       " 'White-Rumped Sandpiper': SeqRecord(seq=Seq('GCCTCTTATTCGCGCAGAACTAGGTCAACCCGGAACCCTTTTAGGAGATGACCA...TGG', SingleLetterAlphabet()), id='White-Rumped_Sandpiper', name='White-Rumped_Sandpiper', description='White-Rumped_Sandpiper', dbxrefs=[]),\n",
       " 'Whooper Swan': SeqRecord(seq=Seq('GCCTTTAATCCGCGCAGAACTGGGACAACCGGGAACTCTCCTTGGTGACGACCA...CGG', SingleLetterAlphabet()), id='Whooper_Swan', name='Whooper_Swan', description='Whooper_Swan', dbxrefs=[]),\n",
       " 'Wild Chicken': SeqRecord(seq=Seq('GCCTCTAATTCGCGCAGAACTAGGACAGCCCGGAACTCTCTTAGGAGACGATCA...CGG', SingleLetterAlphabet()), id='Wild_Chicken', name='Wild_Chicken', description='Wild_Chicken', dbxrefs=[])}"
      ]
     },
     "execution_count": 56,
     "metadata": {},
     "output_type": "execute_result"
    }
   ],
   "source": [
    "# Because the sequence data alignments are:\n",
    "# 1. non-overlapping\n",
    "# 2. highly variable in length,\n",
    "# I think the best way to define distance is as such:\n",
    "# - Compare every position in the alignment.\n",
    "# - Increment distance by 1 if and only if both positions are not gaps and are different.\n",
    "# - Normalize distance by taking distance/len(smaller_18S)\n",
    "\n",
    "# Read in the alignment using AlignIO.\n",
    "COI5P_sequences = AlignIO.read('host_COI5P_trimmed_alignment.fasta', 'fasta')\n",
    "\n",
    "# Clean up the names in the dictionary keys so that they are \n",
    "# easily searchable.\n",
    "host_sequence = dict()\n",
    "for s in COI5P_sequences:\n",
    "    host = s.id.replace('_', ' ')\n",
    "    host_sequence[host] = s\n",
    "\n",
    "host_sequence"
   ]
  },
  {
   "cell_type": "code",
   "execution_count": 57,
   "metadata": {
    "collapsed": false,
    "scrolled": true
   },
   "outputs": [],
   "source": [
    "# for j in range(len(host_sequence.keys())):\n",
    "#     s1 = host_sequence[host_sequence.keys()[12]]\n",
    "#     s2 = host_sequence[host_sequence.keys()[j]]\n",
    "\n",
    "#     s1_ug = s1.seq.ungap('-')\n",
    "#     s2_ug = s2.seq.ungap('-')\n",
    "\n",
    "#     dist = 0\n",
    "#     for i in range(len(s1)):\n",
    "#         l1 = s1[i]\n",
    "#         l2=  s2[i]\n",
    "\n",
    "#         if l1 != '-' and l2 != '-' and l1 != l2:\n",
    "#             dist += 1\n",
    "\n",
    "#     print(dist / float(min([len(s1_ug), len(s2_ug)])))"
   ]
  },
  {
   "cell_type": "code",
   "execution_count": 58,
   "metadata": {
    "collapsed": false
   },
   "outputs": [],
   "source": [
    "# hosts_18s[hosts_18s['Genbank ID'] == host_sequence.keys()[19]]"
   ]
  },
  {
   "cell_type": "code",
   "execution_count": 59,
   "metadata": {
    "collapsed": false
   },
   "outputs": [],
   "source": [
    "import networkx as nx\n",
    "\n",
    "G = nx.read_gpickle('20141103 All IRD Final Graph.pkl')\n",
    "\n",
    "def clean_host_species(host_species):\n",
    "    if '/' in host_species:\n",
    "        host_species = host_species.split('/')[0]\n",
    "        \n",
    "    return host_species\n",
    "\n",
    "def generate_random_polynucleotide(length):\n",
    "    from random import choice\n",
    "    from Bio.SeqRecord import SeqRecord\n",
    "    from Bio.Seq import Seq\n",
    "    polynt = ''\n",
    "    for i in range(length):\n",
    "        polynt = polynt + '-'\n",
    "    seqrec = SeqRecord(Seq(polynt))\n",
    "    return seqrec\n",
    "\n",
    "# Add in the 18S rRNA sequence to each node, if available.\n",
    "for n, d in G.nodes(data=True):\n",
    "    host_species = clean_host_species(d['host_species'])\n",
    "    \n",
    "    if host_species in host_sequence.keys():\n",
    "        G.node[n]['18s_rRNA_sequence'] = host_sequence[host_species]\n",
    "    else:\n",
    "        G.node[n]['18s_rRNA_sequence'] = generate_random_polynucleotide(COI5P_sequences.get_alignment_length())"
   ]
  },
  {
   "cell_type": "code",
   "execution_count": 60,
   "metadata": {
    "collapsed": false
   },
   "outputs": [
    {
     "data": {
      "text/plain": [
       "{'18s_rRNA_sequence': SeqRecord(seq=Seq('GCCTCTGATCCGGGCAGAACTAGGCCAGCCAGGGACCCTCCTGGGCGACGACCA...CGG', SingleLetterAlphabet()), id='Mallard', name='Mallard', description='Mallard', dbxrefs=[]),\n",
       " 'collection_date': Timestamp('2008-11-22 00:00:00'),\n",
       " 'country': 'Sweden',\n",
       " 'host_species': 'Mallard/Avian',\n",
       " 'subtype': 'H4N6'}"
      ]
     },
     "execution_count": 60,
     "metadata": {},
     "output_type": "execute_result"
    }
   ],
   "source": [
    "G.node[n]"
   ]
  },
  {
   "cell_type": "code",
   "execution_count": 61,
   "metadata": {
    "collapsed": false
   },
   "outputs": [],
   "source": [
    "def compute_distance(seqrecord1, seqrecord2):\n",
    "    smaller_length = min([len(seqrecord1.seq.ungap('-')), len(seqrecord2.seq.ungap('-'))])\n",
    "    \n",
    "    distance = 0\n",
    "    for i in range(len(seqrecord1.seq)):\n",
    "        l1 = seqrecord1.seq[i]\n",
    "        l2 = seqrecord2.seq[i]\n",
    "        \n",
    "        if l1 != '-' and l2 != '-' and l1 != l2:\n",
    "            distance += 1\n",
    "            \n",
    "    if smaller_length == 0:\n",
    "        return 1\n",
    "    else:\n",
    "        return float(distance) / smaller_length\n",
    "    \n",
    "def compute_hamming_distance(seqrecord1, seqrecord2):\n",
    "    \"\"\"\n",
    "    Computes the hamming distance between two seqrecords' sequences.\n",
    "    \"\"\"\n",
    "    from Levenshtein import distance\n",
    "    \n",
    "    s1 = str(seqrecord1.seq)\n",
    "    s2 = str(seqrecord2.seq)\n",
    "    \n",
    "    return distance(s1, s2) / float(len(seqrecord1.seq))\n",
    "\n",
    "def host_phylogenetic_distance(G, n1, n2):\n",
    "    \"\"\"\n",
    "    Compare two nodes' phylogenetic distance.\n",
    "    \"\"\"\n",
    "    from Bio.SeqRecord import SeqRecord\n",
    "    rrna_1 = G.node[n1]['18s_rRNA_sequence']\n",
    "    rrna_2 = G.node[n2]['18s_rRNA_sequence']\n",
    "    \n",
    "    assert isinstance(rrna_1, SeqRecord), '{0} does not have a valid rRNA sequence.'.format(n1)\n",
    "    assert isinstance(rrna_2, SeqRecord), '{0} does not have a valid rRNA sequence.'.format(n2)\n",
    "    \n",
    "    return compute_distance(rrna_1, rrna_2)\n",
    "\n",
    "def host_hamming_distance(G, n1, n2):\n",
    "    \"\"\"\n",
    "    Returns the hamming distnace between two seqrecords.\n",
    "    \"\"\"\n",
    "    from Bio.SeqRecord import SeqRecord\n",
    "    rrna_1 = G.node[n1]['18s_rRNA_sequence']\n",
    "    rrna_2 = G.node[n2]['18s_rRNA_sequence']\n",
    "    \n",
    "    assert isinstance(rrna_1, SeqRecord), '{0} does not have a valid rRNA sequence.'.format(n1)\n",
    "    assert isinstance(rrna_2, SeqRecord), '{0} does not have a valid rRNA sequence.'.format(n2)\n",
    "\n",
    "    return compute_hamming_distance(rrna_1, rrna_2)"
   ]
  },
  {
   "cell_type": "code",
   "execution_count": 62,
   "metadata": {
    "collapsed": false,
    "scrolled": false
   },
   "outputs": [
    {
     "name": "stdout",
     "output_type": "stream",
     "text": [
      "(0.2032520325203252, 'Swine', 'Human')\n"
     ]
    },
    {
     "data": {
      "image/png": "[encoded data removed]",
      "text/plain": [
       "<matplotlib.figure.Figure at 0x116795b50>"
      ]
     },
     "metadata": {},
     "output_type": "display_data"
    }
   ],
   "source": [
    "from itertools import combinations\n",
    "\n",
    "distances = []\n",
    "for (h1, s1), (h2, s2) in combinations(host_sequence.items(), 2):\n",
    "    if ('Human' in s1.description or 'Human' in s2.description) and ('Swine' in s1.description or 'Swine' in s2.description):\n",
    "        print(compute_distance(s1, s2),  s1.description, s2.description)\n",
    "    \n",
    "    # distances.append(compute_distance(s1,s2))\n",
    "    distances.append(compute_hamming_distance(s1, s2))\n",
    "    \n",
    "plt.hist(distances, bins=100)\n",
    "plt.show()"
   ]
  },
  {
   "cell_type": "code",
   "execution_count": 63,
   "metadata": {
    "collapsed": false
   },
   "outputs": [
    {
     "data": {
      "text/plain": [
       "('A/mallard/Interior Alaska/6MP0160AR1/2006',\n",
       " 'A/green-winged teal/Interior Alaska/6MP1077/2006',\n",
       " {'edge_type': 'full_complement',\n",
       "  'pwi': 7.7231860000000001,\n",
       "  'segments': {1: 0.99085800000000002,\n",
       "   2: 0.88994799999999996,\n",
       "   3: 0.90987300000000004,\n",
       "   4: 0.99942500000000001,\n",
       "   5: 0.93408000000000002,\n",
       "   6: 1.0,\n",
       "   7: 0.99900199999999995,\n",
       "   8: 1.0}})"
      ]
     },
     "execution_count": 63,
     "metadata": {},
     "output_type": "execute_result"
    }
   ],
   "source": [
    "G.edges(data=True)[0]"
   ]
  },
  {
   "cell_type": "code",
   "execution_count": 64,
   "metadata": {
    "collapsed": false
   },
   "outputs": [],
   "source": [
    "# Compute distribution of phylo distances across reassortant vs. whole genome edges.\n",
    "# Perform 2-sample KS test to see if they are different.\n",
    "# Ignore the following:\n",
    "\n",
    "def count_delta_phyloD(G):\n",
    "    \"\"\"\n",
    "    Computes the distribution of phylogenetic distances across every edge\n",
    "    in a graph.\n",
    "    \"\"\"\n",
    "    reassortant_phyloD = []\n",
    "    full_complement_phyloD = []\n",
    "\n",
    "    for sc, sk, d in G.edges(data=True):\n",
    "        sc_18s = G.node[sc]['18s_rRNA_sequence'].seq.ungap('-')\n",
    "        sk_18s = G.node[sk]['18s_rRNA_sequence'].seq.ungap('-')\n",
    "\n",
    "        if len(sc_18s) != 0 and len(sk_18s) != 0:\n",
    "            dist = host_hamming_distance(G, sc, sk)\n",
    "            if d['edge_type'] == 'reassortant':\n",
    "                reassortant_phyloD.append(dist)\n",
    "\n",
    "            elif d['edge_type'] == 'full_complement':\n",
    "                full_complement_phyloD.append(dist)\n",
    "                \n",
    "    return reassortant_phyloD, full_complement_phyloD"
   ]
  },
  {
   "cell_type": "code",
   "execution_count": 65,
   "metadata": {
    "collapsed": false
   },
   "outputs": [],
   "source": [
    "reassortant_phyloD, full_complement_phyloD = count_delta_phyloD(G)"
   ]
  },
  {
   "cell_type": "code",
   "execution_count": 66,
   "metadata": {
    "collapsed": false
   },
   "outputs": [
    {
     "data": {
      "text/plain": [
       "[0.0,\n",
       " 0.0,\n",
       " 0.0,\n",
       " 0.0,\n",
       " 0.2048780487804878,\n",
       " 0.2048780487804878,\n",
       " 0.2048780487804878,\n",
       " 0.2048780487804878,\n",
       " 0.2048780487804878,\n",
       " 0.17560975609756097,\n",
       " 0.2048780487804878,\n",
       " 0.2048780487804878,\n",
       " 0.2048780487804878,\n",
       " 0.2048780487804878,\n",
       " 0.2048780487804878,\n",
       " 0.16260162601626016,\n",
       " 0.0,\n",
       " 0.0,\n",
       " 0.09268292682926829,\n",
       " 0.0,\n",
       " 0.0,\n",
       " 0.17560975609756097,\n",
       " 0.0,\n",
       " 0.0,\n",
       " 0.0,\n",
       " 0.0,\n",
       " 0.17560975609756097,\n",
       " 0.0,\n",
       " 0.0,\n",
       " 0.0,\n",
       " 0.1024390243902439,\n",
       " 0.0,\n",
       " 0.0,\n",
       " 0.0,\n",
       " 0.0,\n",
       " 0.0,\n",
       " 0.0,\n",
       " 0.0,\n",
       " 0.0,\n",
       " 0.09268292682926829,\n",
       " 0.0,\n",
       " 0.0,\n",
       " 0.0,\n",
       " 0.0,\n",
       " 0.0,\n",
       " 0.0,\n",
       " 0.0,\n",
       " 0.0,\n",
       " 0.0,\n",
       " 0.0,\n",
       " 0.0,\n",
       " 0.0,\n",
       " 0.0,\n",
       " 0.16260162601626016,\n",
       " 0.16260162601626016,\n",
       " 0.16260162601626016,\n",
       " 0.0,\n",
       " 0.0,\n",
       " 0.0,\n",
       " 0.0,\n",
       " 0.0,\n",
       " 0.0,\n",
       " 0.0,\n",
       " 0.0,\n",
       " 0.0,\n",
       " 0.0,\n",
       " 0.0,\n",
       " 0.0,\n",
       " 0.0,\n",
       " 0.0,\n",
       " 0.0,\n",
       " 0.0,\n",
       " 0.0,\n",
       " 0.0,\n",
       " 0.0,\n",
       " 0.0,\n",
       " 0.0,\n",
       " 0.0,\n",
       " 0.2016260162601626,\n",
       " 0.0,\n",
       " 0.0,\n",
       " 0.0,\n",
       " 0.11707317073170732,\n",
       " 0.0,\n",
       " 0.2016260162601626,\n",
       " 0.0,\n",
       " 0.0,\n",
       " 0.2048780487804878,\n",
       " 0.0,\n",
       " 0.14308943089430895,\n",
       " 0.2016260162601626,\n",
       " 0.2016260162601626,\n",
       " 0.2016260162601626,\n",
       " 0.2016260162601626,\n",
       " 0.2016260162601626,\n",
       " 0.2016260162601626,\n",
       " 0.2016260162601626,\n",
       " 0.2016260162601626,\n",
       " 0.2016260162601626,\n",
       " 0.2016260162601626,\n",
       " 0.0,\n",
       " 0.0,\n",
       " 0.0,\n",
       " 0.0,\n",
       " 0.0,\n",
       " 0.0991869918699187,\n",
       " 0.0,\n",
       " 0.0,\n",
       " 0.0,\n",
       " 0.17886178861788618,\n",
       " 0.08455284552845528,\n",
       " 0.09268292682926829,\n",
       " 0.09268292682926829,\n",
       " 0.0,\n",
       " 0.13983739837398373,\n",
       " 0.18048780487804877,\n",
       " 0.0,\n",
       " 0.1024390243902439,\n",
       " 0.0,\n",
       " 0.0,\n",
       " 0.0,\n",
       " 0.0,\n",
       " 0.0,\n",
       " 0.0,\n",
       " 0.0,\n",
       " 0.0,\n",
       " 0.0,\n",
       " 0.0,\n",
       " 0.0,\n",
       " 0.0,\n",
       " 0.0,\n",
       " 0.17560975609756097,\n",
       " 0.17560975609756097,\n",
       " 0.17560975609756097,\n",
       " 0.2016260162601626,\n",
       " 0.0,\n",
       " 0.0,\n",
       " 0.17560975609756097,\n",
       " 0.17560975609756097,\n",
       " 0.17560975609756097,\n",
       " 0.0,\n",
       " 0.10894308943089431,\n",
       " 0.0,\n",
       " 0.183739837398374,\n",
       " 0.0,\n",
       " 0.0,\n",
       " 0.0,\n",
       " 0.0,\n",
       " 0.0,\n",
       " 0.0,\n",
       " 0.0,\n",
       " 0.0,\n",
       " 0.0,\n",
       " 0.0,\n",
       " 0.0,\n",
       " 0.0,\n",
       " 0.0,\n",
       " 0.0,\n",
       " 0.0,\n",
       " 0.0,\n",
       " 0.0,\n",
       " 0.0,\n",
       " 0.0,\n",
       " 0.0,\n",
       " 0.17560975609756097,\n",
       " 0.0,\n",
       " 0.0,\n",
       " 0.16260162601626016,\n",
       " 0.16260162601626016,\n",
       " 0.16260162601626016,\n",
       " 0.16260162601626016,\n",
       " 0.0,\n",
       " 0.0,\n",
       " 0.0,\n",
       " 0.09268292682926829,\n",
       " 0.09268292682926829,\n",
       " 0.0,\n",
       " 0.0,\n",
       " 0.0,\n",
       " 0.0,\n",
       " 0.2016260162601626,\n",
       " 0.2016260162601626,\n",
       " 0.2016260162601626,\n",
       " 0.0,\n",
       " 0.0,\n",
       " 0.0,\n",
       " 0.09268292682926829,\n",
       " 0.0,\n",
       " 0.0,\n",
       " 0.0,\n",
       " 0.0,\n",
       " 0.0,\n",
       " 0.0,\n",
       " 0.0,\n",
       " 0.0,\n",
       " 0.17560975609756097,\n",
       " 0.0,\n",
       " 0.216260162601626,\n",
       " 0.2048780487804878,\n",
       " 0.17560975609756097,\n",
       " 0.17560975609756097,\n",
       " 0.17560975609756097,\n",
       " 0.17560975609756097,\n",
       " 0.17560975609756097,\n",
       " 0.17560975609756097,\n",
       " 0.17560975609756097,\n",
       " 0.17560975609756097,\n",
       " 0.17560975609756097,\n",
       " 0.17560975609756097,\n",
       " 0.0,\n",
       " 0.16260162601626016,\n",
       " 0.0,\n",
       " 0.0,\n",
       " 0.0,\n",
       " 0.0,\n",
       " 0.0,\n",
       " 0.0,\n",
       " 0.2016260162601626,\n",
       " 0.1024390243902439,\n",
       " 0.0,\n",
       " 0.0,\n",
       " 0.16260162601626016,\n",
       " 0.0,\n",
       " 0.0,\n",
       " 0.0,\n",
       " 0.18048780487804877,\n",
       " 0.18048780487804877,\n",
       " 0.0,\n",
       " 0.18048780487804877,\n",
       " 0.0,\n",
       " 0.0,\n",
       " 0.0,\n",
       " 0.0,\n",
       " 0.0,\n",
       " 0.0,\n",
       " 0.0,\n",
       " 0.0,\n",
       " 0.0,\n",
       " 0.0,\n",
       " 0.0,\n",
       " 0.0,\n",
       " 0.0,\n",
       " 0.0,\n",
       " 0.0,\n",
       " 0.0,\n",
       " 0.0,\n",
       " 0.0,\n",
       " 0.0,\n",
       " 0.0,\n",
       " 0.0,\n",
       " 0.0,\n",
       " 0.0,\n",
       " 0.0,\n",
       " 0.0,\n",
       " 0.16260162601626016,\n",
       " 0.0991869918699187,\n",
       " 0.0,\n",
       " 0.0,\n",
       " 0.0,\n",
       " 0.0,\n",
       " 0.0,\n",
       " 0.0,\n",
       " 0.0,\n",
       " 0.0,\n",
       " 0.0,\n",
       " 0.0,\n",
       " 0.0,\n",
       " 0.0,\n",
       " 0.0,\n",
       " 0.0,\n",
       " 0.0,\n",
       " 0.0,\n",
       " 0.0,\n",
       " 0.0,\n",
       " 0.0,\n",
       " 0.0,\n",
       " 0.0,\n",
       " 0.16260162601626016,\n",
       " 0.16260162601626016,\n",
       " 0.0,\n",
       " 0.0,\n",
       " 0.0,\n",
       " 0.0,\n",
       " 0.0,\n",
       " 0.0,\n",
       " 0.0,\n",
       " 0.0,\n",
       " 0.17560975609756097,\n",
       " 0.0,\n",
       " 0.0,\n",
       " 0.0,\n",
       " 0.0,\n",
       " 0.0,\n",
       " 0.0,\n",
       " 0.0,\n",
       " 0.0,\n",
       " 0.16260162601626016,\n",
       " 0.0,\n",
       " 0.0,\n",
       " 0.0,\n",
       " 0.0,\n",
       " 0.0,\n",
       " 0.0,\n",
       " 0.0,\n",
       " 0.0,\n",
       " 0.0,\n",
       " 0.0,\n",
       " 0.0,\n",
       " 0.18048780487804877,\n",
       " 0.18048780487804877,\n",
       " 0.16747967479674797,\n",
       " 0.0,\n",
       " 0.0,\n",
       " 0.0,\n",
       " 0.0,\n",
       " 0.0,\n",
       " 0.17560975609756097,\n",
       " 0.0,\n",
       " 0.0,\n",
       " 0.15934959349593497,\n",
       " 0.2048780487804878,\n",
       " 0.2048780487804878,\n",
       " 0.2048780487804878,\n",
       " 0.2048780487804878,\n",
       " 0.2048780487804878,\n",
       " 0.17560975609756097,\n",
       " 0.2048780487804878,\n",
       " 0.2048780487804878,\n",
       " 0.2048780487804878,\n",
       " 0.2048780487804878,\n",
       " 0.2048780487804878,\n",
       " 0.2048780487804878,\n",
       " 0.0,\n",
       " 0.0,\n",
       " 0.0,\n",
       " 0.1040650406504065,\n",
       " 0.0,\n",
       " 0.0,\n",
       " 0.0,\n",
       " 0.0,\n",
       " 0.0,\n",
       " 0.0,\n",
       " 0.0,\n",
       " 0.0,\n",
       " 0.0,\n",
       " 0.11707317073170732,\n",
       " 0.0,\n",
       " 0.0,\n",
       " 0.17560975609756097,\n",
       " 0.0,\n",
       " 0.0,\n",
       " 0.0,\n",
       " 0.0,\n",
       " 0.0,\n",
       " 0.09268292682926829,\n",
       " 0.0,\n",
       " 0.2016260162601626,\n",
       " 0.2016260162601626,\n",
       " 0.2016260162601626,\n",
       " 0.2016260162601626,\n",
       " 0.2016260162601626,\n",
       " 0.2016260162601626,\n",
       " 0.2016260162601626,\n",
       " 0.2016260162601626,\n",
       " 0.2016260162601626,\n",
       " 0.2016260162601626,\n",
       " 0.2016260162601626,\n",
       " 0.2016260162601626,\n",
       " 0.2016260162601626,\n",
       " 0.2016260162601626,\n",
       " 0.2016260162601626,\n",
       " 0.2016260162601626,\n",
       " 0.2016260162601626,\n",
       " 0.2016260162601626,\n",
       " 0.2016260162601626,\n",
       " 0.2016260162601626,\n",
       " 0.2016260162601626,\n",
       " 0.2016260162601626,\n",
       " 0.2016260162601626,\n",
       " 0.2016260162601626,\n",
       " 0.2016260162601626,\n",
       " 0.2016260162601626,\n",
       " 0.0,\n",
       " 0.0,\n",
       " 0.2016260162601626,\n",
       " 0.0,\n",
       " 0.0,\n",
       " 0.0,\n",
       " 0.0,\n",
       " 0.0,\n",
       " 0.16910569105691056,\n",
       " 0.0,\n",
       " 0.0,\n",
       " 0.0,\n",
       " 0.0,\n",
       " 0.0,\n",
       " 0.0,\n",
       " 0.0,\n",
       " 0.1821138211382114,\n",
       " 0.0,\n",
       " 0.0,\n",
       " 0.10894308943089431,\n",
       " 0.0,\n",
       " 0.0,\n",
       " 0.0,\n",
       " 0.17560975609756097,\n",
       " 0.0,\n",
       " 0.0,\n",
       " 0.0,\n",
       " 0.0,\n",
       " 0.0,\n",
       " 0.0,\n",
       " 0.0,\n",
       " 0.16260162601626016,\n",
       " 0.16260162601626016,\n",
       " 0.0,\n",
       " 0.13983739837398373,\n",
       " 0.0,\n",
       " 0.0,\n",
       " 0.0,\n",
       " 0.0,\n",
       " 0.0,\n",
       " 0.0,\n",
       " 0.0,\n",
       " 0.0,\n",
       " 0.0,\n",
       " 0.0,\n",
       " 0.216260162601626,\n",
       " 0.0,\n",
       " 0.0,\n",
       " 0.16747967479674797,\n",
       " 0.17560975609756097,\n",
       " 0.17560975609756097,\n",
       " 0.0,\n",
       " 0.16260162601626016,\n",
       " 0.16260162601626016,\n",
       " 0.16260162601626016,\n",
       " 0.16260162601626016,\n",
       " 0.16260162601626016,\n",
       " 0.16260162601626016,\n",
       " 0.16260162601626016,\n",
       " 0.16260162601626016,\n",
       " 0.16260162601626016,\n",
       " 0.16260162601626016,\n",
       " 0.2016260162601626,\n",
       " 0.2016260162601626,\n",
       " 0.2016260162601626,\n",
       " 0.2016260162601626,\n",
       " 0.2016260162601626,\n",
       " 0.2016260162601626,\n",
       " 0.17560975609756097,\n",
       " 0.0,\n",
       " 0.0,\n",
       " 0.0,\n",
       " 0.16260162601626016,\n",
       " 0.0,\n",
       " 0.0,\n",
       " 0.0,\n",
       " 0.0,\n",
       " 0.0,\n",
       " 0.0,\n",
       " 0.0,\n",
       " 0.0,\n",
       " 0.0,\n",
       " 0.0,\n",
       " 0.0,\n",
       " 0.0,\n",
       " 0.0,\n",
       " 0.0,\n",
       " 0.0,\n",
       " 0.0,\n",
       " 0.0,\n",
       " 0.216260162601626,\n",
       " 0.17560975609756097,\n",
       " 0.0,\n",
       " 0.1024390243902439,\n",
       " 0.0,\n",
       " 0.0,\n",
       " 0.17560975609756097,\n",
       " 0.0,\n",
       " 0.0,\n",
       " 0.0,\n",
       " 0.0,\n",
       " 0.16260162601626016,\n",
       " 0.0,\n",
       " 0.0,\n",
       " 0.0,\n",
       " 0.0,\n",
       " 0.21138211382113822,\n",
       " 0.216260162601626,\n",
       " 0.0,\n",
       " 0.21138211382113822,\n",
       " 0.0,\n",
       " 0.0,\n",
       " 0.0,\n",
       " 0.09268292682926829,\n",
       " 0.0,\n",
       " 0.0,\n",
       " 0.0,\n",
       " 0.0,\n",
       " 0.0,\n",
       " 0.0,\n",
       " 0.0,\n",
       " 0.2048780487804878,\n",
       " 0.0,\n",
       " 0.0,\n",
       " 0.17560975609756097,\n",
       " 0.0,\n",
       " 0.0,\n",
       " 0.0,\n",
       " 0.09268292682926829,\n",
       " 0.16910569105691056,\n",
       " 0.15447154471544716,\n",
       " 0.0,\n",
       " 0.16260162601626016,\n",
       " 0.0,\n",
       " 0.0,\n",
       " 0.0,\n",
       " 0.0,\n",
       " 0.2016260162601626,\n",
       " 0.0,\n",
       " 0.0,\n",
       " 0.0,\n",
       " 0.0,\n",
       " 0.216260162601626,\n",
       " 0.17560975609756097,\n",
       " 0.0,\n",
       " 0.0,\n",
       " 0.0,\n",
       " 0.0,\n",
       " 0.0,\n",
       " 0.0,\n",
       " 0.0,\n",
       " 0.2016260162601626,\n",
       " 0.0,\n",
       " 0.11707317073170732,\n",
       " 0.17560975609756097,\n",
       " 0.216260162601626,\n",
       " 0.1821138211382114,\n",
       " 0.0,\n",
       " 0.0,\n",
       " 0.0,\n",
       " 0.0,\n",
       " 0.0,\n",
       " 0.0,\n",
       " 0.0,\n",
       " 0.0,\n",
       " 0.0,\n",
       " 0.0,\n",
       " 0.0,\n",
       " 0.0,\n",
       " 0.0,\n",
       " 0.0,\n",
       " 0.2016260162601626,\n",
       " 0.2016260162601626,\n",
       " 0.2016260162601626,\n",
       " 0.2016260162601626,\n",
       " 0.2016260162601626,\n",
       " 0.2016260162601626,\n",
       " 0.0,\n",
       " 0.0,\n",
       " 0.0,\n",
       " 0.16260162601626016,\n",
       " 0.16260162601626016,\n",
       " 0.0,\n",
       " 0.0,\n",
       " 0.0,\n",
       " 0.0,\n",
       " 0.0,\n",
       " 0.0,\n",
       " 0.0,\n",
       " 0.0,\n",
       " 0.0,\n",
       " 0.0,\n",
       " 0.13983739837398373,\n",
       " 0.0,\n",
       " 0.0,\n",
       " 0.0,\n",
       " 0.0,\n",
       " 0.0,\n",
       " 0.16260162601626016,\n",
       " 0.0,\n",
       " 0.14308943089430895,\n",
       " 0.0,\n",
       " 0.0,\n",
       " 0.0,\n",
       " 0.0,\n",
       " 0.0,\n",
       " 0.11707317073170732,\n",
       " 0.0,\n",
       " 0.0,\n",
       " 0.0,\n",
       " 0.0,\n",
       " 0.11707317073170732,\n",
       " 0.11707317073170732,\n",
       " 0.0,\n",
       " 0.0,\n",
       " 0.13983739837398373,\n",
       " 0.0,\n",
       " 0.0,\n",
       " 0.0,\n",
       " 0.0,\n",
       " 0.0,\n",
       " 0.0,\n",
       " 0.0,\n",
       " 0.16260162601626016,\n",
       " 0.0,\n",
       " 0.0,\n",
       " 0.1821138211382114,\n",
       " 0.1821138211382114,\n",
       " 0.0,\n",
       " 0.0,\n",
       " 0.0,\n",
       " 0.0,\n",
       " 0.216260162601626,\n",
       " 0.17560975609756097,\n",
       " 0.0,\n",
       " 0.0,\n",
       " 0.0,\n",
       " 0.0,\n",
       " 0.0,\n",
       " 0.0,\n",
       " 0.0,\n",
       " 0.17560975609756097,\n",
       " 0.17560975609756097,\n",
       " 0.1024390243902439,\n",
       " 0.1024390243902439,\n",
       " 0.1024390243902439,\n",
       " 0.1024390243902439,\n",
       " 0.1024390243902439,\n",
       " 0.1024390243902439,\n",
       " 0.1024390243902439,\n",
       " 0.1024390243902439,\n",
       " 0.1024390243902439,\n",
       " 0.0,\n",
       " 0.2016260162601626,\n",
       " 0.2016260162601626,\n",
       " 0.2048780487804878,\n",
       " 0.0,\n",
       " 0.0,\n",
       " 0.14959349593495935,\n",
       " 0.0,\n",
       " 0.0,\n",
       " 0.216260162601626,\n",
       " 0.16260162601626016,\n",
       " 0.16747967479674797,\n",
       " 0.0,\n",
       " 0.17560975609756097,\n",
       " 0.0,\n",
       " 0.0,\n",
       " 0.17560975609756097,\n",
       " 0.17560975609756097,\n",
       " 0.0,\n",
       " 0.0,\n",
       " 0.16260162601626016,\n",
       " 0.216260162601626,\n",
       " 0.0,\n",
       " 0.16747967479674797,\n",
       " 0.0,\n",
       " 0.0,\n",
       " 0.0,\n",
       " 0.0,\n",
       " 0.0,\n",
       " 0.0,\n",
       " 0.17560975609756097,\n",
       " 0.0,\n",
       " 0.0,\n",
       " 0.0,\n",
       " 0.11707317073170732,\n",
       " 0.0,\n",
       " 0.183739837398374,\n",
       " 0.0,\n",
       " 0.0,\n",
       " 0.17560975609756097,\n",
       " 0.0,\n",
       " 0.17560975609756097,\n",
       " 0.0,\n",
       " 0.0,\n",
       " 0.17560975609756097,\n",
       " 0.17560975609756097,\n",
       " 0.0,\n",
       " 0.0,\n",
       " 0.0,\n",
       " 0.0,\n",
       " 0.0,\n",
       " 0.0,\n",
       " 0.0,\n",
       " 0.0,\n",
       " 0.0,\n",
       " 0.0,\n",
       " 0.0,\n",
       " 0.0,\n",
       " 0.0,\n",
       " 0.0,\n",
       " 0.0,\n",
       " 0.0,\n",
       " 0.2016260162601626,\n",
       " 0.0,\n",
       " 0.0,\n",
       " 0.0,\n",
       " 0.0,\n",
       " 0.0,\n",
       " 0.0,\n",
       " 0.0,\n",
       " 0.0,\n",
       " 0.0,\n",
       " 0.0,\n",
       " 0.0,\n",
       " 0.1024390243902439,\n",
       " 0.0,\n",
       " 0.17560975609756097,\n",
       " 0.0,\n",
       " 0.16260162601626016,\n",
       " 0.2048780487804878,\n",
       " 0.17560975609756097,\n",
       " 0.17560975609756097,\n",
       " 0.17560975609756097,\n",
       " 0.0,\n",
       " 0.0,\n",
       " 0.0,\n",
       " 0.0,\n",
       " 0.0,\n",
       " 0.0,\n",
       " 0.0,\n",
       " 0.18048780487804877,\n",
       " 0.0,\n",
       " 0.18048780487804877,\n",
       " 0.18048780487804877,\n",
       " 0.0959349593495935,\n",
       " 0.0,\n",
       " 0.0,\n",
       " 0.0,\n",
       " 0.0,\n",
       " 0.0,\n",
       " 0.0,\n",
       " 0.0,\n",
       " 0.0,\n",
       " 0.0,\n",
       " 0.0,\n",
       " 0.0,\n",
       " 0.0,\n",
       " 0.0,\n",
       " 0.0,\n",
       " 0.0,\n",
       " 0.0,\n",
       " 0.16260162601626016,\n",
       " 0.2048780487804878,\n",
       " 0.0,\n",
       " 0.0,\n",
       " 0.0,\n",
       " 0.09268292682926829,\n",
       " 0.15609756097560976,\n",
       " 0.17560975609756097,\n",
       " 0.0,\n",
       " 0.0,\n",
       " 0.0,\n",
       " 0.0,\n",
       " 0.0,\n",
       " 0.0,\n",
       " 0.0,\n",
       " 0.0,\n",
       " 0.2048780487804878,\n",
       " 0.0,\n",
       " 0.0,\n",
       " 0.0,\n",
       " 0.216260162601626,\n",
       " 0.0,\n",
       " 0.0,\n",
       " 0.2016260162601626,\n",
       " 0.2016260162601626,\n",
       " 0.0,\n",
       " 0.2016260162601626,\n",
       " 0.2016260162601626,\n",
       " 0.2016260162601626,\n",
       " 0.2016260162601626,\n",
       " 0.2016260162601626,\n",
       " 0.2016260162601626,\n",
       " 0.2016260162601626,\n",
       " 0.2016260162601626,\n",
       " 0.2016260162601626,\n",
       " 0.2016260162601626,\n",
       " 0.2016260162601626,\n",
       " 0.2016260162601626,\n",
       " 0.2016260162601626,\n",
       " 0.0,\n",
       " 0.0,\n",
       " 0.2016260162601626,\n",
       " 0.2016260162601626,\n",
       " 0.2016260162601626,\n",
       " 0.2016260162601626,\n",
       " 0.0,\n",
       " 0.0,\n",
       " 0.2016260162601626,\n",
       " 0.2016260162601626,\n",
       " 0.2016260162601626,\n",
       " 0.2016260162601626,\n",
       " 0.2016260162601626,\n",
       " 0.2016260162601626,\n",
       " 0.2016260162601626,\n",
       " 0.2016260162601626,\n",
       " 0.2016260162601626,\n",
       " 0.2016260162601626,\n",
       " 0.2016260162601626,\n",
       " 0.2016260162601626,\n",
       " 0.2016260162601626,\n",
       " 0.2016260162601626,\n",
       " 0.0,\n",
       " 0.2016260162601626,\n",
       " 0.2016260162601626,\n",
       " 0.2016260162601626,\n",
       " 0.2016260162601626,\n",
       " 0.2016260162601626,\n",
       " 0.0,\n",
       " 0.2016260162601626,\n",
       " 0.0,\n",
       " 0.2016260162601626,\n",
       " 0.0,\n",
       " 0.0,\n",
       " 0.0,\n",
       " 0.0,\n",
       " 0.0,\n",
       " 0.0,\n",
       " 0.0,\n",
       " 0.0,\n",
       " 0.0,\n",
       " 0.0,\n",
       " 0.0,\n",
       " 0.0,\n",
       " 0.13983739837398373,\n",
       " 0.0,\n",
       " 0.0,\n",
       " 0.0,\n",
       " 0.0,\n",
       " 0.0,\n",
       " 0.0,\n",
       " 0.0,\n",
       " 0.0,\n",
       " 0.0,\n",
       " 0.0,\n",
       " 0.0,\n",
       " 0.0,\n",
       " 0.0,\n",
       " 0.0,\n",
       " 0.0,\n",
       " 0.0,\n",
       " 0.0,\n",
       " 0.0,\n",
       " 0.0,\n",
       " 0.0,\n",
       " 0.0,\n",
       " 0.09268292682926829,\n",
       " 0.15934959349593497,\n",
       " 0.15934959349593497,\n",
       " 0.0,\n",
       " 0.0,\n",
       " 0.0,\n",
       " 0.18048780487804877,\n",
       " 0.0,\n",
       " 0.0,\n",
       " 0.2016260162601626,\n",
       " 0.0,\n",
       " 0.0,\n",
       " 0.0,\n",
       " 0.17560975609756097,\n",
       " 0.17560975609756097,\n",
       " 0.1024390243902439,\n",
       " 0.0,\n",
       " 0.17560975609756097,\n",
       " 0.0,\n",
       " 0.0,\n",
       " 0.17560975609756097,\n",
       " 0.1821138211382114,\n",
       " 0.0,\n",
       " 0.0,\n",
       " 0.0,\n",
       " 0.16260162601626016,\n",
       " 0.0,\n",
       " 0.0,\n",
       " 0.0,\n",
       " 0.0,\n",
       " 0.0,\n",
       " 0.0,\n",
       " 0.0,\n",
       " 0.0,\n",
       " 0.0,\n",
       " 0.0,\n",
       " 0.0959349593495935,\n",
       " 0.0,\n",
       " 0.0,\n",
       " 0.0,\n",
       " 0.0,\n",
       " 0.0,\n",
       " 0.0,\n",
       " 0.0,\n",
       " 0.0,\n",
       " 0.0,\n",
       " 0.0,\n",
       " 0.0,\n",
       " 0.0,\n",
       " 0.0,\n",
       " 0.1024390243902439,\n",
       " 0.1024390243902439,\n",
       " 0.1024390243902439,\n",
       " 0.1024390243902439,\n",
       " 0.1024390243902439,\n",
       " 0.1024390243902439,\n",
       " 0.1024390243902439,\n",
       " 0.1024390243902439,\n",
       " 0.1024390243902439,\n",
       " 0.1024390243902439,\n",
       " 0.1024390243902439,\n",
       " 0.1024390243902439,\n",
       " 0.1024390243902439,\n",
       " 0.14959349593495935,\n",
       " 0.1024390243902439,\n",
       " 0.1024390243902439,\n",
       " 0.1024390243902439,\n",
       " 0.1024390243902439,\n",
       " 0.18048780487804877,\n",
       " 0.18048780487804877,\n",
       " 0.18048780487804877,\n",
       " 0.0,\n",
       " 0.0,\n",
       " 0.0,\n",
       " 0.0,\n",
       " 0.0,\n",
       " 0.0,\n",
       " 0.0,\n",
       " 0.0,\n",
       " 0.0,\n",
       " 0.0,\n",
       " 0.0,\n",
       " 0.0,\n",
       " 0.0,\n",
       " 0.0,\n",
       " 0.0,\n",
       " 0.0,\n",
       " 0.0,\n",
       " 0.0,\n",
       " 0.17073170731707318,\n",
       " 0.0,\n",
       " 0.0,\n",
       " 0.0,\n",
       " 0.17073170731707318,\n",
       " 0.0,\n",
       " 0.0,\n",
       " 0.0,\n",
       " 0.0,\n",
       " 0.0,\n",
       " 0.0,\n",
       " 0.0,\n",
       " 0.0,\n",
       " 0.0,\n",
       " 0.0,\n",
       " 0.0,\n",
       " 0.0,\n",
       " 0.0,\n",
       " 0.0,\n",
       " 0.0,\n",
       " 0.16747967479674797,\n",
       " 0.16747967479674797,\n",
       " 0.17560975609756097,\n",
       " 0.1772357723577236,\n",
       " 0.0,\n",
       " 0.17560975609756097,\n",
       " 0.17560975609756097,\n",
       " 0.0,\n",
       " 0.17560975609756097,\n",
       " 0.0,\n",
       " 0.0,\n",
       " 0.0,\n",
       " 0.0,\n",
       " 0.0,\n",
       " 0.0,\n",
       " 0.0,\n",
       " 0.0,\n",
       " 0.0,\n",
       " 0.0,\n",
       " 0.0,\n",
       " 0.0,\n",
       " 0.0,\n",
       " 0.16260162601626016,\n",
       " 0.16260162601626016,\n",
       " 0.16260162601626016,\n",
       " 0.16260162601626016,\n",
       " 0.16260162601626016,\n",
       " 0.0,\n",
       " 0.16260162601626016,\n",
       " 0.16260162601626016,\n",
       " 0.15121951219512195,\n",
       " 0.2016260162601626,\n",
       " 0.0,\n",
       " 0.2016260162601626,\n",
       " 0.16747967479674797,\n",
       " 0.0,\n",
       " 0.0,\n",
       " 0.0959349593495935,\n",
       " 0.0959349593495935,\n",
       " 0.0959349593495935,\n",
       " 0.0959349593495935,\n",
       " ...]"
      ]
     },
     "execution_count": 66,
     "metadata": {},
     "output_type": "execute_result"
    }
   ],
   "source": [
    "reassortant_phyloD"
   ]
  },
  {
   "cell_type": "code",
   "execution_count": 67,
   "metadata": {
    "collapsed": false
   },
   "outputs": [
    {
     "data": {
      "text/plain": [
       "(10,)"
      ]
     },
     "execution_count": 67,
     "metadata": {},
     "output_type": "execute_result"
    }
   ],
   "source": [
    "len(reassortant_phyloD)\n",
    "\n",
    "import numpy as np\n",
    "\n",
    "bins = np.arange(0,0.51,0.05)\n",
    "\n",
    "reassortant_binned = np.histogram(reassortant_phyloD, bins=bins)[0].astype(float)\n",
    "full_complement_binned = np.histogram(full_complement_phyloD, bins=bins)[0].astype(float)\n",
    "\n",
    "full_complement_binned.shape"
   ]
  },
  {
   "cell_type": "code",
   "execution_count": 68,
   "metadata": {
    "collapsed": false
   },
   "outputs": [
    {
     "data": {
      "text/plain": [
       "array([ 3006.,    89.,   162.,   585.,   667.,     0.,     0.,     0.,\n",
       "           0.,     0.])"
      ]
     },
     "execution_count": 68,
     "metadata": {},
     "output_type": "execute_result"
    }
   ],
   "source": [
    "reassortant_binned"
   ]
  },
  {
   "cell_type": "code",
   "execution_count": 94,
   "metadata": {
    "collapsed": false
   },
   "outputs": [
    {
     "data": {
      "text/plain": [
       "(10,)"
      ]
     },
     "execution_count": 94,
     "metadata": {},
     "output_type": "execute_result"
    }
   ],
   "source": [
    "xpoints = np.arange(0,0.50,0.05)\n",
    "xpoints.shape"
   ]
  },
  {
   "cell_type": "code",
   "execution_count": 95,
   "metadata": {
    "collapsed": false
   },
   "outputs": [
    {
     "data": {
      "text/plain": [
       "array([ 0.16900933,  0.65925926,  0.53114754,  0.58971774,  0.51745539,\n",
       "        0.        ,         nan,         nan,         nan,         nan])"
      ]
     },
     "execution_count": 95,
     "metadata": {},
     "output_type": "execute_result"
    }
   ],
   "source": [
    "proportion_reassortant = reassortant_binned / (full_complement_binned + reassortant_binned)\n",
    "proportion_reassortant"
   ]
  },
  {
   "cell_type": "code",
   "execution_count": 107,
   "metadata": {
    "collapsed": false
   },
   "outputs": [
    {
     "data": {
      "image/png": "[encoded data removed]",
      "text/plain": [
       "<matplotlib.figure.Figure at 0x1168b6990>"
      ]
     },
     "metadata": {},
     "output_type": "display_data"
    }
   ],
   "source": [
    "fig = plt.figure(figsize=(3,2))\n",
    "\n",
    "ax1 = fig.add_subplot(111)\n",
    "ax1.plot(xpoints[0:5], full_complement_binned[0:5], color='green', label='Whole Genome')\n",
    "ax1.plot(xpoints[0:5], reassortant_binned[0:5], color='blue', label='Reassortant')\n",
    "ax1.set_ylabel('Counts (x1000)')\n",
    "ax1.set_xlabel('Host Dissimilarity')\n",
    "ax1.set_xticks(xpoints - 0.025)\n",
    "ax1.set_xticklabels(xpoints, rotation=0, ha='right')\n",
    "ax1.set_xlim(-0.025, 0.25)\n",
    "ax1.set_yticklabels(np.arange(0, 17, 2))\n",
    "ax1.legend()\n",
    "plt.subplots_adjust(left=0.13, bottom=0.18, right=0.95, top=0.95)\n",
    "plt.savefig('PhyloD Edges Per Bin.pdf')"
   ]
  },
  {
   "cell_type": "code",
   "execution_count": 72,
   "metadata": {
    "collapsed": false
   },
   "outputs": [],
   "source": [
    "# # Chi-squared test. Groups are:\n",
    "# #                  | 18S same | 18S diff|\n",
    "# # ---------------------------------------\n",
    "# # reassortant      |    1     |    2    |\n",
    "# # ---------------------------------------\n",
    "# # non-reassortant  |    3     |    4    |\n",
    "\n",
    "# from scipy.stats import chi2_contingency\n",
    "\n",
    "# data = np.zeros((2,2))\n",
    "# data[0,0] = Counter(reassortant_phyloD)[0]\n",
    "# data[0,1] = sum([v for k, v in Counter(reassortant_phyloD).items() if k != 0])\n",
    "# data[1,0] = Counter(full_complement_phyloD)[0]\n",
    "# data[1,1] = sum([v for k, v in Counter(full_complement_phyloD).items() if k != 0])\n",
    "# from scipy.stats import chi2_contingency\n",
    "# chi2_contingency(data) \n"
   ]
  },
  {
   "cell_type": "code",
   "execution_count": 73,
   "metadata": {
    "collapsed": false
   },
   "outputs": [],
   "source": [
    "# len(full_complement_phyloD)"
   ]
  },
  {
   "cell_type": "code",
   "execution_count": 74,
   "metadata": {
    "collapsed": false
   },
   "outputs": [],
   "source": [
    "# from scipy.stats import ks_2samp\n",
    "\n",
    "# ks_2samp(sorted(reassortant_phyloD), full_complement_phyloD)\n",
    "# ks_2samp(sorted(full_complement_phyloD), reassortant_phyloD)"
   ]
  },
  {
   "cell_type": "code",
   "execution_count": 75,
   "metadata": {
    "collapsed": false
   },
   "outputs": [],
   "source": [
    "# # Define the \"proportion non-identical\" over all reassortant and full_complement edges. \n",
    "\n",
    "# def proportion_nonidentical(list_of_phyloD_values):\n",
    "#     return 1 - float(Counter(list_of_phyloD_values)[0.0]) / sum(Counter(list_of_phyloD_values).values())\n",
    "# proportion_nonidentical(reassortant_phyloD)"
   ]
  },
  {
   "cell_type": "code",
   "execution_count": 76,
   "metadata": {
    "collapsed": false
   },
   "outputs": [],
   "source": [
    "# proportion_nonidentical(full_complement_phyloD)"
   ]
  },
  {
   "cell_type": "code",
   "execution_count": 77,
   "metadata": {
    "collapsed": false
   },
   "outputs": [],
   "source": [
    "# ratio = proportion_nonidentical(reassortant_phyloD)/proportion_nonidentical(full_complement_phyloD)\n",
    "# # pd.DataFrame([ratio]).to_csv('ratio_identical_nonidentical.csv')"
   ]
  },
  {
   "cell_type": "markdown",
   "metadata": {},
   "source": [
    "30 April 2015\n",
    "\n",
    "Reassortment is more highly represented when there is a phylogenetic difference between the host species than when there isn't.\n",
    "\n",
    "Phylogenetic difference is defined by the 18S rRNA. \n",
    "\n",
    "What if we used cytochrome C oxidase?"
   ]
  },
  {
   "cell_type": "code",
   "execution_count": 78,
   "metadata": {
    "collapsed": false
   },
   "outputs": [
    {
     "data": {
      "text/plain": [
       "(11,)"
      ]
     },
     "execution_count": 78,
     "metadata": {},
     "output_type": "execute_result"
    }
   ],
   "source": [
    "np.shape(bins)"
   ]
  },
  {
   "cell_type": "code",
   "execution_count": 79,
   "metadata": {
    "collapsed": false
   },
   "outputs": [],
   "source": [
    "def permute_18s(G):\n",
    "    \"\"\"\n",
    "    Be sure to pass in a copy of G, and not the original!\n",
    "    Takes in a graph G, shuffles the labels, and returns G with shuffled labels.\n",
    "    \"\"\"\n",
    "    from random import shuffle\n",
    "    rrna_labels = [d['18s_rRNA_sequence'] for n, d in G.nodes(data=True)]\n",
    "    shuffle(rrna_labels)\n",
    "    \n",
    "    for i, n in enumerate(G.nodes()):\n",
    "        G.node[n]['18s_rRNA_sequence'] = rrna_labels[i]\n",
    "        \n",
    "    return G\n",
    "\n",
    "shuffledG = G.copy()\n",
    "\n",
    "expected_reassort = []\n",
    "\n",
    "from time import time\n",
    "\n",
    "data = np.zeros(shape=(100, 10))"
   ]
  },
  {
   "cell_type": "code",
   "execution_count": 80,
   "metadata": {
    "collapsed": false,
    "scrolled": true
   },
   "outputs": [
    {
     "name": "stdout",
     "output_type": "stream",
     "text": [
      "Round 0, time: 13.2903928757 s\n",
      "Round 1, time: 12.7625517845 s\n",
      "Round 2, time: 12.2676510811 s\n",
      "Round 3, time: 13.0683209896 s\n",
      "Round 4, time: 13.1097400188 s\n",
      "Round 5, time: 15.6066989899 s\n",
      "Round 6, time: 13.0478880405 s\n",
      "Round 7, time: 12.5526161194 s\n",
      "Round 8, time: 14.6448049545 s\n",
      "Round 9, time: 16.3178460598 s\n",
      "Round 10, time: 15.452340126 s\n",
      "Round 11, time: 13.1368751526 s\n",
      "Round 12, time: 15.52760005 s\n",
      "Round 13, time: 13.7950949669 s\n",
      "Round 14, time: 14.5813291073 s\n",
      "Round 15, time: 13.9751191139 s\n",
      "Round 16, time: 14.9257848263 s\n",
      "Round 17, time: 14.5043787956 s\n",
      "Round 18, time: 14.0716528893 s\n",
      "Round 19, time: 13.3281598091 s\n",
      "Round 20, time: 13.491453886 s\n",
      "Round 21, time: 13.4614150524 s\n",
      "Round 22, time: 15.3799347878 s\n",
      "Round 23, time: 13.138094902 s\n",
      "Round 24, time: 11.1203300953 s\n",
      "Round 25, time: 11.2392368317 s\n",
      "Round 26, time: 11.3123440742 s\n",
      "Round 27, time: 10.6517779827 s\n",
      "Round 28, time: 10.9149119854 s\n",
      "Round 29, time: 10.7620289326 s\n",
      "Round 30, time: 10.553360939 s\n",
      "Round 31, time: 10.5166969299 s\n",
      "Round 32, time: 10.5274040699 s\n",
      "Round 33, time: 10.7296729088 s\n",
      "Round 34, time: 10.8135681152 s\n",
      "Round 35, time: 11.0556499958 s\n",
      "Round 36, time: 10.4777719975 s\n",
      "Round 37, time: 10.3884580135 s\n",
      "Round 38, time: 10.5620131493 s\n",
      "Round 39, time: 10.3923170567 s\n",
      "Round 40, time: 10.7152280807 s\n",
      "Round 41, time: 10.6561338902 s\n",
      "Round 42, time: 11.0087008476 s\n",
      "Round 43, time: 10.7639141083 s\n",
      "Round 44, time: 10.9886829853 s\n",
      "Round 45, time: 10.7495250702 s\n",
      "Round 46, time: 10.5404849052 s\n",
      "Round 47, time: 10.9448108673 s\n",
      "Round 48, time: 10.3679029942 s\n",
      "Round 49, time: 10.7164011002 s\n",
      "Round 50, time: 10.643871069 s\n",
      "Round 51, time: 10.9092850685 s\n",
      "Round 52, time: 10.6629931927 s\n",
      "Round 53, time: 10.7344589233 s\n",
      "Round 54, time: 10.3401620388 s\n",
      "Round 55, time: 10.7424759865 s\n",
      "Round 56, time: 10.7946529388 s\n",
      "Round 57, time: 10.3913741112 s\n",
      "Round 58, time: 10.6392769814 s\n",
      "Round 59, time: 10.3018238544 s\n",
      "Round 60, time: 10.6284348965 s\n",
      "Round 61, time: 10.7027311325 s\n",
      "Round 62, time: 10.5973689556 s\n",
      "Round 63, time: 10.3869199753 s\n",
      "Round 64, time: 10.7126569748 s\n",
      "Round 65, time: 10.6908171177 s\n",
      "Round 66, time: 10.746338129 s\n",
      "Round 67, time: 10.7424850464 s\n",
      "Round 68, time: 10.3455319405 s\n",
      "Round 69, time: 10.7078869343 s\n",
      "Round 70, time: 10.4824841022 s\n",
      "Round 71, time: 10.7707791328 s\n",
      "Round 72, time: 10.7460539341 s\n",
      "Round 73, time: 10.9178700447 s\n",
      "Round 74, time: 10.3287761211 s\n",
      "Round 75, time: 10.5826358795 s\n",
      "Round 76, time: 10.3896811008 s\n",
      "Round 77, time: 10.7860429287 s\n",
      "Round 78, time: 10.6771960258 s\n",
      "Round 79, time: 10.6306650639 s\n",
      "Round 80, time: 10.7812378407 s\n",
      "Round 81, time: 10.2605311871 s\n",
      "Round 82, time: 10.5205390453 s\n",
      "Round 83, time: 10.530274868 s\n",
      "Round 84, time: 10.8036060333 s\n",
      "Round 85, time: 10.4661951065 s\n",
      "Round 86, time: 10.6122210026 s\n",
      "Round 87, time: 70.6276979446 s\n",
      "Round 88, time: 12.5539319515 s\n",
      "Round 89, time: 12.6829879284 s\n",
      "Round 90, time: 12.5440001488 s\n",
      "Round 91, time: 14.0203418732 s\n",
      "Round 92, time: 13.1976339817 s\n",
      "Round 93, time: 11.7224090099 s\n",
      "Round 94, time: 12.1681890488 s\n",
      "Round 95, time: 11.6826579571 s\n",
      "Round 96, time: 11.5887029171 s\n",
      "Round 97, time: 11.6278738976 s\n",
      "Round 98, time: 11.7670428753 s\n",
      "Round 99, time: 12.0157690048 s\n"
     ]
    }
   ],
   "source": [
    "for i in range(100): # changed to 100 in script format.\n",
    "    start_time = time()\n",
    "    shuffledG = permute_18s(shuffledG)\n",
    "    reassortant_shuffled_phyloD, full_complement_shuffled_phyloD = count_delta_phyloD(shuffledG)\n",
    "    \n",
    "    reassortant_shuffled_binned = np.histogram(reassortant_shuffled_phyloD, bins=bins)[0].astype(float)\n",
    "    full_complement_shuffled_binned = np.histogram(full_complement_shuffled_phyloD, bins=bins)[0].astype(float)\n",
    "    \n",
    "    expected_proportion_reassortant = reassortant_shuffled_binned / (full_complement_shuffled_binned + reassortant_shuffled_binned)\n",
    "    \n",
    "    end_time = time()\n",
    "    \n",
    "    data[i] = expected_proportion_reassortant\n",
    "    \n",
    "    print('Round {0}, time: {1} s'.format(i, end_time - start_time))"
   ]
  },
  {
   "cell_type": "code",
   "execution_count": 81,
   "metadata": {
    "collapsed": false
   },
   "outputs": [
    {
     "name": "stderr",
     "output_type": "stream",
     "text": [
      "/Users/ericmjl/anaconda/envs/py27/lib/python2.7/site-packages/matplotlib/axes/_axes.py:476: UserWarning: No labelled objects found. Use label='...' kwarg on individual plots.\n",
      "  warnings.warn(\"No labelled objects found. \"\n"
     ]
    },
    {
     "data": {
      "image/png": "[encoded data removed]",
      "text/plain": [
       "<matplotlib.figure.Figure at 0x11684d510>"
      ]
     },
     "metadata": {},
     "output_type": "display_data"
    }
   ],
   "source": [
    "# pd.DataFrame(data).fillna(0).to_csv('phylod_expected_reassortant_fraction.csv')\n",
    "\n",
    "# Read in the data from running the above cells on Rous.\n",
    "expected_shuffled = pd.read_csv('phylod_expected_reassortant_fraction.csv', index_col=0)\n",
    "expected_shuffled = expected_shuffled[['0', '1', '2', '3', '4']]\n",
    "fig = plt.figure(figsize=(3,2))\n",
    "ax = fig.add_subplot(111)\n",
    "\n",
    "bp = ax.boxplot(expected_shuffled.values, showfliers=False)\n",
    "plt.setp(bp['boxes'], color='red')\n",
    "plt.setp(bp['whiskers'], color='red')\n",
    "plt.setp(bp['fliers'], color='red')\n",
    "plt.setp(bp['caps'], color='red')\n",
    "plt.setp(bp['medians'], color='red')\n",
    "\n",
    "xpoints = np.arange(1, 11, 1)\n",
    "ax.scatter(xpoints[0:5], proportion_reassortant[0:5], color='blue')\n",
    "ax.plot(xpoints[0:5], proportion_reassortant[0:5], color='blue')\n",
    "ax.set_ylabel('Proportion Reassortant')\n",
    "ax.set_ylim(0, 1)\n",
    "ax.set_xlabel('Host Dissimilarity')\n",
    "ax.set_xlim(0.5,5)\n",
    "ax.set_xticks(np.arange(0,6,1)+0.5)\n",
    "ax.set_xticklabels(np.arange(0,0.3,0.05))\n",
    "\n",
    "lines, labels = ax.get_legend_handles_labels()\n",
    "# lines2, labels2 = ax2.get_legend_handles_labels()\n",
    "ax.legend() \n",
    "ax.annotate('a.', xy=(0,1), xycoords='figure fraction', ha='left', va='top')\n",
    "\n",
    "plt.subplots_adjust(left=0.15, bottom=0.18, right=0.95, top=0.95)\n",
    "plt.savefig('Phylogenetic Susceptibility and Reassortment.pdf')"
   ]
  },
  {
   "cell_type": "code",
   "execution_count": 82,
   "metadata": {
    "collapsed": false
   },
   "outputs": [],
   "source": [
    "# # Plot proportion non-identical vs. identical ratio\n",
    "# import numpy as np\n",
    "# simulated = pd.read_csv('ratio_identical_nonidentical_expected.csv', index_col=0)\n",
    "# actual = pd.read_csv('ratio_identical_nonidentical.csv', index_col=0)\n",
    "\n",
    "# mean = simulated.mean().values\n",
    "# ci99 = simulated.std() * 3\n",
    "# ci99 = ci99.values\n",
    "\n",
    "# barwidth = 0.3\n",
    "\n",
    "# fig = plt.figure(figsize=(1, 1.5))\n",
    "# ax = fig.add_subplot(111)\n",
    "# ax.bar(1, mean, width=barwidth, yerr=ci99, color='blue', alpha=0.5, label='Shuffled')\n",
    "# ax.bar(1-barwidth, actual.values, width=barwidth, color='blue', label='Data')\n",
    "# ax.set_ylabel('Fold Representation')\n",
    "# ax.set_xticks([])\n",
    "# ax.set_yticks(np.arange(0,5,1))\n",
    "# ax.annotate('b.', xy=(0,1), xycoords='figure fraction', ha='left', va='top')\n",
    "# plt.subplots_adjust(left=0.3, bottom=0.05)\n",
    "# plt.savefig('PhyloD Reassortant Fold Over-Representation.pdf')"
   ]
  },
  {
   "cell_type": "code",
   "execution_count": 83,
   "metadata": {
    "collapsed": false
   },
   "outputs": [],
   "source": [
    "# Plot viral PWD against host PWD\n",
    "viral_pwd_reassortant = []\n",
    "viral_pwd_full = []\n",
    "host_pwd_reassortant = []\n",
    "host_pwd_full = []\n",
    "# edge_reassortant_status = []\n",
    "for sc, sk, d in G.edges(data=True):\n",
    "    sc_18s = G.node[sc]['18s_rRNA_sequence'].seq.ungap('-')\n",
    "    sk_18s = G.node[sk]['18s_rRNA_sequence'].seq.ungap('-')\n",
    "\n",
    "    if len(sc_18s) != 0 and len(sk_18s) != 0:\n",
    "        dist = host_phylogenetic_distance(G, sc, sk)\n",
    "        \n",
    "    #viral_pwd.append(d['pwi'])\n",
    "    #host_pwd.append(dist)\n",
    "    if d['edge_type'] == 'full_complement':\n",
    "        viral_pwd_full.append(d['pwi'])\n",
    "        host_pwd_full.append(dist)\n",
    "    if d['edge_type'] == 'reassortant':\n",
    "        viral_pwd_reassortant.append(d['pwi'])\n",
    "        host_pwd_reassortant.append(dist)"
   ]
  },
  {
   "cell_type": "code",
   "execution_count": 84,
   "metadata": {
    "collapsed": false
   },
   "outputs": [
    {
     "name": "stdout",
     "output_type": "stream",
     "text": [
      "0.226099081401\n",
      "0.0464142040183\n"
     ]
    }
   ],
   "source": [
    "print(8 - np.mean(viral_pwd_reassortant))\n",
    "print(8 - np.mean(viral_pwd_full))"
   ]
  },
  {
   "cell_type": "code",
   "execution_count": 85,
   "metadata": {
    "collapsed": false
   },
   "outputs": [
    {
     "name": "stdout",
     "output_type": "stream",
     "text": [
      "0.0503723822143\n",
      "0.014724307049\n"
     ]
    }
   ],
   "source": [
    "print(np.mean(host_pwd_reassortant))\n",
    "print(np.mean(host_pwd_full))"
   ]
  },
  {
   "cell_type": "code",
   "execution_count": 86,
   "metadata": {
    "collapsed": false
   },
   "outputs": [
    {
     "data": {
      "text/plain": [
       "0.09120581352383299"
      ]
     },
     "execution_count": 86,
     "metadata": {},
     "output_type": "execute_result"
    }
   ],
   "source": [
    "(sum(Counter(host_pwd_full).values()) - Counter(host_pwd_full)[0]) / float(Counter(host_pwd_full)[0])"
   ]
  },
  {
   "cell_type": "code",
   "execution_count": 87,
   "metadata": {
    "collapsed": false
   },
   "outputs": [
    {
     "data": {
      "text/plain": [
       "0.40456382220109344"
      ]
     },
     "execution_count": 87,
     "metadata": {},
     "output_type": "execute_result"
    }
   ],
   "source": [
    "(sum(Counter(host_pwd_reassortant).values()) - Counter(host_pwd_reassortant)[0]) / float(Counter(host_pwd_reassortant)[0])"
   ]
  },
  {
   "cell_type": "code",
   "execution_count": 88,
   "metadata": {
    "collapsed": false
   },
   "outputs": [
    {
     "data": {
      "text/plain": [
       "<matplotlib.legend.Legend at 0x1160e8a50>"
      ]
     },
     "execution_count": 88,
     "metadata": {},
     "output_type": "execute_result"
    },
    {
     "data": {
      "image/png": "[encoded data removed]",
      "text/plain": [
       "<matplotlib.figure.Figure at 0x11b729910>"
      ]
     },
     "metadata": {},
     "output_type": "display_data"
    }
   ],
   "source": [
    "# plt.hist2d\n",
    "from matplotlib.colors import LogNorm \n",
    "\n",
    "fig = plt.figure()#figsize=(3,2))\n",
    "ax = fig.add_subplot(111)\n",
    "ax.scatter(host_pwd_reassortant, 8 - np.array(viral_pwd_reassortant), color='blue', label='Reassortant', alpha=0.1)\n",
    "ax.scatter(host_pwd_full, 8 - np.array(viral_pwd_full), color='green', label='Full Complement', alpha=0.1)\n",
    "ax.legend()"
   ]
  },
  {
   "cell_type": "code",
   "execution_count": 89,
   "metadata": {
    "collapsed": false
   },
   "outputs": [],
   "source": [
    "from scipy.stats import linregress\n",
    "\n",
    "slope_r, intercept_r, r_value_r, p_value_r, std_error_r = linregress(8 - np.array(viral_pwd_reassortant), host_pwd_reassortant)\n",
    "slope_f, intercept_f, r_value_f, p_value_f, std_error_f = linregress(8 - np.array(viral_pwd_full), host_pwd_full)"
   ]
  },
  {
   "cell_type": "code",
   "execution_count": 90,
   "metadata": {
    "collapsed": false
   },
   "outputs": [
    {
     "name": "stdout",
     "output_type": "stream",
     "text": [
      "(0.18744734375693342, 0.067122698996755603)\n",
      "(0.093335328930921724, 0.011255433069242701)\n",
      "(7.068270051519118e-128, 1.5941162795570203e-45)\n",
      "(0.0076014443552428479, 0.0047264521845553414)\n"
     ]
    }
   ],
   "source": [
    "print(slope_r, slope_f)\n",
    "print(r_value_r**2, r_value_f**2)\n",
    "print(p_value_r, p_value_f)\n",
    "print(std_error_r, std_error_f)"
   ]
  },
  {
   "cell_type": "code",
   "execution_count": 91,
   "metadata": {
    "collapsed": false
   },
   "outputs": [
    {
     "data": {
      "text/plain": [
       "(array([  4.20700000e+03,   1.00000000e+00,   1.00000000e+00,\n",
       "          1.00000000e+00,   2.01000000e+02,   3.40000000e+01,\n",
       "          5.60000000e+01,   5.78000000e+02,   1.27000000e+02,\n",
       "          7.03000000e+02]),\n",
       " array([ 0.        ,  0.02227642,  0.04455285,  0.06682927,  0.08910569,\n",
       "         0.11138211,  0.13365854,  0.15593496,  0.17821138,  0.2004878 ,\n",
       "         0.22276423]),\n",
       " <a list of 10 Patch objects>)"
      ]
     },
     "execution_count": 91,
     "metadata": {},
     "output_type": "execute_result"
    },
    {
     "data": {
      "image/png": "[encoded data removed]",
      "text/plain": [
       "<matplotlib.figure.Figure at 0x11cd9e5d0>"
      ]
     },
     "metadata": {},
     "output_type": "display_data"
    }
   ],
   "source": [
    "# plt.scatter([0] * len(host_pwd_full), host_pwd_full, alpha=0.1, color='green')\n",
    "# plt.scatter([1] * len(host_pwd_reassortant), host_pwd_reassortant, alpha=0.1, color='blue')\n",
    "plt.hist(host_pwd_full)\n",
    "plt.hist(host_pwd_reassortant)"
   ]
  },
  {
   "cell_type": "code",
   "execution_count": 92,
   "metadata": {
    "collapsed": false
   },
   "outputs": [
    {
     "ename": "KeyError",
     "evalue": "('Romania', 'Horse')",
     "output_type": "error",
     "traceback": [
      "\u001b[0;31m---------------------------------------------------------------------------\u001b[0m",
      "\u001b[0;31mKeyError\u001b[0m                                  Traceback (most recent call last)",
      "\u001b[0;32m<ipython-input-92-0d5fc3c06591>\u001b[0m in \u001b[0;36m<module>\u001b[0;34m()\u001b[0m\n\u001b[1;32m     25\u001b[0m \u001b[0;34m\u001b[0m\u001b[0m\n\u001b[1;32m     26\u001b[0m \u001b[0;34m\u001b[0m\u001b[0m\n\u001b[0;32m---> 27\u001b[0;31m     \u001b[0mG\u001b[0m\u001b[0;34m.\u001b[0m\u001b[0mnode\u001b[0m\u001b[0;34m[\u001b[0m\u001b[0mn\u001b[0m\u001b[0;34m]\u001b[0m\u001b[0;34m[\u001b[0m\u001b[0;34m'ecotype'\u001b[0m\u001b[0;34m]\u001b[0m \u001b[0;34m=\u001b[0m \u001b[0mecotype_map\u001b[0m\u001b[0;34m[\u001b[0m\u001b[0;34m(\u001b[0m\u001b[0mcountry\u001b[0m\u001b[0;34m,\u001b[0m \u001b[0mspecies\u001b[0m\u001b[0;34m)\u001b[0m\u001b[0;34m]\u001b[0m\u001b[0;34m\u001b[0m\u001b[0m\n\u001b[0m",
      "\u001b[0;31mKeyError\u001b[0m: ('Romania', 'Horse')"
     ]
    }
   ],
   "source": [
    "# Add in ecotype information\n",
    "\n",
    "# Load the data\n",
    "df = pd.read_csv('Country-Species_to_be_Coded_by_Nichola.csv', index_col=0)\n",
    "df['Habitat/setting'] = df['Habitat/setting'].replace('Domestic ', 'Domestic')\n",
    "# Make it into a dicitonary where each entry is (country, species):habitat/setting\n",
    "ecotype_map = dict()\n",
    "\n",
    "for row, data in df.iterrows():\n",
    "    country = data['Country']\n",
    "    species = data['Species']\n",
    "    ecotype = data['Habitat/setting']\n",
    "\n",
    "    ecotype_map[(country, species)] = ecotype\n",
    "\n",
    "# Add the ecotype into each node.\n",
    "for n, d in G.nodes(data=True):\n",
    "    country = d['country']\n",
    "    species = d['host_species']\n",
    "    if '/' in species:\n",
    "        species = species.split('/')[0]\n",
    "    if 'null' in species:\n",
    "        species = 'Unknown'\n",
    "\n",
    "\n",
    "    \n",
    "    G.node[n]['ecotype'] = ecotype_map[(country, species)]"
   ]
  },
  {
   "cell_type": "code",
   "execution_count": null,
   "metadata": {
    "collapsed": false
   },
   "outputs": [],
   "source": [
    "def correct_metadata(G, node):\n",
    "    \"\"\"\n",
    "    Helper function for providing the correct subtype graph metadata.    \n",
    "    \"\"\"\n",
    "    d = G.node[node]\n",
    "    subtype = d['subtype']\n",
    "    ecotype = d['ecotype']\n",
    "    host = d['host_species']\n",
    "    if ecotype == 'Unknown':\n",
    "        ecotype = 'W'\n",
    "    if host == 'Human':\n",
    "        ecotype = 'H'\n",
    "    if ecotype == 'Domestic':\n",
    "        ecotype = 'D'\n",
    "    if ecotype == 'Wild':\n",
    "        ecotype = 'W'\n",
    "    subtype = subtype + '::' + ecotype\n",
    "    \n",
    "    return ecotype, subtype, host\n",
    "    "
   ]
  },
  {
   "cell_type": "code",
   "execution_count": null,
   "metadata": {
    "collapsed": false
   },
   "outputs": [],
   "source": [
    "from collections import Counter, defaultdict\n",
    "transition_hostpd_reassortant = defaultdict(list)\n",
    "transition_hostpd_full = defaultdict(list)\n",
    "# Plot the number of ecotype jumps detected.\n",
    "for sc, sk, d in G.edges(data=True):\n",
    "    sc_ecotype, sc_subtype, sc_host = correct_metadata(G, sc)\n",
    "    sk_ecotype, sk_subtype, sk_host = correct_metadata(G, sk)\n",
    "\n",
    "    sc_18s = G.node[sc]['18s_rRNA_sequence'].seq.ungap('-')\n",
    "    sk_18s = G.node[sk]['18s_rRNA_sequence'].seq.ungap('-')\n",
    "\n",
    "\n",
    "    transition = sc_ecotype + '::' + sk_ecotype\n",
    "    if len(sc_18s) != 0 and len(sk_18s) != 0:\n",
    "        dist = host_phylogenetic_distance(G, sc, sk)\n",
    "        if d['edge_type'] == 'reassortant':\n",
    "            transition_hostpd_reassortant[transition].append(dist)\n",
    "        else:\n",
    "            transition_hostpd_full[transition].append(dist)"
   ]
  },
  {
   "cell_type": "code",
   "execution_count": null,
   "metadata": {
    "collapsed": false
   },
   "outputs": [],
   "source": [
    "transition_hostpd_means = defaultdict(list)\n",
    "for k, v in transition_hostpd.items():\n",
    "    transition_hostpd_means[k] = np.mean(v)\n",
    "\n",
    "fig = plt.figure()\n",
    "ax = fig.add_subplot(111)\n",
    "# ax.bar(np.arange(len(transition_hostpd_means.keys()))-0.5, transition_hostpd_means.values())\n",
    "# ax.set_xticks(np.arange(len(transition_hostpd_means.keys())))\n",
    "# ax.set_xticklabels(transition_hostpd_means.keys())\n",
    "dataset = sorted(transition_hostpd_reassortant.items(), key=lambda x:x[0])\n",
    "compiled = []\n",
    "for i, (transition, hostpds) in enumerate(dataset):\n",
    "    #np.array(hostpds)\n",
    "    compiled.append(np.array(hostpds))\n",
    "    print(len(np.array(hostpds)))\n",
    "    ax.scatter([i] * len(hostpds), hostpds, alpha=0.1, color='blue')\n",
    "    \n",
    "dataset = sorted(transition_hostpd_full.items(), key=lambda x:x[0])\n",
    "compiled = []\n",
    "for i, (transition, hostpds) in enumerate(dataset):\n",
    "    #np.array(hostpds)\n",
    "    compiled.append(np.array(hostpds))\n",
    "    print(len(np.array(hostpds)))\n",
    "    ax.scatter([i] * len(hostpds), hostpds, alpha=0.1, color='green')\n",
    "    \n",
    "\n"
   ]
  },
  {
   "cell_type": "code",
   "execution_count": null,
   "metadata": {
    "collapsed": false
   },
   "outputs": [],
   "source": [
    "# Try tree patristic distance rather than hamming distance.\n",
    "import dendropy as dp\n",
    "\n",
    "tree = dp.Tree().get_from_path('RAxML_bestTree.host_COI5P_trimmed_alignment.nexus', 'nexus')\n",
    "\n",
    "pds = dp.treecalc.PatristicDistanceMatrix(tree).distances()"
   ]
  },
  {
   "cell_type": "code",
   "execution_count": null,
   "metadata": {
    "collapsed": false,
    "scrolled": true
   },
   "outputs": [],
   "source": [
    "taxon_dict = {str(i).split(': ')[-1]:i for i in tree.taxon_set}\n",
    "taxon_dict"
   ]
  },
  {
   "cell_type": "code",
   "execution_count": null,
   "metadata": {
    "collapsed": false
   },
   "outputs": [],
   "source": [
    "network_pds = dict()\n",
    "network_pds['reassortant'] = list()\n",
    "network_pds['full_complement'] = list()\n",
    "\n",
    "for sc, sk, d in G.edges(data=True):\n",
    "    sc_host = G.node[sc]['host_species']\n",
    "    sk_host = G.node[sk]['host_species']\n",
    "    if sc_host in taxon_dict.keys() and sk_host in taxon_dict.keys():\n",
    "        patr_dist = dp.treecalc.patristic_distance(tree, taxon_dict[sc_host], taxon_dict[sk_host])\n",
    "        network_pds[d['edge_type']].append(patr_dist)"
   ]
  },
  {
   "cell_type": "code",
   "execution_count": null,
   "metadata": {
    "collapsed": false
   },
   "outputs": [],
   "source": [
    "plt.hist(network_pds['reassortant'])"
   ]
  },
  {
   "cell_type": "code",
   "execution_count": null,
   "metadata": {
    "collapsed": false
   },
   "outputs": [],
   "source": [
    "plt.hist(network_pds['full_complement'])"
   ]
  },
  {
   "cell_type": "code",
   "execution_count": null,
   "metadata": {
    "collapsed": true
   },
   "outputs": [],
   "source": []
  },
  {
   "cell_type": "code",
   "execution_count": null,
   "metadata": {
    "collapsed": true
   },
   "outputs": [],
   "source": []
  }
 ],
 "metadata": {
  "kernelspec": {
   "display_name": "Python 2",
   "language": "python",
   "name": "python2"
  },
  "language_info": {
   "codemirror_mode": {
    "name": "ipython",
    "version": 2
   },
   "file_extension": ".py",
   "mimetype": "text/x-python",
   "name": "python",
   "nbconvert_exporter": "python",
   "pygments_lexer": "ipython2",
   "version": "2.7.10"
  }
 },
 "nbformat": 4,
 "nbformat_minor": 0
}
