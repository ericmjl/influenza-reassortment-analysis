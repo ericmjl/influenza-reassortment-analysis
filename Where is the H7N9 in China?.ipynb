{
 "cells": [
  {
   "cell_type": "code",
   "execution_count": 5,
   "metadata": {
    "collapsed": false
   },
   "outputs": [],
   "source": [
    "import pandas as pd\n",
    "import numpy as np\n",
    "import matplotlib.pyplot as plt\n",
    "import networkx as nx\n",
    "import brewer2mpl\n",
    "import colorsys\n",
    "import math\n",
    "import dendropy as dp\n",
    "import json\n",
    "import os\n",
    "\n",
    "from datetime import datetime\n",
    "from Bio import AlignIO, SeqIO\n",
    "from Bio.SeqRecord import SeqRecord\n",
    "from Bio.Seq import Seq\n",
    "from Levenshtein import distance\n",
    "from itertools import combinations, product, permutations, combinations_with_replacement\n",
    "from time import time\n",
    "from __future__ import division\n",
    "from collections import Counter, defaultdict\n",
    "from copy import deepcopy\n",
    "from random import shuffle, choice, sample\n",
    "from scipy.stats.mstats import mquantiles\n",
    "from scipy.stats import norm, expon, poisson, binom\n",
    "from scipy.misc import comb\n",
    "from IPython.display import Math\n",
    "from networkx.readwrite import json_graph \n",
    "\n",
    "%matplotlib inline"
   ]
  },
  {
   "cell_type": "code",
   "execution_count": 8,
   "metadata": {
    "collapsed": false
   },
   "outputs": [],
   "source": [
    "G = nx.read_gpickle('20141103 All IRD Parallel Transmission Graph Non-Same Subtypes Removed.pkl')\n",
    "for node, data in G.nodes(data=True):\n",
    "    if 'host' not in data.keys():\n",
    "        print(node)"
   ]
  },
  {
   "cell_type": "code",
   "execution_count": 7,
   "metadata": {
    "collapsed": false
   },
   "outputs": [],
   "source": [
    "subdir = 'subgraph_pkl'\n",
    "subgraphs = dict()\n",
    "for f in os.listdir(subdir):\n",
    "    i = f.split(' ')[0]\n",
    "    g = nx.read_gpickle('{0}/{1}'.format(subdir, f))\n",
    "    subgraphs[int(i)] = g\n",
    "# subgraphs = [g for g in nx.connected_component_subgraphs(G.to_undirected())]"
   ]
  },
  {
   "cell_type": "code",
   "execution_count": 9,
   "metadata": {
    "collapsed": false
   },
   "outputs": [],
   "source": [
    "# G.edges(data=True)"
   ]
  },
  {
   "cell_type": "code",
   "execution_count": 18,
   "metadata": {
    "collapsed": false
   },
   "outputs": [
    {
     "name": "stdout",
     "output_type": "stream",
     "text": [
      "('A/environment/Nanjing/2913/2013', 'A/environment/Shanghai/S1438/2013', 7.9187609999999999)\n",
      "('A/Wuxi/4/2013', 'A/chicken/Jiangsu/SC537/2013', 7.9577600000000004)\n",
      "('A/duck/Jiangxi/3286/2009', 'A/Anhui/DEWH72-03/2013', 7.2299199999999999)\n",
      "('A/duck/Jiangxi/3283/2009', 'A/Anhui/DEWH72-03/2013', 7.2299199999999999)\n",
      "('A/Anhui/1-DEWH730/2013', 'A/chicken/Shanghai/S1080/2013', 7.8904420000000002)\n",
      "('A/Anhui/DEWH72-01/2013', 'A/chicken/Shanghai/S1080/2013', 7.8904420000000002)\n",
      "('A/duck/Jiangxi/3286/2009', 'A/Anhui/DEWH72-09/2013', 7.2299199999999999)\n",
      "('A/duck/Jiangxi/3283/2009', 'A/Anhui/DEWH72-09/2013', 7.2299199999999999)\n",
      "('A/Shanghai/MH01/2013', 'A/environment/Fujian/SC337/2013', 7.9906329999999999)\n",
      "('A/chicken/Shanghai/S1078/2013', 'A/environment/Henan/SC232/2013', 7.9922029999999999)\n",
      "('A/pigeon/Shanghai/S1423/2013', 'A/homing pigeon/Jiangsu/SD184/2013', 7.9955130000000008)\n",
      "('A/chicken/Zhejiang/SD033/2013', 'A/duck/Zhejiang/SC410/2013', 7.9726350000000004)\n",
      "('A/pigeon/Shanghai/S1069/2013', 'A/environment/Shanghai/S1437/2013', 7.9094220000000002)\n",
      "('A/chicken/Shanghai/S1410/2013', 'A/wild pigeon/Jiangsu/SD001/2013', 7.9933860000000001)\n",
      "('A/chicken/Jiangsu/S002/2013', 'A/Zhejiang/HZ1/2013', 7.9693649999999998)\n",
      "('A/Anhui/1-DEWH730/2013', 'A/chicken/Shanghai/S1410/2013', 7.9935539999999996)\n",
      "('A/Anhui/DEWH72-01/2013', 'A/chicken/Shanghai/S1410/2013', 7.9935539999999996)\n",
      "('A/environment/Nanjing/2913/2013', 'A/Nanjing/2/2013', 7.9865919999999999)\n",
      "('A/Anhui/1-DEWH730/2013', 'A/pigeon/Shanghai/S1069/2013', 7.9509179999999997)\n",
      "('A/Anhui/DEWH72-01/2013', 'A/pigeon/Shanghai/S1069/2013', 7.9509179999999997)\n",
      "('A/duck/Jiangxi/3286/2009', 'A/Anhui/DEWH72-04/2013', 7.2311030000000001)\n",
      "('A/duck/Jiangxi/3283/2009', 'A/Anhui/DEWH72-04/2013', 7.2311030000000001)\n",
      "('A/pigeon/Shanghai/S1069/2013', 'A/chicken/Shanghai/S1077/2013', 7.9970330000000001)\n",
      "('A/Anhui/1-DEWH730/2013', 'A/chicken/Shanghai/017/2013', 7.9747639999999995)\n",
      "('A/Anhui/DEWH72-01/2013', 'A/chicken/Shanghai/017/2013', 7.9747639999999995)\n",
      "('A/Nanjing/2/2013', 'A/Zhenjiang/1/2013', 7.99322)\n",
      "('A/Anhui/1-DEWH730/2013', 'A/duck/Anhui/SC702/2013', 7.992597)\n",
      "('A/Anhui/DEWH72-01/2013', 'A/duck/Anhui/SC702/2013', 7.992597)\n",
      "('A/Anhui/1-DEWH730/2013', 'A/Zhejiang/DTID-ZJU01/2013', 7.9704320000000006)\n",
      "('A/Anhui/1-DEWH730/2013', 'A/Beijing/3/2013', 7.987425)\n",
      "('A/Anhui/DEWH72-01/2013', 'A/Beijing/3/2013', 7.987425)\n",
      "('A/Anhui/1-DEWH730/2013', 'A/Beijing/1/2013', 7.9724660000000007)\n",
      "('A/Anhui/DEWH72-01/2013', 'A/Beijing/1/2013', 7.9724660000000007)\n",
      "('A/chicken/Shanghai/S1358/2013', 'A/environment/Zhenjiang/4/2013', 7.9327579999999998)\n",
      "('A/duck/Jiangxi/3286/2009', 'A/Anhui/DEWH72-05/2013', 7.2311030000000001)\n",
      "('A/duck/Jiangxi/3283/2009', 'A/Anhui/DEWH72-05/2013', 7.2311030000000001)\n",
      "('A/environment/Shanghai/S1088/2013', 'A/chicken/Zhejiang/SD019/2013', 7.983053)\n",
      "('A/Anhui/1-DEWH730/2013', 'A/Nanjing/4/2013', 7.9911310000000002)\n",
      "('A/Anhui/DEWH72-01/2013', 'A/Nanjing/4/2013', 7.9911310000000002)\n",
      "('A/Anhui/1-DEWH730/2013', 'A/pigeon/Shanghai/S1421/2013', 7.9913749999999997)\n",
      "('A/Anhui/DEWH72-01/2013', 'A/pigeon/Shanghai/S1421/2013', 7.9913749999999997)\n",
      "('A/duck/Jiangxi/3286/2009', 'A/Anhui/DEWH72-02/2013', 7.2315830000000005)\n",
      "('A/duck/Jiangxi/3283/2009', 'A/Anhui/DEWH72-02/2013', 7.2315830000000005)\n",
      "('A/Wuxi/3/2013', 'A/environment/Suzhou/8/2013', 7.9889800000000006)\n",
      "('A/Anhui/1-DEWH730/2013', 'A/Nanjing/1/2013', 7.9489800000000006)\n",
      "('A/Anhui/DEWH72-01/2013', 'A/Nanjing/1/2013', 7.9489800000000006)\n",
      "('A/pigeon/Shanghai/S1423/2013', 'A/Wuxi/4/2013', 7.9872679999999994)\n",
      "('A/chicken/Shanghai/S1078/2013', 'A/environment/Shandong/SD038/2013', 7.9876360000000002)\n",
      "('A/Anhui/1-DEWH730/2013', 'A/Beijing/2/2013', 7.9934740000000009)\n",
      "('A/Anhui/DEWH72-01/2013', 'A/Beijing/2/2013', 7.9934740000000009)\n",
      "('A/chicken/Shanghai/S1078/2013', 'A/chicken/Shanghai/019/2013', 7.9984549999999999)\n",
      "('A/duck/Jiangxi/3286/2009', 'A/Anhui/DEWH72-01/2013', 7.2316970000000005)\n",
      "('A/duck/Jiangxi/3283/2009', 'A/Anhui/DEWH72-01/2013', 7.2316970000000005)\n",
      "('A/Anhui/1-DEWH730/2013', 'A/Shanghai/MH01/2013', 7.9937860000000001)\n",
      "('A/Anhui/DEWH72-01/2013', 'A/Shanghai/MH01/2013', 7.9937860000000001)\n",
      "('A/Anhui/1-DEWH730/2013', 'A/Hangzhou/1/2013', 7.9911500000000002)\n",
      "('A/Anhui/DEWH72-01/2013', 'A/Hangzhou/1/2013', 7.9911500000000002)\n",
      "('A/duck/Jiangxi/3286/2009', 'A/Anhui/DEWH72-07/2013', 7.2281500000000003)\n",
      "('A/duck/Jiangxi/3283/2009', 'A/Anhui/DEWH72-07/2013', 7.2281500000000003)\n",
      "('A/pigeon/Shanghai/S1069/2013', 'A/chicken/Shanghai/S1078/2013', 7.9990960000000007)\n",
      "('A/environment/Nanjing/2913/2013', 'A/environment/Shanghai/S1436/2013', 7.9374570000000011)\n",
      "('A/chicken/Jiangsu/S002/2013', 'A/chicken/Zhejiang/SD007/2013', 7.9278750000000002)\n",
      "('A/duck/Jiangxi/3286/2009', 'A/Anhui/DEWH72-06/2013', 7.2303210000000009)\n",
      "('A/duck/Jiangxi/3283/2009', 'A/Anhui/DEWH72-06/2013', 7.2303210000000009)\n",
      "('A/chicken/Shanghai/S1358/2013', 'A/chicken/Jiangsu/SC099/2013', 7.9793779999999996)\n",
      "('A/chicken/Shanghai/S1078/2013', 'A/environment/Shandong/SD039/2013', 7.993347)\n",
      "('A/Wuxi/3/2013', 'A/Xuzhou/1/2013', 7.9914570000000005)\n",
      "('A/chicken/Shanghai/S1078/2013', 'A/environment/Shandong/SD049/2013', 7.9924679999999997)\n",
      "('A/Anhui/1-DEWH730/2013', 'A/environment/Shanghai/S1088/2013', 7.9850449999999995)\n",
      "('A/Anhui/DEWH72-01/2013', 'A/environment/Shanghai/S1088/2013', 7.9850449999999995)\n",
      "('A/Anhui/1-DEWH730/2013', 'A/Wuxi/3/2013', 7.9934399999999997)\n",
      "('A/Anhui/DEWH72-01/2013', 'A/Wuxi/3/2013', 7.9934399999999997)\n",
      "('A/environment/Nanjing/2913/2013', 'A/Shanghai/JS01/2013', 7.9003389999999998)\n",
      "('A/pigeon/Shanghai/S1069/2013', 'A/chicken/Shanghai/S1079/2013', 7.9985169999999997)\n",
      "('A/Nanjing/1/2013', 'A/chicken/Shanghai/S1358/2013', 7.8956240000000006)\n",
      "('A/chicken/Shanghai/S1078/2013', 'A/chicken/Jiangxi/SD001/2013', 7.9751929999999991)\n",
      "('A/duck/Jiangxi/3286/2009', 'A/Anhui/DEWH72-08/2013', 7.2299199999999999)\n",
      "('A/duck/Jiangxi/3283/2009', 'A/Anhui/DEWH72-08/2013', 7.2299199999999999)\n",
      "('A/Anhui/1-DEWH730/2013', 'A/chicken/Shanghai/S1055/2013', 7.9889929999999989)\n",
      "('A/Anhui/DEWH72-01/2013', 'A/chicken/Shanghai/S1055/2013', 7.9889929999999989)\n",
      "('A/chicken/Shanghai/S1078/2013', 'A/environment/Henan/SD429/2013', 7.9914750000000003)\n",
      "('A/Nanjing/1/2013', 'A/environment/Nanjing/2913/2013', 7.9732949999999994)\n",
      "('A/Zhejiang/DTID-ZJU01/2013', 'A/chicken/Zhejiang/SD033/2013', 7.9926570000000003)\n",
      "('A/Anhui/1-DEWH730/2013', 'A/chicken/Shanghai/S1413/2013', 7.9917289999999994)\n",
      "('A/Anhui/DEWH72-01/2013', 'A/chicken/Shanghai/S1413/2013', 7.9917289999999994)\n",
      "('A/environment/Nanjing/2913/2013', 'A/pigeon/Shanghai/S1423/2013', 7.9794859999999996)\n",
      "('A/chicken/Shanghai/S1410/2013', 'A/environment/Suzhou/14/2013', 7.9738169999999995)\n",
      "('A/Nanjing/4/2013', 'A/chicken/Jiangsu/SC035/2013', 7.9900160000000007)\n",
      "('A/environment/Nanjing/2913/2013', 'A/environment/Shanghai/S1439/2013', 7.9347139999999996)\n",
      "('A/duck/Jiangxi/3286/2009', 'A/Anhui/1-DEWH730/2013', 7.2316970000000005)\n",
      "('A/duck/Jiangxi/3283/2009', 'A/Anhui/1-DEWH730/2013', 7.2316970000000005)\n",
      "('A/Wuxi/4/2013', 'A/chicken/Jiangsu/S002/2013', 7.9898559999999996)\n",
      "('A/Anhui/1-DEWH730/2013', 'A/chicken/Shanghai/S1053/2013', 7.9875059999999998)\n",
      "('A/Anhui/DEWH72-01/2013', 'A/chicken/Shanghai/S1053/2013', 7.9875059999999998)\n"
     ]
    }
   ],
   "source": [
    "# Which H7N9 nodes have no in_edges?\n",
    "for node, ndata in G.nodes(data=True):\n",
    "    if ndata['subtype'] == 'H7N9' and len(G.in_edges(node)) != 0 and ndata['collection_date'].year == 2013:\n",
    "        for source, sink, edata in G.in_edges(node, data=True):\n",
    "            print(source, sink, edata['pwi'])"
   ]
  },
  {
   "cell_type": "code",
   "execution_count": 24,
   "metadata": {
    "collapsed": false
   },
   "outputs": [
    {
     "data": {
      "text/plain": [
       "77"
      ]
     },
     "execution_count": 24,
     "metadata": {},
     "output_type": "execute_result"
    }
   ],
   "source": [
    "len(subgraphs[16].nodes())"
   ]
  },
  {
   "cell_type": "code",
   "execution_count": 25,
   "metadata": {
    "collapsed": false
   },
   "outputs": [],
   "source": [
    "# Let's find out if there are swine-->human transmissions in this graph\n",
    "goi = nx.DiGraph(subgraphs[16])\n",
    "for source, sink in goi.edges():\n",
    "    if goi.node[source]['collection_date'] >= G.node[sink]['collection_date']:\n",
    "        goi.remove_edge(source, sink)\n",
    "\n",
    "for source, sink, data in goi.edges(data=True):\n",
    "    "
   ]
  },
  {
   "cell_type": "code",
   "execution_count": 18,
   "metadata": {
    "collapsed": false
   },
   "outputs": [],
   "source": []
  }
 ],
 "metadata": {
  "kernelspec": {
   "display_name": "Python 2",
   "language": "python",
   "name": "python2"
  },
  "language_info": {
   "codemirror_mode": {
    "name": "ipython",
    "version": 2
   },
   "file_extension": ".py",
   "mimetype": "text/x-python",
   "name": "python",
   "nbconvert_exporter": "python",
   "pygments_lexer": "ipython2",
   "version": "2.7.9"
  }
 },
 "nbformat": 4,
 "nbformat_minor": 0
}
