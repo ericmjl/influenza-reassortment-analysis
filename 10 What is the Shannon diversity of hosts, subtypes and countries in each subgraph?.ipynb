{
 "cells": [
  {
   "cell_type": "code",
   "execution_count": 5,
   "metadata": {
    "collapsed": false
   },
   "outputs": [],
   "source": [
    "import networkx as nx\n",
    "import os\n",
    "import matplotlib.pyplot as plt\n",
    "import numpy as np\n",
    "\n",
    "from collections import Counter\n",
    "from sdi import sdi # custom functions for computing shannon diversity\n",
    "\n",
    "%matplotlib inline"
   ]
  },
  {
   "cell_type": "code",
   "execution_count": 6,
   "metadata": {
    "collapsed": false
   },
   "outputs": [],
   "source": [
    "# Helper functions\n",
    "def clean_host_species(species):\n",
    "    if species == 'null':\n",
    "        species = 'Unknown'\n",
    "    if '/' in species:\n",
    "        species = species.split('/')[0]\n",
    "    return species\n",
    "\n",
    "def golden_figsize(height):\n",
    "    \"\"\"\n",
    "    Assuming height dimension is the shorter one, the width should be:\n",
    "    (1 + 5**0.5)/2\n",
    "    \n",
    "    This function thus returns the (width, height) tuple which is\n",
    "    computed to be in a golden ratio.\n",
    "    \"\"\"\n",
    "    width = height * (1 + 5**0.5) / 2\n",
    "    return (width, height)\n",
    "\n",
    "\n"
   ]
  },
  {
   "cell_type": "code",
   "execution_count": 7,
   "metadata": {
    "collapsed": false
   },
   "outputs": [],
   "source": [
    "# Initialize a list that stores the data\n",
    "subtype_sdis = []\n",
    "country_sdis = []\n",
    "host_species_sdis = []\n",
    "subgraph_sizes = []\n",
    "\n",
    "for f in os.listdir('subgraph_pkl'):\n",
    "    if f.split('.')[-1] == 'pkl':\n",
    "        g = nx.read_gpickle('subgraph_pkl/{0}'.format(f))\n",
    "\n",
    "        # Initialize a Counter object for subtype, country and host\n",
    "        subtype_counts = Counter()\n",
    "        country_counts = Counter()\n",
    "        host_species_counts = Counter()\n",
    "\n",
    "        for n, d in g.nodes(data=True):\n",
    "            host_species = clean_host_species(d['host_species'])\n",
    "            country = d['country']\n",
    "            subtype = d['subtype']\n",
    "\n",
    "            subtype_counts[subtype] += 1\n",
    "            country_counts[country] += 1\n",
    "            host_species_counts[host_species] += 1\n",
    "\n",
    "        subtype_sdi = sdi(subtype_counts)\n",
    "        country_sdi = sdi(country_counts)\n",
    "        host_species_sdi = sdi(host_species_counts)\n",
    "        subgraph_size = len(g.nodes())\n",
    "\n",
    "        subtype_sdis.append(subtype_sdi)\n",
    "        country_sdis.append(country_sdi)\n",
    "        host_species_sdis.append(host_species_sdi)\n",
    "        subgraph_sizes.append(subgraph_size)\n",
    "    "
   ]
  },
  {
   "cell_type": "code",
   "execution_count": 16,
   "metadata": {
    "collapsed": false
   },
   "outputs": [
    {
     "data": {
      "image/png": "[encoded data removed]",
      "text/plain": [
       "<matplotlib.figure.Figure at 0x1140a0f10>"
      ]
     },
     "metadata": {},
     "output_type": "display_data"
    }
   ],
   "source": [
    "# Plot scatter plot of subtype, country and host species sdis by subgraph sizes\n",
    "from matplotlib.colors import LogNorm \n",
    "\n",
    "fig = plt.figure(figsize=golden_figsize(2))\n",
    "\n",
    "# Set alpha value\n",
    "alpha = 0.2\n",
    "\n",
    "# Other plot parameters\n",
    "axisfs = 7 #axis fontsize\n",
    "titlefs = 9 #title fontsize\n",
    "\n",
    "ax1 = fig.add_subplot(131)\n",
    "ax1.hist2d(subgraph_sizes, country_sdis, cmap='Greens', norm=LogNorm(), bins=[np.arange(0,4001,400), np.arange(0, 3, 0.1)])\n",
    "ax1.set_ylim(-0.1, 3)\n",
    "ax1.set_xticks(np.arange(0, 4001, 2000))\n",
    "ax1.set_xticklabels([0, 2, 4], fontsize=7)\n",
    "yticklabels = ax1.get_yticklabels()\n",
    "plt.setp(yticklabels, fontsize=7)\n",
    "ax1.set_title('Country', fontsize=titlefs)\n",
    "ax1.set_ylabel('Shannon Diversity', fontsize=axisfs)\n",
    "\n",
    "ax2 = fig.add_subplot(132)\n",
    "ax2.hist2d(subgraph_sizes, host_species_sdis, cmap='Reds', norm=LogNorm(), bins=[np.arange(0,4001,400), np.arange(0, 3, 0.1)])\n",
    "ax2.set_ylim(-0.1, 3)\n",
    "ax2.set_xticks(np.arange(0, 4001, 2000))\n",
    "ax2.set_xticklabels([0, 2, 4], fontsize=7)\n",
    "ax2.set_yticklabels([])\n",
    "ax2.set_title('Hosts', fontsize=titlefs)\n",
    "ax2.set_xlabel('Subgraph Size (x1000)', fontsize=axisfs)\n",
    "\n",
    "ax3 = fig.add_subplot(133)\n",
    "ax3.hist2d(subgraph_sizes, subtype_sdis, cmap='Blues', norm=LogNorm(), bins=[np.arange(0,4001,400), np.arange(0, 3, 0.1)])\n",
    "ax3.set_ylim(-0.1, 3)\n",
    "ax3.set_xticks(np.arange(0, 4001, 2000))\n",
    "ax3.set_xticklabels([0, 2, 4], fontsize=7)\n",
    "ax3.set_yticklabels([])\n",
    "ax3.set_title('Subtypes', fontsize=titlefs)\n",
    "\n",
    "ax1.annotate('c.', xy=(0,1), ha='left', va='top', xycoords='figure fraction')\n",
    "\n",
    "plt.subplots_adjust(bottom=0.2, right=0.95, left=0.15)\n",
    "plt.savefig('Subgraph Attribute SDIs.pdf')"
   ]
  },
  {
   "cell_type": "code",
   "execution_count": null,
   "metadata": {
    "collapsed": false
   },
   "outputs": [],
   "source": []
  },
  {
   "cell_type": "code",
   "execution_count": null,
   "metadata": {
    "collapsed": false
   },
   "outputs": [],
   "source": []
  }
 ],
 "metadata": {
  "kernelspec": {
   "display_name": "Python 2",
   "language": "python",
   "name": "python2"
  },
  "language_info": {
   "codemirror_mode": {
    "name": "ipython",
    "version": 2
   },
   "file_extension": ".py",
   "mimetype": "text/x-python",
   "name": "python",
   "nbconvert_exporter": "python",
   "pygments_lexer": "ipython2",
   "version": "2.7.9"
  }
 },
 "nbformat": 4,
 "nbformat_minor": 0
}
