{
 "cells": [
  {
   "cell_type": "code",
   "execution_count": 37,
   "metadata": {
    "collapsed": false
   },
   "outputs": [],
   "source": [
    "from collections import Counter\n",
    "from itertools import product\n",
    "\n",
    "import matplotlib.pyplot as plt\n",
    "import networkx as nx\n",
    "import numpy as np\n",
    "import os\n",
    "\n",
    "%matplotlib inline"
   ]
  },
  {
   "cell_type": "code",
   "execution_count": 38,
   "metadata": {
    "collapsed": false
   },
   "outputs": [],
   "source": [
    "def golden_figsize(height):\n",
    "    \"\"\"\n",
    "    Assuming height dimension is the shorter one, the width should be:\n",
    "    (1 + 5**0.5)/2\n",
    "    \n",
    "    This function thus returns the (width, height) tuple which is\n",
    "    computed to be in a golden ratio.\n",
    "    \"\"\"\n",
    "    width = height * (1 + 5**0.5) / 2\n",
    "    return (width, height)"
   ]
  },
  {
   "cell_type": "code",
   "execution_count": 39,
   "metadata": {
    "collapsed": false
   },
   "outputs": [],
   "source": [
    "def is_reassortant(G, node):\n",
    "    return G.node[node]['reassortant']"
   ]
  },
  {
   "cell_type": "markdown",
   "metadata": {},
   "source": [
    "# Network Stats on Final Graph"
   ]
  },
  {
   "cell_type": "code",
   "execution_count": 40,
   "metadata": {
    "collapsed": false
   },
   "outputs": [],
   "source": [
    "G = nx.read_gpickle('20141103 All IRD Final Graph.pkl')"
   ]
  },
  {
   "cell_type": "code",
   "execution_count": 41,
   "metadata": {
    "collapsed": false
   },
   "outputs": [
    {
     "data": {
      "text/plain": [
       "0.7499153546639581"
      ]
     },
     "execution_count": 41,
     "metadata": {},
     "output_type": "execute_result"
    }
   ],
   "source": [
    "# How many edges are 'whole genome' and how many are 'reassortment'?\n",
    "\n",
    "edge_type_counts = Counter()\n",
    "\n",
    "for sc, sk, d in G.edges(data=True):\n",
    "    edge_type_counts[d['edge_type']] += 1\n",
    "    \n",
    "1 - edge_type_counts['reassortant'] / float(sum(edge_type_counts.values()))"
   ]
  },
  {
   "cell_type": "code",
   "execution_count": 42,
   "metadata": {
    "collapsed": false
   },
   "outputs": [],
   "source": [
    "for n, d in G.nodes(data=True):\n",
    "    in_edge_types = set([d['edge_type'] for sc, sk, d in G.in_edges(n, data=True)])\n",
    "    if 'reassortant' in in_edge_types:\n",
    "        G.node[n]['reassortant'] = True\n",
    "    elif 'full_complement' in in_edge_types:\n",
    "        G.node[n]['reassortant'] = False\n",
    "    else:\n",
    "        G.node[n]['reassortant'] = False"
   ]
  },
  {
   "cell_type": "code",
   "execution_count": 43,
   "metadata": {
    "collapsed": false
   },
   "outputs": [
    {
     "data": {
      "text/plain": [
       "2106"
      ]
     },
     "execution_count": 43,
     "metadata": {},
     "output_type": "execute_result"
    }
   ],
   "source": [
    "n_reassortants = 0\n",
    "for n in G.nodes():\n",
    "    if is_reassortant(G, n):\n",
    "        n_reassortants += 1\n",
    "        \n",
    "n_reassortants"
   ]
  },
  {
   "cell_type": "code",
   "execution_count": 44,
   "metadata": {
    "collapsed": false
   },
   "outputs": [
    {
     "data": {
      "text/plain": [
       "('A/mallard/Interior Alaska/6MP0160AR1/2006',\n",
       " 'A/green-winged teal/Interior Alaska/6MP1077/2006',\n",
       " {'edge_type': 'full_complement',\n",
       "  'pwi': 7.7231860000000001,\n",
       "  'segments': {1: 0.99085800000000002,\n",
       "   2: 0.88994799999999996,\n",
       "   3: 0.90987300000000004,\n",
       "   4: 0.99942500000000001,\n",
       "   5: 0.93408000000000002,\n",
       "   6: 1.0,\n",
       "   7: 0.99900199999999995,\n",
       "   8: 1.0}})"
      ]
     },
     "execution_count": 44,
     "metadata": {},
     "output_type": "execute_result"
    }
   ],
   "source": [
    "G.edges(data=True)[0]"
   ]
  },
  {
   "cell_type": "code",
   "execution_count": 45,
   "metadata": {
    "collapsed": false
   },
   "outputs": [],
   "source": [
    "countries = set([d['country'] for n, d in G.nodes(data=True)])"
   ]
  },
  {
   "cell_type": "code",
   "execution_count": 46,
   "metadata": {
    "collapsed": false
   },
   "outputs": [],
   "source": [
    "countryG = nx.DiGraph()\n",
    "for c1, c2 in product(countries, countries):\n",
    "    countryG.add_edge(c1, c2, weight=0)\n",
    "    \n",
    "for source, sink, data in G.edges(data=True):\n",
    "    source_country = G.node[source]['country']\n",
    "    sink_country = G.node[sink]['country']\n",
    "    \n",
    "    countryG.edge[source_country][sink_country]['weight'] += 1"
   ]
  },
  {
   "cell_type": "code",
   "execution_count": 47,
   "metadata": {
    "collapsed": false
   },
   "outputs": [
    {
     "data": {
      "text/plain": [
       "[('Human', 'Human'),\n",
       " ('Human', 'Avian'),\n",
       " ('Human', 'Swine'),\n",
       " ('Avian', 'Human'),\n",
       " ('Avian', 'Avian'),\n",
       " ('Avian', 'Swine'),\n",
       " ('Swine', 'Human'),\n",
       " ('Swine', 'Avian'),\n",
       " ('Swine', 'Swine')]"
      ]
     },
     "execution_count": 47,
     "metadata": {},
     "output_type": "execute_result"
    }
   ],
   "source": [
    "host_types = ['Human', 'Avian', 'Swine']\n",
    "flows = [i for i in product(host_types, host_types)]\n",
    "flows"
   ]
  },
  {
   "cell_type": "code",
   "execution_count": 48,
   "metadata": {
    "collapsed": false
   },
   "outputs": [
    {
     "data": {
      "text/plain": [
       "[('Avian', 'Avian'),\n",
       " ('Avian', 'Swine'),\n",
       " ('Avian', 'Human'),\n",
       " ('Swine', 'Avian'),\n",
       " ('Swine', 'Swine'),\n",
       " ('Swine', 'Human'),\n",
       " ('Human', 'Avian'),\n",
       " ('Human', 'Swine'),\n",
       " ('Human', 'Human')]"
      ]
     },
     "execution_count": 48,
     "metadata": {},
     "output_type": "execute_result"
    }
   ],
   "source": [
    "domainG = nx.DiGraph()\n",
    "for f in flows:\n",
    "    domainG.add_edge(f[0], f[1], weight=0)\n",
    "domainG.edges()"
   ]
  },
  {
   "cell_type": "code",
   "execution_count": 49,
   "metadata": {
    "collapsed": false
   },
   "outputs": [],
   "source": [
    "for source, sink, data in G.edges(data=True):\n",
    "    source_host = G.node[source]['host_species']\n",
    "    sink_host = G.node[sink]['host_species']\n",
    "    \n",
    "    for f in flows:\n",
    "        if f[0] in source_host and f[1] in sink_host:\n",
    "            domainG.edge[f[0]][f[1]]['weight'] += 1"
   ]
  },
  {
   "cell_type": "code",
   "execution_count": 50,
   "metadata": {
    "collapsed": false
   },
   "outputs": [
    {
     "data": {
      "text/plain": [
       "[('Avian', 'Avian', {'weight': 8938}),\n",
       " ('Avian', 'Swine', {'weight': 107}),\n",
       " ('Avian', 'Human', {'weight': 191}),\n",
       " ('Swine', 'Avian', {'weight': 33}),\n",
       " ('Swine', 'Swine', {'weight': 1943}),\n",
       " ('Swine', 'Human', {'weight': 325}),\n",
       " ('Human', 'Avian', {'weight': 60}),\n",
       " ('Human', 'Swine', {'weight': 640}),\n",
       " ('Human', 'Human', {'weight': 10736})]"
      ]
     },
     "execution_count": 50,
     "metadata": {},
     "output_type": "execute_result"
    }
   ],
   "source": [
    "domainG.edges(data=True)"
   ]
  },
  {
   "cell_type": "code",
   "execution_count": 51,
   "metadata": {
    "collapsed": false
   },
   "outputs": [
    {
     "data": {
      "image/png": "[encoded data removed]",
      "text/plain": [
       "<matplotlib.figure.Figure at 0x118656190>"
      ]
     },
     "metadata": {},
     "output_type": "display_data"
    }
   ],
   "source": [
    "# Histogram of Edges\n",
    "# What is the distribution of PWIs represented on the edges?\n",
    "pwis = [d['pwi'] for _, _, d in G.edges(data=True)]\n",
    "fig = plt.figure(figsize=golden_figsize(2))\n",
    "plt.hist(pwis, bins=100)\n",
    "plt.xlabel('Sum PWI')\n",
    "plt.ylabel('Counts')\n",
    "plt.title('With Reassortment Edges')\n",
    "plt.vlines(np.percentile(pwis, 5), 0, 10000, 'green', label='5th Percentile')\n",
    "plt.vlines(np.percentile(pwis, 50), 0, 10000, 'red', label='50th Percentile')\n",
    "plt.legend(loc='upper left')\n",
    "plt.subplots_adjust(left=0.17, right=0.95, top=0.88, bottom=0.18)\n",
    "plt.savefig('Final Graph PWI Histogram.pdf')"
   ]
  },
  {
   "cell_type": "code",
   "execution_count": 52,
   "metadata": {
    "collapsed": false
   },
   "outputs": [
    {
     "data": {
      "text/plain": [
       "7.6738036000000012"
      ]
     },
     "execution_count": 52,
     "metadata": {},
     "output_type": "execute_result"
    }
   ],
   "source": [
    "np.percentile(pwis, 5)"
   ]
  },
  {
   "cell_type": "code",
   "execution_count": 53,
   "metadata": {
    "collapsed": false
   },
   "outputs": [
    {
     "data": {
      "text/plain": [
       "18"
      ]
     },
     "execution_count": 53,
     "metadata": {},
     "output_type": "execute_result"
    }
   ],
   "source": [
    "subgraphs = [g for g in nx.connected_component_subgraphs(G.to_undirected())]\n",
    "len(subgraphs)"
   ]
  },
  {
   "cell_type": "code",
   "execution_count": 54,
   "metadata": {
    "collapsed": false
   },
   "outputs": [
    {
     "data": {
      "image/png": "[encoded data removed]",
      "text/plain": [
       "<matplotlib.figure.Figure at 0x12d86a810>"
      ]
     },
     "metadata": {},
     "output_type": "display_data"
    }
   ],
   "source": [
    "# Subgraph Nodes\n",
    "subgraph_size = [len(g.nodes()) for g in subgraphs]\n",
    "fig = plt.figure(figsize=golden_figsize(2))\n",
    "ax = fig.add_subplot(111)\n",
    "ax.hist(subgraph_size, bins=30)\n",
    "ax.set_xlabel('Number of Nodes in Subgraph', fontsize=7)\n",
    "ax.set_ylabel('Counts', fontsize=7)\n",
    "ax.get_xaxis().set_ticks(np.arange(0, 18000, 4000))\n",
    "ax.set_xticklabels(np.arange(0, 18000, 4000), fontsize=7)\n",
    "ax.set_title('Subgraph Size', fontsize=9)\n",
    "\n",
    "ax.annotate('b.', xy=(0,1), xycoords='figure fraction', va='top', ha='left')\n",
    "yticklabels = ax.get_yticklabels()\n",
    "plt.setp(yticklabels, fontsize=7)\n",
    "plt.subplots_adjust(bottom=0.2)\n",
    "plt.savefig('Final Graph Subgraph Sizes.pdf')"
   ]
  },
  {
   "cell_type": "code",
   "execution_count": 55,
   "metadata": {
    "collapsed": false
   },
   "outputs": [
    {
     "name": "stdout",
     "output_type": "stream",
     "text": [
      "H6N1\n",
      "H3N8\n",
      "H10N7\n",
      "H2N3\n",
      "H3N8\n",
      "H11N9\n",
      "H3N2\n",
      "H3N8\n",
      "H3N8\n",
      "H1N1\n",
      "H6N1\n",
      "H3N8\n",
      "H12N5\n",
      "H8N4\n",
      "H2N3\n",
      "H16N3\n",
      "H1N1\n"
     ]
    },
    {
     "data": {
      "image/png": "[encoded data removed]",
      "text/plain": [
       "<matplotlib.figure.Figure at 0x11e7a7810>"
      ]
     },
     "metadata": {},
     "output_type": "display_data"
    }
   ],
   "source": [
    "# Let's try making a scatter plot version of this graph.\n",
    "# y-axis corresponds to the collection dates represented, x-axis corresponds to the size of the subgraph. \n",
    "from matplotlib import dates as mdts\n",
    "from collections import defaultdict\n",
    "import math\n",
    "import numpy as np\n",
    "from matplotlib.colors import LogNorm \n",
    "\n",
    "xs = []\n",
    "ys = []\n",
    "for g in subgraphs:\n",
    "    for n, d in g.nodes(data=True):\n",
    "        cdate = d['collection_date']\n",
    "        ys.append(mdts.date2num(cdate))\n",
    "        \n",
    "        xs.append(len(g.nodes()))\n",
    "        \n",
    "        if len(g.nodes()) < 10:\n",
    "            print(d['subtype'])\n",
    "\n",
    "yearsFmt = mdts.DateFormatter('%Y')\n",
    "\n",
    "fig = plt.figure(figsize=golden_figsize(2))\n",
    "ax = fig.add_subplot(111)\n",
    "# ax.scatter(xs, ys, alpha=0.05, color='green')\n",
    "# ax.hexbin(xs, ys, gridsize=(30, 20), cmap='binary', bins='log')\n",
    "from datetime import datetime as dt\n",
    "min_date = dt(1980, 1, 1)\n",
    "max_date = dt(2015, 1, 1)\n",
    "xbins = np.arange(0, 17001, 500)\n",
    "ybins = np.arange(mdts.date2num(min_date), mdts.date2num(max_date), 100)\n",
    "ax.hist2d(xs, ys, norm=LogNorm(), cmap='Blues', bins=[xbins, ybins])\n",
    "\n",
    "ax.yaxis.set_major_formatter(yearsFmt)\n",
    "ax.set_xlabel('Number of Nodes in Subgraph (x1000)')\n",
    "ax.set_ylabel('Dates of Isolation')\n",
    "ax.xaxis.set_ticklabels([0, 0, 5, 10, 15, 20])\n",
    "ax.set_xlim(-1000, 20000)\n",
    "\n",
    "# set min_date\n",
    "ax.set_ylim(mdts.date2num(min_date), mdts.date2num(max_date))\n",
    "ax.set_title('Subgraph Date and Size Distribution')\n",
    "ax.annotate('b.', xy=(0,1), xycoords='figure fraction', ha='left', va='top')\n",
    "\n",
    "plt.locator_params(axis='y', nbins=4) \n",
    "plt.subplots_adjust(left=0.15, right=0.95, bottom=0.18, top=0.90)\n",
    "plt.savefig('Final Graph Subgraph Sizes and Date Range.pdf')"
   ]
  },
  {
   "cell_type": "code",
   "execution_count": 56,
   "metadata": {
    "collapsed": false
   },
   "outputs": [],
   "source": [
    "# Subgraph diameters\n",
    "# NOTE: This cell takes quite a bit of time to run!\n",
    "# diameters = [nx.diameter(g) for g in subgraphs]"
   ]
  },
  {
   "cell_type": "code",
   "execution_count": 57,
   "metadata": {
    "collapsed": false
   },
   "outputs": [],
   "source": [
    "# diameter_counter = Counter(diameters)\n",
    "# fig = plt.figure(figsize=golden_figsize(3))\n",
    "# ax = fig.add_subplot(111)\n",
    "# ax.bar(diameter_counter.keys(), diameter_counter.values())\n",
    "# ax.set_xlabel('Graph Diameter')\n",
    "# ax.set_ylabel('Count')\n",
    "# ax.set_title('Histogram of Subgraph Diameters \\n in Final Graph')\n",
    "# plt.savefig('Final Graph Diameter Distribution.pdf', bbox_inches='tight')"
   ]
  },
  {
   "cell_type": "markdown",
   "metadata": {},
   "source": [
    "# Network Stats on Full Complement-Only Graph"
   ]
  },
  {
   "cell_type": "code",
   "execution_count": 58,
   "metadata": {
    "collapsed": false
   },
   "outputs": [],
   "source": [
    "fullG = nx.read_gpickle('20141103 All IRD Full Complement Only Graph.pkl')"
   ]
  },
  {
   "cell_type": "code",
   "execution_count": 59,
   "metadata": {
    "collapsed": false
   },
   "outputs": [
    {
     "data": {
      "image/png": "[encoded data removed]",
      "text/plain": [
       "<matplotlib.figure.Figure at 0x1187d3a90>"
      ]
     },
     "metadata": {},
     "output_type": "display_data"
    }
   ],
   "source": [
    "# Histogram of Edges\n",
    "# What is the distribution of PWIs represented on the edges?\n",
    "pwis = [d['pwi'] for _, _, d in fullG.edges(data=True)]\n",
    "fig = plt.figure(figsize=golden_figsize(2))\n",
    "plt.hist(pwis, bins=100)\n",
    "plt.xlabel('Sum PWI')\n",
    "plt.ylabel('Counts')\n",
    "plt.title('Without Reassortant Edges')\n",
    "plt.vlines(np.percentile(pwis, 5), 0, 10000, 'green', label='5th Percentile')\n",
    "plt.vlines(np.percentile(pwis, 50), 0, 10000, 'red', label='50th Percentile')\n",
    "plt.legend(loc='upper left')\n",
    "plt.subplots_adjust(left=0.17, right=0.95, top=0.88, bottom=0.18)\n",
    "plt.savefig('Full Complement Graph PWI Histogram.pdf')"
   ]
  },
  {
   "cell_type": "code",
   "execution_count": 60,
   "metadata": {
    "collapsed": false
   },
   "outputs": [],
   "source": [
    "# Identify the number of nodes in the largest two subgraphs.\n",
    "fullGsubgraphs = [g for g in nx.connected_component_subgraphs(fullG.to_undirected())]\n",
    "fullGsubgraphs = sorted(fullGsubgraphs, key=lambda x: len(x.nodes()), reverse=True)\n"
   ]
  },
  {
   "cell_type": "code",
   "execution_count": 61,
   "metadata": {
    "collapsed": false
   },
   "outputs": [
    {
     "data": {
      "text/plain": [
       "{'Ferret', 'Human', 'Swine', 'Turkey/Avian', 'null'}"
      ]
     },
     "execution_count": 61,
     "metadata": {},
     "output_type": "execute_result"
    }
   ],
   "source": [
    "# Query the number of nodes\n",
    "set([d['host_species'] for n, d in fullGsubgraphs[1].nodes(data=True)])\n",
    "# len(fullGsubgraphs[1].nodes())"
   ]
  },
  {
   "cell_type": "code",
   "execution_count": 62,
   "metadata": {
    "collapsed": false
   },
   "outputs": [
    {
     "data": {
      "image/png": "[encoded data removed]",
      "text/plain": [
       "<matplotlib.figure.Figure at 0x1252fd490>"
      ]
     },
     "metadata": {},
     "output_type": "display_data"
    }
   ],
   "source": [
    "# Subgraph Nodes\n",
    "fullGsubgraph_size = [len(g.nodes()) for g in fullGsubgraphs]\n",
    "fig = plt.figure(figsize=golden_figsize(2))\n",
    "ax1 = fig.add_subplot(111)\n",
    "ax2 = fig.add_subplot(211)\n",
    "ax3 = fig.add_subplot(212)\n",
    "\n",
    "ax2.hist(fullGsubgraph_size, bins=30)\n",
    "ax3.hist(fullGsubgraph_size, bins=30)\n",
    "\n",
    "# Set the y-limits\n",
    "ax3.set_ylim(0,6)\n",
    "ax2.set_ylim(1500, 2100)\n",
    "\n",
    "# Set the y-ticks intervals.\n",
    "ax3.set_yticks(np.arange(0, 7, 2))\n",
    "ax2.set_yticks(np.arange(1500, 2101, 300))\n",
    "ytklabels2 = ax2.get_yticklabels()\n",
    "plt.setp(ytklabels2, fontsize=7)\n",
    "\n",
    "ytklabels3 = ax3.get_yticklabels()\n",
    "plt.setp(ytklabels3, fontsize=7)\n",
    "\n",
    "# Remove unnecessary spines.\n",
    "ax1.spines['left'].set_visible(False)\n",
    "ax1.spines['right'].set_visible(False)\n",
    "ax2.spines['bottom'].set_visible(False)\n",
    "ax3.spines['top'].set_visible(False)\n",
    "\n",
    "# Remove any unnecessary axes\n",
    "ax1.get_yaxis().set_ticklabels([])\n",
    "ax1.get_xaxis().set_visible(False)\n",
    "ax2.get_xaxis().set_visible(False)\n",
    "ax3.get_xaxis().set_ticks_position('bottom')\n",
    "\n",
    "# Add in diagonal lines.\n",
    "d = 0.015\n",
    "kwargs = dict(transform=ax2.transAxes, color='k', clip_on=False)\n",
    "ax2.plot((-d, +d), (-d, +d), **kwargs)\n",
    "ax2.plot((1-d, 1+d), (-d, +d), **kwargs)\n",
    "\n",
    "kwargs.update(transform=ax3.transAxes)\n",
    "ax3.plot((-d, +d), (1-d, 1+d), **kwargs)\n",
    "ax3.plot((1-d, 1+d), (1-d, 1+d), **kwargs)\n",
    "\n",
    "# Set other plot parameters\n",
    "# ax3.set_xlabel('Number of Nodes in Subgraph')\n",
    "ax3.set_ylabel('Counts', fontsize=7)\n",
    "ax2.set_title('Subgraph Size', fontsize=9)\n",
    "ax3.get_xaxis().set_ticks(np.arange(0, 5000, 1000))\n",
    "ax3.get_xaxis().set_ticklabels(np.arange(0, 5000, 1000), fontsize=7)\n",
    "\n",
    "ax1.annotate('a.', xy=(0,1), xycoords='figure fraction', ha='left', va='top')\n",
    "\n",
    "plt.subplots_adjust(bottom=0.2)\n",
    "plt.savefig('Full Complement Graph Subgraph Sizes.pdf')"
   ]
  },
  {
   "cell_type": "code",
   "execution_count": 63,
   "metadata": {
    "collapsed": false
   },
   "outputs": [
    {
     "data": {
      "image/png": "[encoded data removed]",
      "text/plain": [
       "<matplotlib.figure.Figure at 0x11c4b8e10>"
      ]
     },
     "metadata": {},
     "output_type": "display_data"
    }
   ],
   "source": [
    "# Let's try making a scatter plot version of this graph.\n",
    "# y-axis corresponds to the collection dates represented, x-axis corresponds to the size of the subgraph. \n",
    "from matplotlib import dates as mdts\n",
    "from collections import defaultdict\n",
    "import math\n",
    "import numpy as np\n",
    "\n",
    "xs = []\n",
    "ys = []\n",
    "for g in fullGsubgraphs:\n",
    "    for n, d in g.nodes(data=True):\n",
    "        cdate = d['collection_date']\n",
    "        ys.append(mdts.date2num(cdate))\n",
    "        \n",
    "        xs.append(len(g.nodes()))\n",
    "\n",
    "yearsFmt = mdts.DateFormatter('%Y')\n",
    "\n",
    "fig = plt.figure(figsize=golden_figsize(2))\n",
    "ax = fig.add_subplot(111)\n",
    "# ax.scatter(xs, ys, alpha=0.05, color='blue')\n",
    "# ax.hexbin(xs, ys, gridsize=(10,20), cmap='Blues', bins='log')\n",
    "from datetime import datetime as dt\n",
    "min_date = dt(1980, 1, 1)\n",
    "max_date = dt(2015, 1, 1)\n",
    "xbins = np.arange(0, 17001, 500)\n",
    "ybins = np.arange(mdts.date2num(min_date), mdts.date2num(max_date), 100)\n",
    "ax.hist2d(xs, ys, norm=LogNorm(), cmap='Greens', bins=[xbins, ybins])\n",
    "ax.yaxis.set_major_formatter(yearsFmt)\n",
    "ax.set_xlabel('Number of Nodes in Subgraph (x1000)')\n",
    "ax.xaxis.set_ticklabels([0, 0, 5, 10, 15, 20])\n",
    "ax.set_ylabel('Dates of Isolation')\n",
    "ax.set_xlim(-1000, 20000)\n",
    "\n",
    "ax.set_ylim(mdts.date2num(min_date), mdts.date2num(max_date))\n",
    "ax.set_title('Subgraph Date and Size Distribution')\n",
    "\n",
    "ax.annotate('a.', xy=(0,1), xycoords='figure fraction', ha='left', va='top')\n",
    "plt.locator_params(axis='y', nbins=4) \n",
    "plt.subplots_adjust(left=0.15, right=0.95, bottom=0.18, top=0.90)\n",
    "plt.savefig('Full Complement Subgraph Sizes and Date Range.pdf')"
   ]
  },
  {
   "cell_type": "code",
   "execution_count": 64,
   "metadata": {
    "collapsed": false
   },
   "outputs": [
    {
     "name": "stdout",
     "output_type": "stream",
     "text": [
      "('A/blue-winged teal/Wisconsin/134/1980', {'reassortant': False, 'collection_date': Timestamp('1980-01-01 00:00:00'), 'country': 'USA', 'subtype': 'H6N1', 'state': 'Wisconsin', 'host_species': 'Blue-Winged Teal/Avian'})\n",
      "('A/equine/Romania/1/1980', {'collection_date': Timestamp('1980-01-01 00:00:00'), 'country': 'Romania', 'reassortant': False, 'host_species': 'Horse', 'subtype': 'H3N8'})\n",
      "('A/mallard/Wisconsin/42/1981', {'reassortant': False, 'collection_date': Timestamp('1981-01-01 00:00:00'), 'country': 'USA', 'subtype': 'H10N7', 'state': 'Wisconsin', 'host_species': 'Mallard/Avian'})\n",
      "('A/swine/Missouri/4296424/2006', {'reassortant': False, 'collection_date': Timestamp('2006-01-01 00:00:00'), 'country': 'USA', 'subtype': 'H2N3', 'state': 'Missouri', 'host_species': 'Swine'})\n",
      "('A/American green-winged teal/Illinois/11OS4814/2011', {'reassortant': False, 'collection_date': Timestamp('2011-10-22 00:00:00'), 'country': 'USA', 'subtype': 'H3N8', 'state': 'Illinois', 'host_species': 'Avian'})\n",
      "('A/ruddy turnstone/New Jersey/AI09-1144/2009', {'reassortant': False, 'collection_date': Timestamp('2009-05-30 00:00:00'), 'country': 'USA', 'subtype': 'H11N9', 'state': 'New Jersey', 'host_species': 'Ruddy Turnstone/Avian'})\n",
      "('A/blue-winged teal/Wisconsin/156/1980', {'reassortant': False, 'collection_date': Timestamp('1980-01-01 00:00:00'), 'country': 'USA', 'subtype': 'H3N2', 'state': 'Wisconsin', 'host_species': 'Blue-Winged Teal/Avian'})\n",
      "('A/equine/New York/VR-297/1983', {'reassortant': False, 'collection_date': Timestamp('1983-01-01 00:00:00'), 'country': 'USA', 'subtype': 'H3N8', 'state': 'New York', 'host_species': 'Horse'})\n",
      "('A/equine/Kentucky/2/1980', {'reassortant': False, 'collection_date': Timestamp('1980-01-01 00:00:00'), 'country': 'USA', 'subtype': 'H3N8', 'state': 'Kentucky', 'host_species': 'Horse'})\n",
      "('A/Bangkok/INS520/2010', {'reassortant': False, 'collection_date': Timestamp('2010-09-22 00:00:00'), 'country': 'Thailand', 'subtype': 'H1N1', 'state': 'Bangkok', 'host_species': 'Human'})\n",
      "('A/widgeon/Wisconsin/140/1980', {'reassortant': False, 'collection_date': Timestamp('1980-01-01 00:00:00'), 'country': 'USA', 'subtype': 'H6N1', 'state': 'Wisconsin', 'host_species': 'American Wigeon/Avian'})\n",
      "('A/equine/Kentucky/4/1980', {'reassortant': False, 'collection_date': Timestamp('1980-01-01 00:00:00'), 'country': 'USA', 'subtype': 'H3N8', 'state': 'Kentucky', 'host_species': 'Horse'})\n",
      "('A/northern pintail/Interior Alaska/10BM02561R0/2010', {'reassortant': False, 'collection_date': Timestamp('2010-06-22 00:00:00'), 'country': 'USA', 'subtype': 'H12N5', 'state': 'Interior Alaska', 'host_species': 'Avian'})\n",
      "('A/mallard/Wisconsin/2080/1984', {'reassortant': False, 'collection_date': Timestamp('1984-01-01 00:00:00'), 'country': 'USA', 'subtype': 'H8N4', 'state': 'Wisconsin', 'host_species': 'Mallard/Avian'})\n",
      "('A/swine/Missouri/2124514/2006', {'reassortant': False, 'collection_date': Timestamp('2006-01-01 00:00:00'), 'country': 'USA', 'subtype': 'H2N3', 'state': 'Missouri', 'host_species': 'Swine'})\n",
      "('A/shorebird/Delaware/168/06', {'reassortant': False, 'collection_date': Timestamp('2006-01-01 00:00:00'), 'country': 'USA', 'subtype': 'H16N3', 'state': 'Delaware', 'host_species': 'Shorebird/Avian'})\n",
      "('A/Kowloon/INS625/2011', {'reassortant': False, 'collection_date': Timestamp('2011-01-27 00:00:00'), 'country': 'China', 'subtype': 'H1N1', 'state': 'Kowloon', 'host_species': 'Human'})\n"
     ]
    }
   ],
   "source": [
    "# What are the isolates that are not conneced in the big massive graph?\n",
    "\n",
    "for g in subgraphs:\n",
    "    if len(g.nodes()) < 5:\n",
    "        for n in g.nodes():\n",
    "            print(n, g.node[n])"
   ]
  },
  {
   "cell_type": "code",
   "execution_count": 65,
   "metadata": {
    "collapsed": false
   },
   "outputs": [
    {
     "data": {
      "text/plain": [
       "['A/ruddy turnstone/New Jersey/471606/2001',\n",
       " 'A/shorebird/Delaware Bay/284/1999',\n",
       " 'A/ruddy turnstone/Delaware Bay/149/1999',\n",
       " 'A/shorebird/Delaware Bay/273/1999']"
      ]
     },
     "execution_count": 65,
     "metadata": {},
     "output_type": "execute_result"
    }
   ],
   "source": [
    "[n for n in G.nodes() if G.node[n]['subtype'] == 'H11N7']"
   ]
  },
  {
   "cell_type": "code",
   "execution_count": 66,
   "metadata": {
    "collapsed": false
   },
   "outputs": [
    {
     "data": {
      "text/plain": [
       "('A/mallard/Interior Alaska/6MP0160AR1/2006',\n",
       " {'collection_date': Timestamp('2006-08-12 00:00:00'),\n",
       "  'country': 'USA',\n",
       "  'host_species': 'Mallard/Avian',\n",
       "  'reassortant': False,\n",
       "  'state': 'Interior Alaska',\n",
       "  'subtype': 'H3N8'})"
      ]
     },
     "execution_count": 66,
     "metadata": {},
     "output_type": "execute_result"
    }
   ],
   "source": [
    "# Data Dump\n",
    "G.nodes(data=True)[0]"
   ]
  },
  {
   "cell_type": "code",
   "execution_count": 67,
   "metadata": {
    "collapsed": false
   },
   "outputs": [],
   "source": [
    "import pandas as pd\n",
    "\n",
    "# Node List Dump\n",
    "node_list = []\n",
    "for n, d in G.nodes(data=True):\n",
    "    data = dict()\n",
    "    data['strain_name'] = n\n",
    "    for k, v in d.items():\n",
    "        data[k] = v\n",
    "        \n",
    "    node_list.append(data)\n",
    "    \n",
    "pd.DataFrame(node_list).to_csv('20141103 All IRD Node List.csv')"
   ]
  },
  {
   "cell_type": "code",
   "execution_count": 68,
   "metadata": {
    "collapsed": false
   },
   "outputs": [
    {
     "data": {
      "text/plain": [
       "('A/mallard/Interior Alaska/6MP0160AR1/2006',\n",
       " 'A/green-winged teal/Interior Alaska/6MP1077/2006',\n",
       " {'edge_type': 'full_complement',\n",
       "  'pwi': 7.7231860000000001,\n",
       "  'segments': {1: 0.99085800000000002,\n",
       "   2: 0.88994799999999996,\n",
       "   3: 0.90987300000000004,\n",
       "   4: 0.99942500000000001,\n",
       "   5: 0.93408000000000002,\n",
       "   6: 1.0,\n",
       "   7: 0.99900199999999995,\n",
       "   8: 1.0}})"
      ]
     },
     "execution_count": 68,
     "metadata": {},
     "output_type": "execute_result"
    }
   ],
   "source": [
    "# Edge List Dump\n",
    "G.edges(data=True)[0]"
   ]
  },
  {
   "cell_type": "code",
   "execution_count": 69,
   "metadata": {
    "collapsed": false
   },
   "outputs": [],
   "source": [
    "edge_list = []\n",
    "for sc, sk, d in G.edges(data=True):\n",
    "    data = dict()\n",
    "    data['source'] = sc\n",
    "    data['sink'] = sk\n",
    "    for k, v in d.items():\n",
    "        if isinstance(v, dict):\n",
    "            for s, p in v.items():\n",
    "                data['segment{0}'.format(s)] = p\n",
    "        else:\n",
    "            data[k] = v\n",
    "    edge_list.append(data)\n",
    "    \n",
    "pd.DataFrame(edge_list).to_csv('20141103 All IRD Edge List.csv')"
   ]
  },
  {
   "cell_type": "code",
   "execution_count": 70,
   "metadata": {
    "collapsed": false
   },
   "outputs": [],
   "source": [
    "# Subgraph diameters\n",
    "# NOTE: This cell takes quite a bit of time to run!\n",
    "# fullGdiameters = [nx.diameter(g) for g in fullGsubgraphs]"
   ]
  },
  {
   "cell_type": "code",
   "execution_count": 71,
   "metadata": {
    "collapsed": false
   },
   "outputs": [],
   "source": [
    "# fullGdiameter_counter = Counter(fullGdiameters)\n",
    "# plt.bar(fullGdiameter_counter.keys(), fullGdiameter_counter.values())\n",
    "# plt.xlabel('Graph Diameter')\n",
    "# plt.ylabel('Count')\n",
    "# plt.title('Histogram of Subgraph Diameters \\n in Full Complement Graph')\n",
    "# plt.savefig('Full Complement Graph Diameter Distribution.pdf', bbox_inches='tight')"
   ]
  },
  {
   "cell_type": "code",
   "execution_count": 72,
   "metadata": {
    "collapsed": false
   },
   "outputs": [],
   "source": [
    "# For further analysis, write the subgraphs to disk\n",
    "# if os.getcwd().split('/')[-1] == 'All_IRD_Analysis_Run2':\n",
    "#     os.chdir('subgraph_pkl')\n",
    "\n",
    "# for i, g in enumerate(subgraphs):\n",
    "#     nx.write_gpickle(G.subgraph(g.nodes()), 'subgraph{0}.pkl'.format(i))\n",
    "    \n",
    "    \n",
    "# if os.getcwd().split('/')[-1] == 'subgraph_pkl':\n",
    "#     os.chdir('..')"
   ]
  },
  {
   "cell_type": "code",
   "execution_count": null,
   "metadata": {
    "collapsed": false
   },
   "outputs": [],
   "source": []
  }
 ],
 "metadata": {
  "kernelspec": {
   "display_name": "Python 2",
   "language": "python",
   "name": "python2"
  },
  "language_info": {
   "codemirror_mode": {
    "name": "ipython",
    "version": 2
   },
   "file_extension": ".py",
   "mimetype": "text/x-python",
   "name": "python",
   "nbconvert_exporter": "python",
   "pygments_lexer": "ipython2",
   "version": "2.7.9"
  }
 },
 "nbformat": 4,
 "nbformat_minor": 0
}
