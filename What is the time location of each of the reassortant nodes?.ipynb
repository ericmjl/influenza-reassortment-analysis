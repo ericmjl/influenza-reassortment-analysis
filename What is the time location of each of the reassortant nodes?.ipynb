{
 "cells": [
  {
   "cell_type": "code",
   "execution_count": 1,
   "metadata": {
    "collapsed": false
   },
   "outputs": [],
   "source": [
    "import pandas as pd\n",
    "import numpy as np\n",
    "import matplotlib.pyplot as plt\n",
    "import networkx as nx\n",
    "import brewer2mpl\n",
    "import colorsys\n",
    "import math\n",
    "import dendropy as dp\n",
    "import json\n",
    "\n",
    "from datetime import datetime\n",
    "from Bio import AlignIO, SeqIO\n",
    "from Bio.SeqRecord import SeqRecord\n",
    "from Bio.Seq import Seq\n",
    "from Levenshtein import distance\n",
    "from itertools import combinations, product, permutations\n",
    "from time import time\n",
    "from __future__ import division\n",
    "from collections import Counter, defaultdict\n",
    "from copy import deepcopy\n",
    "from random import shuffle, choice, sample\n",
    "from scipy.stats.mstats import mquantiles\n",
    "from scipy.stats import norm, expon, poisson, binom\n",
    "from scipy.misc import comb\n",
    "from IPython.display import Math\n",
    "from networkx.readwrite import json_graph \n",
    "\n",
    "%matplotlib inline"
   ]
  },
  {
   "cell_type": "code",
   "execution_count": 6,
   "metadata": {
    "collapsed": false
   },
   "outputs": [
    {
     "data": {
      "text/plain": [
       "575"
      ]
     },
     "execution_count": 6,
     "metadata": {},
     "output_type": "execute_result"
    }
   ],
   "source": [
    "G = nx.read_gpickle('20141103 All IRD Graph with Reassortants.pkl')\n",
    "\n",
    "reassortant_nodes = list()\n",
    "for source, sink, data in G.edges(data=True):\n",
    "    if data['edge_type'] == 'reassortant' and sink not in reassortant_nodes:\n",
    "        reassortant_nodes.append(sink)\n",
    "        \n",
    "len(reassortant_nodes)"
   ]
  },
  {
   "cell_type": "code",
   "execution_count": 11,
   "metadata": {
    "collapsed": false
   },
   "outputs": [
    {
     "data": {
      "text/plain": [
       "694"
      ]
     },
     "execution_count": 11,
     "metadata": {},
     "output_type": "execute_result"
    }
   ],
   "source": [
    "fullG = nx.read_gpickle('20141103 All IRD Parallel Transmission Graph Non-Same Subtypes Removed.pkl')\n",
    "subgraphs = {i:g for i, g in enumerate(nx.connected_component_subgraphs(fullG.to_undirected()))}\n",
    "len(subgraphs)"
   ]
  },
  {
   "cell_type": "code",
   "execution_count": 64,
   "metadata": {
    "collapsed": false
   },
   "outputs": [
    {
     "name": "stdout",
     "output_type": "stream",
     "text": [
      "191\n"
     ]
    }
   ],
   "source": [
    "roi = 9 # reassortant of interest\n",
    "def get_subgraph_idx(node, subgraphs_dictionary):\n",
    "    for i, g in subgraphs_dictionary.items():\n",
    "        if node in g.nodes():\n",
    "            return i\n",
    "        \n",
    "soi = get_subgraph_idx(reassortant_nodes[roi], subgraphs) # subgraph of interest \n",
    "print(soi)"
   ]
  },
  {
   "cell_type": "code",
   "execution_count": 78,
   "metadata": {
    "collapsed": false
   },
   "outputs": [
    {
     "name": "stdout",
     "output_type": "stream",
     "text": [
      "(220, 'A/Quebec/144180/2009', Timestamp('2009-01-01 00:00:00'))\n",
      "(233, 'A/New York/3201/2009', Timestamp('2009-01-01 00:00:00'))\n",
      "(256, 'A/New York/3257/2009', Timestamp('2009-01-01 00:00:00'))\n"
     ]
    }
   ],
   "source": [
    "for i, node in enumerate(reassortant_nodes):\n",
    "    soi = get_subgraph_idx(reassortant_nodes[i], subgraphs) # subgraph of interest \n",
    "    if soi == 3:\n",
    "        print(i, node, G.node[node]['collection_date'])"
   ]
  },
  {
   "cell_type": "code",
   "execution_count": 81,
   "metadata": {
    "collapsed": false
   },
   "outputs": [
    {
     "data": {
      "text/plain": [
       "'A/Quebec/144180/2009'"
      ]
     },
     "execution_count": 81,
     "metadata": {},
     "output_type": "execute_result"
    }
   ],
   "source": [
    "reassortant_nodes[220]"
   ]
  },
  {
   "cell_type": "code",
   "execution_count": 80,
   "metadata": {
    "collapsed": false
   },
   "outputs": [
    {
     "name": "stdout",
     "output_type": "stream",
     "text": [
      "(Timestamp('2009-01-01 00:00:00'), Timestamp('2014-04-09 00:00:00'))\n",
      "set(['H1N1'])\n",
      "2783\n"
     ]
    }
   ],
   "source": [
    "soi = 3\n",
    "def get_subgraph_time_range(g):\n",
    "    collection_dates = set()\n",
    "    \n",
    "    for node, data in g.nodes(data=True):\n",
    "        collection_dates.add(data['collection_date'])\n",
    "        \n",
    "    # collection_dates = sorted(list(collection_dates))\n",
    "    \n",
    "    return min(collection_dates), max(collection_dates)\n",
    "\n",
    "print(get_subgraph_time_range(subgraphs[soi]))\n",
    "\n",
    "def get_subgraph_subtype(g):\n",
    "    subtypes = set()\n",
    "    \n",
    "    for node, data in g.nodes(data=True):\n",
    "        subtypes.add(data['subtype'])\n",
    "        \n",
    "    return subtypes\n",
    "\n",
    "print(get_subgraph_subtype(subgraphs[soi]))\n",
    "\n",
    "print(len(subgraphs[soi].nodes()))"
   ]
  },
  {
   "cell_type": "code",
   "execution_count": 83,
   "metadata": {
    "collapsed": false
   },
   "outputs": [],
   "source": [
    "# Compute time deltas to the initial isolate.\n",
    "time_deltas = list()\n",
    "for node in reassortant_nodes:\n",
    "    idx = get_subgraph_idx(node, subgraphs)\n",
    "    \n",
    "    mintime = get_subgraph_time_range(subgraphs[idx])[0]\n",
    "    \n",
    "    collection_date = G.node[node]['collection_date']\n",
    "    \n",
    "    time_deltas.append(collection_date - mintime)"
   ]
  },
  {
   "cell_type": "code",
   "execution_count": 89,
   "metadata": {
    "collapsed": false
   },
   "outputs": [
    {
     "data": {
      "text/plain": [
       "(array([   0.,    0.,    0.,    0.,    0.,  575.,    0.,    0.,    0.,    0.]),\n",
       " array([-0.5, -0.4, -0.3, -0.2, -0.1,  0. ,  0.1,  0.2,  0.3,  0.4,  0.5]),\n",
       " <a list of 10 Patch objects>)"
      ]
     },
     "execution_count": 89,
     "metadata": {},
     "output_type": "execute_result"
    },
    {
     "data": {
      "image/png": "[encoded data removed]",
      "text/plain": [
       "<matplotlib.figure.Figure at 0x100734d50>"
      ]
     },
     "metadata": {},
     "output_type": "display_data"
    }
   ],
   "source": [
    "plt.hist([td.days for td in time_deltas])"
   ]
  },
  {
   "cell_type": "code",
   "execution_count": 88,
   "metadata": {
    "collapsed": false
   },
   "outputs": [
    {
     "data": {
      "text/plain": [
       "Counter({0: 575})"
      ]
     },
     "execution_count": 88,
     "metadata": {},
     "output_type": "execute_result"
    }
   ],
   "source": [
    "Counter([td.days for td in time_deltas])"
   ]
  },
  {
   "cell_type": "code",
   "execution_count": null,
   "metadata": {
    "collapsed": false
   },
   "outputs": [],
   "source": []
  }
 ],
 "metadata": {
  "kernelspec": {
   "display_name": "Python 2",
   "language": "python",
   "name": "python2"
  }
 },
 "nbformat": 4,
 "nbformat_minor": 0
}
