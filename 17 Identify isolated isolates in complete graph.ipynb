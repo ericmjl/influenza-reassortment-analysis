{
 "cells": [
  {
   "cell_type": "code",
   "execution_count": 1,
   "metadata": {
    "collapsed": true
   },
   "outputs": [],
   "source": [
    "import networkx as nx"
   ]
  },
  {
   "cell_type": "code",
   "execution_count": 2,
   "metadata": {
    "collapsed": true
   },
   "outputs": [],
   "source": [
    "G = nx.read_gpickle('20141103 All IRD Final Graph.pkl')"
   ]
  },
  {
   "cell_type": "code",
   "execution_count": 3,
   "metadata": {
    "collapsed": false
   },
   "outputs": [],
   "source": [
    "subgraphs = [g for g in nx.connected_component_subgraphs(G.to_undirected())]"
   ]
  },
  {
   "cell_type": "code",
   "execution_count": 8,
   "metadata": {
    "collapsed": false
   },
   "outputs": [
    {
     "name": "stdout",
     "output_type": "stream",
     "text": [
      "16512\n",
      "56\n",
      "['A/blue-winged teal/Wisconsin/134/1980']\n",
      "['A/glaucous-winged gull/Southeastern Alaska/9JR0822R0/2009']\n",
      "['A/ruddy turnstone/New Jersey/AI09-1144/2009']\n",
      "['A/blue-winged teal/Wisconsin/156/1980']\n",
      "[('A/equine/New York/VR-297/1983', 'A/equine/Kentucky/2/1980', {'segments': {1: 0.98869600000000002, 2: 0.98871500000000001, 3: 0.98997299999999999, 4: 0.98897299999999999, 5: 0.98292800000000002, 6: 0.985232, 7: 0.99491399999999997, 8: 0.98823499999999997}, 'edge_type': 'full_complement', 'pwi': 7.907665999999999})]\n",
      "['A/mallard/Saskatchewan/65/1981']\n",
      "['A/shorebird/Delaware Bay/284/1999']\n",
      "['A/mallard/Wisconsin/2080/1984']\n"
     ]
    }
   ],
   "source": [
    "for g in subgraphs:\n",
    "    if len(g.nodes()) < 2:\n",
    "        print(g.nodes())\n",
    "    if len(g.edges()) == 1:\n",
    "        print(g.edges(data=True))\n",
    "    if len(g.nodes()) > 2:\n",
    "        print(len(g.nodes()))"
   ]
  },
  {
   "cell_type": "code",
   "execution_count": 5,
   "metadata": {
    "collapsed": false
   },
   "outputs": [
    {
     "data": {
      "text/plain": [
       "16577"
      ]
     },
     "execution_count": 5,
     "metadata": {},
     "output_type": "execute_result"
    }
   ],
   "source": [
    "len(G)"
   ]
  },
  {
   "cell_type": "code",
   "execution_count": 13,
   "metadata": {
    "collapsed": false
   },
   "outputs": [
    {
     "data": {
      "text/plain": [
       "2017"
      ]
     },
     "execution_count": 13,
     "metadata": {},
     "output_type": "execute_result"
    }
   ],
   "source": [
    "len(set([e[1] for e in G.edges(data=True) if e[2]['edge_type'] == 'reassortant']))"
   ]
  },
  {
   "cell_type": "code",
   "execution_count": null,
   "metadata": {
    "collapsed": true
   },
   "outputs": [],
   "source": []
  }
 ],
 "metadata": {
  "kernelspec": {
   "display_name": "Python 2",
   "language": "python",
   "name": "python2"
  },
  "language_info": {
   "codemirror_mode": {
    "name": "ipython",
    "version": 2
   },
   "file_extension": ".py",
   "mimetype": "text/x-python",
   "name": "python",
   "nbconvert_exporter": "python",
   "pygments_lexer": "ipython2",
   "version": "2.7.9"
  }
 },
 "nbformat": 4,
 "nbformat_minor": 0
}
