{
 "cells": [
  {
   "cell_type": "code",
   "execution_count": 1,
   "metadata": {
    "collapsed": true
   },
   "outputs": [],
   "source": [
    "import networkx as nx"
   ]
  },
  {
   "cell_type": "code",
   "execution_count": 2,
   "metadata": {
    "collapsed": true
   },
   "outputs": [],
   "source": [
    "G = nx.read_gpickle('20141103 All IRD Final Graph.pkl')"
   ]
  },
  {
   "cell_type": "code",
   "execution_count": 3,
   "metadata": {
    "collapsed": false
   },
   "outputs": [],
   "source": [
    "subgraphs = [g for g in nx.connected_component_subgraphs(G.to_undirected())]"
   ]
  },
  {
   "cell_type": "code",
   "execution_count": 4,
   "metadata": {
    "collapsed": false
   },
   "outputs": [
    {
     "name": "stdout",
     "output_type": "stream",
     "text": [
      "16580\n",
      "56\n",
      "['A/blue-winged teal/Wisconsin/134/1980']\n",
      "['A/equine/Romania/1/1980']\n",
      "['A/mallard/Wisconsin/42/1981']\n",
      "['A/swine/Missouri/4296424/2006']\n",
      "['A/American green-winged teal/Illinois/11OS4814/2011']\n",
      "['A/ruddy turnstone/New Jersey/AI09-1144/2009']\n",
      "['A/blue-winged teal/Wisconsin/156/1980']\n",
      "[('A/equine/New York/VR-297/1983', 'A/equine/Kentucky/2/1980', {'segments': {1: 0.98869600000000002, 2: 0.98871500000000001, 3: 0.98997299999999999, 4: 0.98897299999999999, 5: 0.98292800000000002, 6: 0.985232, 7: 0.99491399999999997, 8: 0.98823499999999997}, 'edge_type': 'full_complement', 'pwi': 7.907665999999999})]\n",
      "['A/Bangkok/INS520/2010']\n",
      "['A/widgeon/Wisconsin/140/1980']\n",
      "['A/equine/Kentucky/4/1980']\n",
      "['A/northern pintail/Interior Alaska/10BM02561R0/2010']\n",
      "['A/mallard/Wisconsin/2080/1984']\n",
      "['A/swine/Missouri/2124514/2006']\n",
      "['A/shorebird/Delaware/168/06']\n",
      "['A/Kowloon/INS625/2011']\n"
     ]
    }
   ],
   "source": [
    "for g in subgraphs:\n",
    "    if len(g.nodes()) < 2:\n",
    "        print(g.nodes())\n",
    "    if len(g.edges()) == 1:\n",
    "        print(g.edges(data=True))\n",
    "    if len(g.nodes()) > 2:\n",
    "        print(len(g.nodes()))"
   ]
  },
  {
   "cell_type": "code",
   "execution_count": 5,
   "metadata": {
    "collapsed": false
   },
   "outputs": [
    {
     "data": {
      "text/plain": [
       "16653"
      ]
     },
     "execution_count": 5,
     "metadata": {},
     "output_type": "execute_result"
    }
   ],
   "source": [
    "len(G)"
   ]
  },
  {
   "cell_type": "code",
   "execution_count": 6,
   "metadata": {
    "collapsed": false
   },
   "outputs": [
    {
     "data": {
      "text/plain": [
       "2106"
      ]
     },
     "execution_count": 6,
     "metadata": {},
     "output_type": "execute_result"
    }
   ],
   "source": [
    "len(set([e[1] for e in G.edges(data=True) if e[2]['edge_type'] == 'reassortant']))"
   ]
  },
  {
   "cell_type": "code",
   "execution_count": null,
   "metadata": {
    "collapsed": true
   },
   "outputs": [],
   "source": []
  }
 ],
 "metadata": {
  "kernelspec": {
   "display_name": "Python 2",
   "language": "python",
   "name": "python2"
  },
  "language_info": {
   "codemirror_mode": {
    "name": "ipython",
    "version": 2
   },
   "file_extension": ".py",
   "mimetype": "text/x-python",
   "name": "python",
   "nbconvert_exporter": "python",
   "pygments_lexer": "ipython2",
   "version": "2.7.9"
  }
 },
 "nbformat": 4,
 "nbformat_minor": 0
}
