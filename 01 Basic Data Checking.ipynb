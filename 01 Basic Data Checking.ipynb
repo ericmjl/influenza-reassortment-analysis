{
 "cells": [
  {
   "cell_type": "markdown",
   "metadata": {},
   "source": [
    "# Create Network Version w/o Reassortant Edges\n",
    "\n",
    "11 February 2015 10:48:AM\n",
    "\n",
    "I once did a comparison of the networks with and without reassortant edges. The conclusions were that the reassortant edges connect the various subtypes in a global network of gene exchange. Since in the 2nd graph construction run I did not have a step where I arbitrarily cutoff the network at 7.0, but instead did a lowest 10% re-look for edges, the full complement graph will look different from the 1st run, but I think the conclusions remain the same. That said, I will use this notebook to create a version of the `Final Graph` without reassortant edges."
   ]
  },
  {
   "cell_type": "code",
   "execution_count": 1,
   "metadata": {
    "collapsed": false
   },
   "outputs": [],
   "source": [
    "import networkx as nx"
   ]
  },
  {
   "cell_type": "code",
   "execution_count": 2,
   "metadata": {
    "collapsed": false
   },
   "outputs": [],
   "source": [
    "G = nx.read_gpickle('20141103 All IRD Final Graph.pkl')"
   ]
  },
  {
   "cell_type": "code",
   "execution_count": 3,
   "metadata": {
    "collapsed": false
   },
   "outputs": [],
   "source": [
    "fullG = G.copy()\n",
    "\n",
    "for sc, sk, d in fullG.edges(data=True):\n",
    "    if d['edge_type'] == 'reassortant':\n",
    "        fullG.remove_edge(sc, sk)\n",
    "        \n",
    "nx.write_gpickle(fullG, '20141103 All IRD Full Complement Only Graph.pkl')"
   ]
  },
  {
   "cell_type": "markdown",
   "metadata": {},
   "source": [
    "# Check Subtype Edges\n",
    "\n",
    "11 February 2015 11:05:AM\n",
    "\n",
    "Just to make sure that the graph is done correctly, I will make sure that the edges between two nodes have the same HA or NA (reassortant) or both (full complement)."
   ]
  },
  {
   "cell_type": "code",
   "execution_count": 4,
   "metadata": {
    "collapsed": false
   },
   "outputs": [],
   "source": [
    "# Check full edges\n",
    "for sc, sk, d in G.edges(data=True):\n",
    "    if d['edge_type'] == 'full_complement':\n",
    "        sc_subtype = G.node[sc]['subtype']\n",
    "        sk_subtype = G.node[sk]['subtype']\n",
    "        \n",
    "        mixed = ['mixed', 'Mixed']\n",
    "        if sc_subtype != sk_subtype and sc_subtype not in mixed and sk_subtype not in mixed:\n",
    "            print(sc_subtype, sk_subtype, sc, sk) # nothing should be printed. "
   ]
  },
  {
   "cell_type": "code",
   "execution_count": 5,
   "metadata": {
    "collapsed": false
   },
   "outputs": [],
   "source": [
    "# Define a function to remove all in_edges from a node.\n",
    "def remove_in_edges(G, node):\n",
    "    for sc, sk in G.in_edges(node):\n",
    "        if (sc, sk) in G.edges():\n",
    "            G.remove_edge(sc, sk)"
   ]
  },
  {
   "cell_type": "code",
   "execution_count": 6,
   "metadata": {
    "collapsed": false
   },
   "outputs": [],
   "source": [
    "# Check reassortant edges\n",
    "for sc, sk, d in G.edges(data=True):\n",
    "    if d['edge_type'] == 'reassortant':\n",
    "        sc_subtype = G.node[sc]['subtype']\n",
    "        sk_subtype = G.node[sk]['subtype']\n",
    "        \n",
    "        mixed = ['mixed', 'Mixed']\n",
    "        \n",
    "        if sc_subtype not in mixed and sk_subtype not in mixed:\n",
    "            sc_ha = sc_subtype.split('N')[0].split('H')[1]\n",
    "            sk_ha = sk_subtype.split('N')[0].split('H')[1]\n",
    "            \n",
    "            sc_na = sc_subtype.split('N')[1]\n",
    "            sk_na = sk_subtype.split('N')[1]\n",
    "            \n",
    "            if 4 in d['segments'].keys() and sc_ha != sk_ha:\n",
    "                print(sc, sk, sc_subtype, sk_subtype, d['segments'][4]) # nothing should be printed\n",
    "                remove_in_edges(G, sk)\n",
    "                \n",
    "            if 6 in d['segments'].keys() and sc_na != sk_na:\n",
    "                print(sc, sk, sc_na, sk_na, d['segments'][6]) # nothing should be printed\n",
    "                remove_in_edges(G, sk)"
   ]
  },
  {
   "cell_type": "markdown",
   "metadata": {},
   "source": [
    "# Check to see if a particular field is missing in the nodes metadata."
   ]
  },
  {
   "cell_type": "code",
   "execution_count": 7,
   "metadata": {
    "collapsed": false
   },
   "outputs": [],
   "source": [
    "for n, d in G.nodes(data=True):\n",
    "    if 'collection_date' not in d.keys():\n",
    "        print(n)"
   ]
  },
  {
   "cell_type": "markdown",
   "metadata": {},
   "source": [
    "# Check to make sure that all sink nodes occur after source nodes."
   ]
  },
  {
   "cell_type": "code",
   "execution_count": 8,
   "metadata": {
    "collapsed": false
   },
   "outputs": [],
   "source": [
    "counter = 0\n",
    "for sc, sk, d in G.edges(data=True):\n",
    "    sc_time = G.node[sc]['collection_date']\n",
    "    sk_time = G.node[sk]['collection_date']\n",
    "    \n",
    "    if sk_time <= sc_time:\n",
    "        print(sc_time, sk_time)\n",
    "        counter += 1"
   ]
  },
  {
   "cell_type": "markdown",
   "metadata": {},
   "source": [
    "# Check to make sure that there are no zero-pwi edges"
   ]
  },
  {
   "cell_type": "code",
   "execution_count": 9,
   "metadata": {
    "collapsed": false
   },
   "outputs": [],
   "source": [
    "for sc, sk, d in G.edges(data=True):\n",
    "    if d['pwi'] == 0:\n",
    "        print(sc, sk, d)"
   ]
  },
  {
   "cell_type": "code",
   "execution_count": null,
   "metadata": {
    "collapsed": false
   },
   "outputs": [],
   "source": []
  },
  {
   "cell_type": "code",
   "execution_count": null,
   "metadata": {
    "collapsed": false
   },
   "outputs": [],
   "source": []
  },
  {
   "cell_type": "code",
   "execution_count": null,
   "metadata": {
    "collapsed": false
   },
   "outputs": [],
   "source": []
  },
  {
   "cell_type": "code",
   "execution_count": null,
   "metadata": {
    "collapsed": false
   },
   "outputs": [],
   "source": []
  }
 ],
 "metadata": {
  "kernelspec": {
   "display_name": "Python 2",
   "language": "python",
   "name": "python2"
  },
  "language_info": {
   "codemirror_mode": {
    "name": "ipython",
    "version": 2
   },
   "file_extension": ".py",
   "mimetype": "text/x-python",
   "name": "python",
   "nbconvert_exporter": "python",
   "pygments_lexer": "ipython2",
   "version": "2.7.9"
  }
 },
 "nbformat": 4,
 "nbformat_minor": 0
}
