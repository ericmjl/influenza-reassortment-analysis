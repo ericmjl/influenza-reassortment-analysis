{
 "cells": [
  {
   "cell_type": "code",
   "execution_count": 1,
   "metadata": {
    "collapsed": false
   },
   "outputs": [],
   "source": [
    "import networkx as nx"
   ]
  },
  {
   "cell_type": "code",
   "execution_count": 10,
   "metadata": {
    "collapsed": false
   },
   "outputs": [
    {
     "data": {
      "text/plain": [
       "('A/mallard/Interior Alaska/6MP0160AR1/2006',\n",
       " {'collection_date': Timestamp('2006-08-12 00:00:00'),\n",
       "  'country': 'USA',\n",
       "  'host_species': 'Mallard/Avian',\n",
       "  'state': 'Interior Alaska',\n",
       "  'subtype': 'H3N8'})"
      ]
     },
     "execution_count": 10,
     "metadata": {},
     "output_type": "execute_result"
    }
   ],
   "source": [
    "G = nx.read_gpickle('20141103 All IRD Final Graph.pkl')\n",
    "G.nodes(data=True)[0]"
   ]
  },
  {
   "cell_type": "code",
   "execution_count": 11,
   "metadata": {
    "collapsed": false
   },
   "outputs": [],
   "source": [
    "# Add reassortant status for each node.\n",
    "for n, d in G.nodes(data=True):\n",
    "    in_edge_types = set([d['edge_type'] for sc, sk, d in G.in_edges(n, data=True)])\n",
    "    if 'reassortant' in in_edge_types:\n",
    "        G.node[n]['reassortant'] = True\n",
    "    elif 'full_complement' in in_edge_types:\n",
    "        G.node[n]['reassortant'] = False\n",
    "    else:\n",
    "        G.node[n]['reassortant'] = False"
   ]
  },
  {
   "cell_type": "code",
   "execution_count": 13,
   "metadata": {
    "collapsed": false
   },
   "outputs": [],
   "source": [
    "h3n2s = [n for n, d in G.nodes(data=True) if d['subtype'] == 'H3N2']\n",
    "reassortant_h3n2s = [n for n, d in G.nodes(data=True) if d['subtype'] == 'H3N2' and d['reassortant'] == True]"
   ]
  },
  {
   "cell_type": "code",
   "execution_count": 19,
   "metadata": {
    "collapsed": false
   },
   "outputs": [
    {
     "name": "stdout",
     "output_type": "stream",
     "text": [
      "('A/swine/Kansas/10-91088/2010', ['A/swine/Kansas/11-101926/2011', 'A/swine/Kansas/11-104467/2011', 'A/swine/Kansas/11-110529/2011', 'A/swine/Texas/A01049555/2011', 'A/swine/Texas/A01049556/2011', 'A/swine/Kansas/11-104465/2011', 'A/swine/Iowa/A01049750/2011'])\n",
      "('A/American green-winged teal/Ohio/13OS2056/2013', [])\n",
      "('A/swine/Binh Duong/03_10/2010', [])\n",
      "('A/swine/Spain/82108/2007', ['A/swine/Italy/187969/2013'])\n",
      "('A/duck/Zhejiang/D13/2013', [])\n",
      "('A/environment/Ohio/994/2005', ['A/mallard/Quebec/11045/2006'])\n",
      "('A/mallard/Ohio/48/1986', ['A/swine/Texas/4199-2/1998'])\n",
      "('A/mallard/Ohio/11OS2141/2011', [])\n",
      "('A/mallard/Interior Alaska/6MP0991/2006', [])\n",
      "('A/swine/Brabant/1984', ['A/swine/Italy/15360-3/2001', 'A/swine/Italy/670/1987', 'A/swine/Papenburg/IDT12653/2010'])\n",
      "('A/mallard/Washington/44242-124/2006', ['A/mallard/Washington/20010-002/2006'])\n",
      "('A/blue-winged teal/Ohio/908/2002', ['A/American black duck/North Carolina/1321373/2004', 'A/mallard/MD/199/2003', 'A/mallard/MD/26/2003', 'A/chicken/PA/298101-4/2004'])\n",
      "('A/canine/Korea/VC123578/2012', [])\n",
      "('A/mallard/Wisconsin/11OS3408/2011', ['A/northern shoveler/Ohio/12OS5647/2012', 'A/black scoter/Wisconsin/11OS4260/2011'])\n",
      "('A/swine/Italy/187969/2013', ['A/swine/Italy/282811/2013'])\n",
      "('A/mallard/Interior Alaska/6MP0992/2006', [])\n",
      "('A/swine/Italy/15360-3/2001', ['A/swine/Italy/272121-1/2002', 'A/swine/Spain/42386/2002'])\n",
      "('A/Swine/Spain/SF32071/2007', [])\n",
      "('A/swine/Indiana/A00968344/2011', ['A/swine/Iowa/A01202889/2011'])\n",
      "('A/mallard/Wisconsin/2575/2009', ['A/mallard/Wisconsin/2719/2009'])\n",
      "('A/shorebird/Delaware Bay/214/1999', [])\n",
      "('A/shorebird/Delaware Bay/200/1999', [])\n",
      "('A/swine/Gent/96/2007', [])\n",
      "('A/shorebird/Delaware Bay/212/1999', [])\n",
      "('A/mallard/Wisconsin/1793/1983', [])\n",
      "('A/blue-winged teal/Wisconsin/13OS3463/2013', [])\n",
      "('A/shorebird/Delaware Bay/206/1999', [])\n",
      "('A/ruddy turnstone/Delaware Bay/170/1994', ['A/red knot/Delaware Bay/252/1994'])\n",
      "('A/swine/Guangxi/NS2783/2010', ['A/swine/Hong Kong/2503/2011', 'A/swine/Chonburi/NIAH106952-028/2011', 'A/swine/Chonburi/NIAH106952-026/2011', 'A/swine/Hong Kong/NS2439/2011', 'A/swine/Hong Kong/2857/2011'])\n",
      "('A/shorebird/Delaware Bay/106/1999', [])\n",
      "('A/mallard/Maryland/615/2005', [])\n",
      "('A/swine/Binh Duong/03_14/2010', [])\n",
      "('A/environment/Hunan/S4304/2011', ['A/duck/Zhejiang/6D4/2013', 'A/muscovy duck/Vietnam/LBM189/2012'])\n",
      "('A/mallard/Maryland/710/2005', [])\n",
      "('A/blue-winged teal/Wisconsin/634/1983', ['A/swan/Maryland/206/1986', 'A/mallard/Ohio/424/1988', 'A/mallard/Alberta/11/91', 'A/swine/Texas/4199-2/1998', 'A/chicken/Korea/MS96-CE6/1996'])\n",
      "('A/shorebird/Delaware Bay/210/1999', ['A/laughing gull/New York/AI00-470/2000'])\n",
      "('A/ruddy turnstone/Delaware Bay/136/1999', [])\n",
      "('A/mallard/Maryland/631/2005', [])\n",
      "('A/mallard/Wisconsin/2215/1984', [])\n",
      "('A/swine/Binh Duong/03_13/2010', [])\n",
      "('A/blue-winged teal/Ohio/31/1999', ['A/mallard/Maryland/252/2001', 'A/mallard/Alberta/212/2006', 'A/swine/Ontario/K01477/01', 'A/swine/Ontario/42729A/01', 'A/mallard/Maryland/302/2001', 'A/northern shoveler/California/HKWF1131/2007'])\n",
      "('A/swine/Udon Thani/NIAH464/2004', [])\n",
      "('A/muscovy duck/Vietnam/LBM189/2012', ['A/duck/Hunan/S1824/2012'])\n",
      "('A/mallard/Wisconsin/10OS2900/2010', [])\n",
      "('A/shorebird/Delaware Bay/195/1999', [])\n",
      "('A/mallard/Wisconsin/1746/1983', ['A/swan/Maryland/206/1986', 'A/pintail/Alberta/105/1991', 'A/mallard/Ohio/48/1986', 'A/chicken/Korea/MS96-CE6/1996'])\n",
      "('A/mallard/MN/380/1999', [])\n",
      "('A/swine/Minnesota/239105/2009', ['A/swine/Iowa/13C044/2013', 'A/swine/Iowa/A01049036/2010', 'A/swine/Iowa/13C019/2013', 'A/swine/Iowa/A01049035/2010', 'A/swine/Iowa/13C038/2013', 'A/swine/Pennsylvania/a01076502/2010', 'A/swine/Missouri/A01047969/2010', 'A/swine/Iowa/13C075/2013', 'A/swine/Iowa/A01049034/2010', 'A/swine/Iowa/13C020/2013', 'A/swine/Iowa/13C029/2013', 'A/swine/Iowa/A01202709/2011', 'A/swine/South Dakota/3/2012', 'A/turkey/Ontario/FAV-9/2011', 'A/swine/Pennsylvania/a01076503/2010'])\n",
      "('A/duck/Zhejiang/D11/2013', [])\n",
      "('A/shorebird/Delaware Bay/189/1999', [])\n",
      "('A/shorebird/Delaware Bay/120/1999', [])\n",
      "('A/shorebird/Delaware Bay/74/1999', [])\n",
      "('A/duck/Shanghai/C84/2009', ['A/environment/Hunan/S4304/2011', 'A/duck/Guangdong/W12/2011'])\n",
      "('A/mallard/Minnesota/199036/1999', ['A/ruddy turnstone/Delaware Bay/142/1999', 'A/ruddy turnstone/Delaware Bay/136/1999', 'A/mallard/MN/158/2000', 'A/shorebird/Delaware Bay/181/1999'])\n",
      "('A/mallard/Maryland/712/2005', [])\n",
      "('A/mallard/Maryland/691/2005', [])\n",
      "('A/shorebird/Delaware Bay/280/1999', [])\n",
      "('A/duck/Zhejiang/6D4/2013', [])\n",
      "('A/shorebird/Delaware Bay/64/1994', ['A/herring gull/Delaware Bay/106/1995', 'A/shorebird/Delaware Bay/206/1999', 'A/shorebird/Delaware Bay/210/1999', 'A/shorebird/Delaware Bay/123/1999', 'A/laughing gull/Delaware Bay/94/1995'])\n",
      "('A/shorebird/Delaware Bay/123/1999', [])\n",
      "('A/swine/Saraburi/NIAH107725-28/2008', ['A/swine/Saraburi/NIAH109713-36/2009'])\n",
      "('A/swine/England/87842/1990', ['A/swine/England/375017/1993'])\n",
      "('A/swine/Binh Duong/03_09/2010', [])\n",
      "('A/shorebird/Delaware Bay/485/2008', [])\n",
      "('A/environment/Ohio/1001/2005', ['A/mallard/Quebec/11040/2006', 'A/blue-winged teal/Wisconsin/3060/2009'])\n",
      "('A/swine/Binh Duong/03_06/2010', [])\n",
      "('A/swine/Minnesota/A01279722/2012', [])\n",
      "('A/Swine/Spain/80598LP1/2007', [])\n",
      "('A/swine/Binh Duong/03_08/2010', [])\n",
      "('A/shorebird/Delaware Bay/88/1999', [])\n",
      "('A/duck/Guangdong/W12/2011', [])\n",
      "('A/swine/Texas/4199-2/1998', ['A/Canada-NS/RV1536/2009', 'A/swine/MI/PU243/04', 'A/swine/North Carolina/2003', 'A/swine/Binh Doung/02_16/2010', 'A/swine/Minnesota/SG1176/2003', 'A/Quebec/144180/2009', 'A/Swine/Minnesota/593/99', 'A/New York/3201/2009', 'A/Amagasaki/2/2009', 'A/swine/South Dakota/SG1453/2003', 'A/swine/Colorado/02875/2009', 'A/Canada-ON/RV1529/2009', 'A/Mexico/InDRE4115/2009', 'A/New York/3240/2009', 'A/swine/North Carolina/47834/2000', 'A/swine/England/MD0040352R/2009', 'A/Duck/NC/91347/01', 'A/New York/96/2009', 'A/swine/Wisconsin/H02AS8/2002', 'A/Omsk/02/2009', 'A/swine/New Mexico/SG1158/2003', 'A/Amagasaki/1/2009', 'A/Canada-ON/RV1526/2009', 'A/swine/Nebraska/00188/2003', 'A/swine/Oklahoma/SG1216/2005', 'A/Canada-AB/RV1532/2009', 'A/Wisconsin/629-S0229/2009', 'A/swine/Mexico/Mich40/2010', 'A/Brazil/AVS05/2009', 'A/swine/Mexico/Mex50/2010', 'A/Yamaguchi/22/2009', 'A/swine/Shandong/811/2009', 'A/New York/3257/2009', 'A/swine/Mexico/Mex51/2010'])\n",
      "('A/shorebird/Delaware Bay/208/1999', [])\n",
      "('A/gadwall/Wisconsin/08OS2293/2008', [])\n",
      "('A/shorebird/Delaware Bay/215/1999', [])\n",
      "('A/swine/England/375017/1993', ['A/swine/England/90591/1997', 'A/swine/England/448813/1994', 'A/swine/England/425069/1994'])\n",
      "('A/ruddy turnstone/Delaware Bay/142/1999', [])\n",
      "('A/mallard/Maryland/681/2005', [])\n",
      "('A/swine/Nordkirchen/IDT1993/2003', [])\n",
      "('A/duck/Zhejiang/6D7/2013', [])\n",
      "('A/blue-winged teal/Wisconsin/11OS3052/2011', ['A/mallard/Wisconsin/11OS3106/2011', 'A/mallard/Wisconsin/11OS3092/2011'])\n",
      "('A/ruddy turnstone/Delaware Bay/81/1994', [])\n",
      "('A/mallard.Maryland/708/2005', [])\n",
      "('A/American green-winged teal/Wisconsin/08OS2291/2008', ['A/mallard/Minnesota/AI09-3228/2009'])\n",
      "('A/duck/Jiangsu/26/2004', ['A/ruddy shelduck/Mongolia/37/2005'])\n",
      "('A/shorebird/Delaware Bay/3/1994', ['A/herring gull/Delaware Bay/106/1995', 'A/shorebird/Delaware Bay/206/1999', 'A/shorebird/Delaware Bay/210/1999', 'A/shorebird/Delaware Bay/123/1999', 'A/laughing gull/Delaware Bay/94/1995'])\n",
      "('A/swine/Thailand/CU-S14252N/2014', [])\n",
      "('A/canine/Guangdong/1/2006', ['A/canine/Guangdong/2/2006'])\n"
     ]
    }
   ],
   "source": [
    "for n in reassortant_h3n2s:\n",
    "    successors = G.successors(n)\n",
    "    print(n, successors)"
   ]
  },
  {
   "cell_type": "code",
   "execution_count": null,
   "metadata": {
    "collapsed": false
   },
   "outputs": [],
   "source": []
  }
 ],
 "metadata": {
  "kernelspec": {
   "display_name": "Python 2",
   "language": "python",
   "name": "python2"
  },
  "language_info": {
   "codemirror_mode": {
    "name": "ipython",
    "version": 2
   },
   "file_extension": ".py",
   "mimetype": "text/x-python",
   "name": "python",
   "nbconvert_exporter": "python",
   "pygments_lexer": "ipython2",
   "version": "2.7.9"
  }
 },
 "nbformat": 4,
 "nbformat_minor": 0
}
