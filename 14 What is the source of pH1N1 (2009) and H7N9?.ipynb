{
 "cells": [
  {
   "cell_type": "code",
   "execution_count": 1,
   "metadata": {
    "collapsed": false
   },
   "outputs": [],
   "source": [
    "import networkx as nx"
   ]
  },
  {
   "cell_type": "code",
   "execution_count": 2,
   "metadata": {
    "collapsed": false
   },
   "outputs": [],
   "source": [
    "G = nx.read_gpickle('20141103 All IRD Final Graph.pkl')"
   ]
  },
  {
   "cell_type": "code",
   "execution_count": 3,
   "metadata": {
    "collapsed": false
   },
   "outputs": [],
   "source": [
    "for n, d in G.nodes(data=True):\n",
    "    in_edge_types = set([d['edge_type'] for sc, sk, d in G.in_edges(n, data=True)])\n",
    "    if 'reassortant' in in_edge_types:\n",
    "        G.node[n]['reassortant'] = True\n",
    "    elif 'full_complement' in in_edge_types:\n",
    "        G.node[n]['reassortant'] = False\n",
    "    else:\n",
    "        G.node[n]['reassortant'] = False\n",
    "        \n",
    "def is_reassortant(G, node):\n",
    "    return G.node[node]['reassortant']"
   ]
  },
  {
   "cell_type": "code",
   "execution_count": 6,
   "metadata": {
    "collapsed": false
   },
   "outputs": [],
   "source": [
    "h1n1s = [n for n, d in G.nodes(data=True) if d['reassortant'] == True and d['collection_date'].year == 2009 and d['subtype'] == 'H1N1']"
   ]
  },
  {
   "cell_type": "code",
   "execution_count": 32,
   "metadata": {
    "collapsed": false
   },
   "outputs": [
    {
     "name": "stdout",
     "output_type": "stream",
     "text": [
      "A/New York/3201/2009\n",
      "['A/swine/Texas/4199-2/1998', 'A/swine/Hong Kong/72/2007', 'A/swine/Hong Kong/1562/2005', 'A/swine/North Carolina/SG1170/2003', 'A/pintail/Alberta/140/1996', 'A/swine/North Carolina/47834/2000', 'A/swine/England/200276/1992']\n",
      "H3N2\n",
      "H1N1\n",
      "H1N2\n",
      "H1N1\n",
      "H1N1\n",
      "H1N1\n",
      "H1N1\n"
     ]
    }
   ],
   "source": [
    "i = 7\n",
    "print(h1n1s[i])\n",
    "print(G.predecessors(h1n1s[i]))\n",
    "\n",
    "for n in G.predecessors(h1n1s[i]):\n",
    "    print(G.node[n]['subtype'])"
   ]
  },
  {
   "cell_type": "code",
   "execution_count": 33,
   "metadata": {
    "collapsed": false
   },
   "outputs": [
    {
     "data": {
      "text/plain": [
       "{'edge_type': 'reassortant',\n",
       " 'pwi': 7.6282739999999993,\n",
       " 'segments': {1: 0.95833299999999999,\n",
       "  3: 0.94979100000000005,\n",
       "  4: 0.94708999999999999,\n",
       "  5: 0.95643599999999995}}"
      ]
     },
     "execution_count": 33,
     "metadata": {},
     "output_type": "execute_result"
    }
   ],
   "source": [
    "G.edge['A/swine/Hong Kong/1562/2005'][h1n1s[i]]"
   ]
  },
  {
   "cell_type": "code",
   "execution_count": null,
   "metadata": {
    "collapsed": false
   },
   "outputs": [],
   "source": []
  }
 ],
 "metadata": {
  "kernelspec": {
   "display_name": "Python 2",
   "language": "python",
   "name": "python2"
  },
  "language_info": {
   "codemirror_mode": {
    "name": "ipython",
    "version": 2
   },
   "file_extension": ".py",
   "mimetype": "text/x-python",
   "name": "python",
   "nbconvert_exporter": "python",
   "pygments_lexer": "ipython2",
   "version": "2.7.9"
  }
 },
 "nbformat": 4,
 "nbformat_minor": 0
}
